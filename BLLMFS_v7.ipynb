{
 "cells": [
  {
   "cell_type": "markdown",
   "id": "5cd9587c-633a-46e5-ad11-7da331993228",
   "metadata": {},
   "source": [
    "# 1 Understanding Large Language Models\n",
    "## 1.1 definitions\n",
    "![fig1-1](px/fig1-1.png)\n",
    "## 1.2 applications\n",
    "![fig1-2](px/fig1-2.png)\n",
    "## 1.3 build stages\n",
    "![fig1-3](px/fig1-3.png)\n",
    "- custom builds are good\n",
    "- pretraining (base model, ex: GPT-3) & fine-tuning (on labeled data)\n",
    "\t- _instruction_ finetuning vs _classification_ finetuning"
   ]
  },
  {
   "cell_type": "markdown",
   "id": "640f6718-d828-4b6a-9d26-ea15c83856f1",
   "metadata": {},
   "source": [
    "## 1.4 transformers\n",
    "![fig1-4](px/fig1-4.png)\n",
    "\n",
    "- \"attention is all you need\": [https://arxiv.org/abs/1706.03762]\n",
    "- encoder (lang -> vect), decoder (vect -> lang)\n",
    "- self-attention: weightings of tokens in sequence relative positioning\n",
    "\n",
    "![fig1-5](px/fig1-5.png)\n",
    "- BERT = transformer variant (bidirectional)\n",
    "\t- specializes in __masked word prediction__.\n",
    "\t- X (twitter) uses BERT to see toxic content.\n",
    "- GPTx = transformer variant\n",
    "\t- focuses on decoder --> designed for _generating_ texts.\n",
    " \n",
    "![fig1-6](px/fig1-6.png)\n",
    "- BERT and GPT are both good at __zero_shot__ & __few_shot__ learning."
   ]
  },
  {
   "cell_type": "markdown",
   "id": "319ae10c-d659-408c-a4d4-4ecacf473de3",
   "metadata": {},
   "source": [
    "## 1.5 datasets\n",
    "GPT3 training data:\n",
    "\n",
    "![table1-1](px/table1-1.png)"
   ]
  },
  {
   "cell_type": "markdown",
   "id": "fbfee605-f73c-48d9-9aa5-7d1d2d158c7a",
   "metadata": {},
   "source": [
    "## 1.6 GPT architecture\n",
    "- GPT stands for __Generative Pretrained Transformer__.\n",
    "- “Improving Language Understanding by Generative Pre-Training” [https://mng.bz/x2qg] by Radford et al. from OpenAI.\n",
    "- GPT-3 is a scaled-up version of this model that has more parameters and was trained on a larger dataset.\n",
    "- The original ChatGPT model was created by finetuning GPT-3 on a large instruction dataset using a method from __OpenAI’s InstructGPT__ paper (see chapter 7).\n",
    "- Next-word prediction is a form of __self-supervised learning__ (aka self-labeling). We don’t need to collect labels for the training data explicitly but can leverage the\n",
    "structure of the data itself: we can use the next word in a sentence or document as the label that the\n",
    "model is supposed to predict.\n",
    "- Since this allows us to create labels “on the fly,” it is possible to leverage massive unlabeled text datasets to train LLMs.\n",
    "\n",
    "![fig1-8](px/fig1-8.png)\n",
    "\n",
    "- The general GPT architecture is relatively simple. It’s just the decoder part without the encoder.\n",
    "- Since decoder-style models like GPT generate text by predicting text one word at a time, they are considered a type of __autoregressive model__. Autoregressive models\n",
    "incorporate their previous outputs as inputs for future predictions. \n",
    "- Architectures such as GPT-3 are significantly larger than the original transformer model. For instance, the original transformer repeated the encoder and decoder blocks six times. GPT-3 has 96 transformer layers and 175 billion parameters in total."
   ]
  },
  {
   "cell_type": "markdown",
   "id": "8a56952a-b9c5-4289-a8cd-1ca865026bce",
   "metadata": {},
   "source": [
    "## 1.7 building\n",
    "![fig1-9](px/fig1-9.png)"
   ]
  },
  {
   "cell_type": "markdown",
   "id": "9a2752c5-5581-4e74-999e-5535a1d284a9",
   "metadata": {},
   "source": [
    "# 2 Working with Text Data\n",
    "## 2.1 word embeddings\n",
    "- continuous-valued vectors\n",
    "- word level most common. sentence-, paragraph-, document-level embeds also used.\n",
    "- sentence- & paragraph-level embeds = popular for RAG.\n",
    "- RAG: combines text generation with retrieval (searching extern knowledge base)\n",
    "- word2vec\n",
    "- LLMs commonly build their own embeddings\n",
    "- dimensionality: smallest GPT2 = 768 dimensions; largest GPT-3 = 12288 dimensions."
   ]
  },
  {
   "cell_type": "code",
   "execution_count": 1,
   "id": "c8b65147-7149-4ee6-a62e-e3215da4d32c",
   "metadata": {},
   "outputs": [
    {
     "name": "stdout",
     "output_type": "stream",
     "text": [
      "#characters: 20480 \n",
      "\n",
      "I HAD always thought Jack Gisburn rather a cheap genius--though a good fellow enough--so it was no \n"
     ]
    }
   ],
   "source": [
    "with open(\"the-verdict.txt\", \"r\", encoding=\"utf-8\") as f:\n",
    "\traw_text = f.read()\n",
    "\n",
    "print(\"#characters:\", len(raw_text), \"\\n\")\n",
    "print(raw_text[:99])"
   ]
  },
  {
   "cell_type": "markdown",
   "id": "d264410e-a9ce-4437-9ddd-a4ac76d49462",
   "metadata": {},
   "source": [
    "## 2.2 tokenizing\n",
    "![fig2-4](px/fig2-4.png)\n",
    "- the-verdict.txt (https://en.wikisource.org/wiki/The_Verdict)\n",
    "- whitespace removal: depends on application"
   ]
  },
  {
   "cell_type": "code",
   "execution_count": 2,
   "id": "aaa582e4-2366-444e-a7a0-9d0a9a5ac27a",
   "metadata": {},
   "outputs": [
    {
     "name": "stdout",
     "output_type": "stream",
     "text": [
      "['hello', ' ', 'world,', ' ', 'this', ' ', 'is', ' ', 'a', ' ', 'test.']\n",
      "['hello', ' ', 'world', ',', '', ' ', 'this', ' ', 'is', ' ', 'a', ' ', 'test', '.', '']\n",
      "['hello', 'world', ',', 'this', 'is', 'a', 'test', '.']\n",
      "['Hello', ',', 'world', '.', 'Is', 'this', '--', 'a', 'test', '?']\n"
     ]
    }
   ],
   "source": [
    "# tokenization\n",
    "import re \n",
    "t = \"hello world, this is a test.\"\n",
    "print(re.split(r'(\\s)',t))\n",
    "\n",
    "# tokenization - splits on whitespaces, commas, periods\n",
    "print(re.split(r'([,.]|\\s)',t))\n",
    "\n",
    "# remove redundant whitespaces\n",
    "print([item for item in re.split(r'([,.]|\\s)',t) if item.strip()])\n",
    "\n",
    "# also handle \"?\", quote marks, double-dashes\n",
    "text = \"Hello, world. Is this-- a test?\"\n",
    "result = re.split(r'([,.:;?_!\"()\\']|--|\\s)', text)\n",
    "result = [item.strip() for item in result if item.strip()]\n",
    "print(result)"
   ]
  },
  {
   "cell_type": "markdown",
   "id": "1165c283-0a28-49aa-98f9-47cdc69f96f5",
   "metadata": {},
   "source": [
    "## 2.3 tokens to IDs\n",
    "- We previously tokenized a short story by Edith Wharton into individual tokens. Now we will convert these tokens from a Python string to an integer representation to produce __token IDs__. This is an intermediate step before converting token IDs into embedding vectors.\n",
    "- To map tokens into token IDs, we have to build a vocabulary. It defines how we map each unique word and special character to a unique integer.\n",
    "![fig2-6](px/fig2-6.png)"
   ]
  },
  {
   "cell_type": "code",
   "execution_count": 3,
   "id": "a040efc8-ac76-4d0c-978d-35eb8b4e3679",
   "metadata": {},
   "outputs": [
    {
     "name": "stdout",
     "output_type": "stream",
     "text": [
      "4649\n",
      "['I', 'HAD', 'always', 'thought', 'Jack', 'Gisburn', 'rather', 'a', 'cheap', 'genius']\n"
     ]
    }
   ],
   "source": [
    "# apply tokenizer to short story - answer should be 4649 tokens.\n",
    "preprocessed = re.split(r'([,.?_!\"()\\']|--|\\s)', raw_text)\n",
    "preprocessed = [item.strip() for item in preprocessed if item.strip()]\n",
    "print(len(preprocessed))\n",
    "print(preprocessed[:10])"
   ]
  },
  {
   "cell_type": "code",
   "execution_count": 4,
   "id": "6ffa1c25-f568-427a-9081-a4f08d345e7e",
   "metadata": {},
   "outputs": [
    {
     "name": "stdout",
     "output_type": "stream",
     "text": [
      "1159\n"
     ]
    }
   ],
   "source": [
    "# build list of unique tokens, sort by alpha. should be 1159 total.\n",
    "all_words = sorted(set(preprocessed))\n",
    "vocab_size = len(all_words)\n",
    "print(vocab_size)"
   ]
  },
  {
   "cell_type": "code",
   "execution_count": 5,
   "id": "5c470005-4652-44d4-8be6-8f599d0076c0",
   "metadata": {},
   "outputs": [
    {
     "name": "stdout",
     "output_type": "stream",
     "text": [
      "('!', 0)\n",
      "('\"', 1)\n",
      "(\"'\", 2)\n",
      "('(', 3)\n",
      "(')', 4)\n",
      "(',', 5)\n",
      "('--', 6)\n",
      "('.', 7)\n",
      "(':', 8)\n",
      "(';', 9)\n",
      "('?', 10)\n",
      "('A', 11)\n",
      "('Ah', 12)\n",
      "('Among', 13)\n",
      "('And', 14)\n",
      "('Are', 15)\n",
      "('Arrt', 16)\n",
      "('As', 17)\n",
      "('At', 18)\n",
      "('Be', 19)\n",
      "('Begin', 20)\n",
      "('Burlington', 21)\n",
      "('But', 22)\n",
      "('By', 23)\n",
      "('Carlo', 24)\n",
      "('Carlo;', 25)\n",
      "('Chicago', 26)\n",
      "('Claude', 27)\n",
      "('Come', 28)\n",
      "('Croft', 29)\n",
      "('Destroyed', 30)\n",
      "('Devonshire', 31)\n",
      "('Don', 32)\n",
      "('Dubarry', 33)\n",
      "('Emperors', 34)\n",
      "('Florence', 35)\n",
      "('For', 36)\n",
      "('Gallery', 37)\n",
      "('Gideon', 38)\n",
      "('Gisburn', 39)\n",
      "('Gisburns', 40)\n",
      "('Grafton', 41)\n",
      "('Greek', 42)\n",
      "('Grindle', 43)\n",
      "('Grindle:', 44)\n",
      "('Grindles', 45)\n",
      "('HAD', 46)\n",
      "('Had', 47)\n",
      "('Hang', 48)\n",
      "('Has', 49)\n",
      "('He', 50)\n"
     ]
    }
   ],
   "source": [
    "# print first 51 entries \n",
    "vocab = {token:integer for integer,token in enumerate(all_words)}\n",
    "for i, item in enumerate(vocab.items()):\n",
    "\tprint(item)\n",
    "\tif i >= 50:\n",
    "\t\tbreak"
   ]
  },
  {
   "cell_type": "markdown",
   "id": "085b8e69-b6d9-4936-adbe-079b7ff1bd0b",
   "metadata": {},
   "source": [
    "![fig2-8](px/fig2-8.png)"
   ]
  },
  {
   "cell_type": "code",
   "execution_count": 6,
   "id": "f81f9dff-9cdf-4990-befb-45b2bd34c1fa",
   "metadata": {},
   "outputs": [
    {
     "name": "stdout",
     "output_type": "stream",
     "text": [
      "[1, 58, 2, 872, 1013, 615, 541, 763, 5, 1155, 608, 5, 1, 69, 7, 39, 873, 1136, 773, 812, 7]\n",
      "\" It' s the last he painted, you know,\" Mrs. Gisburn said with pardonable pride.\n"
     ]
    }
   ],
   "source": [
    "class SimpleTokenizerV1:\n",
    "\n",
    "\tdef __init__(self, vocab):\n",
    "\t\t# store vocab as class attribute\n",
    "\t\tself.str_to_int = vocab \n",
    "\t\t# create inverse vocab: maps tokens back to orig text tokens\n",
    "\t\tself.int_to_str = {i:s for s,i in vocab.items()}#B\n",
    "\n",
    "\t# converts text --> token IDs\n",
    "\tdef encode(self, text):\n",
    "\t\tpreprocessed = re.split(r'([,.?_!\"()\\']|--|\\s)', text)\n",
    "\t\tpreprocessed = [\n",
    "\t\t\titem.strip() for item in preprocessed if item.strip()\n",
    "\t\t]\n",
    "\t\tids = [self.str_to_int[s] for s in preprocessed]\n",
    "\t\treturn ids\n",
    "\t\n",
    "\t# converts token IDs --> text\n",
    "\tdef decode(self, ids):\n",
    "\t\ttext = \" \".join([self.int_to_str[i] for i in ids])\n",
    "\t\t# replaces spaces before specified punctuation\n",
    "\t\ttext = re.sub(r'\\s+([,.?!\"()\\'])', r'\\1', text)\n",
    "\t\treturn text\n",
    "\n",
    "# tokenize a passage from the short story:\n",
    "tokenizer = SimpleTokenizerV1(vocab)\n",
    "text = \"\"\"\"It's the last he painted, you know,\" Mrs. Gisburn said with pardonable pride.\"\"\"\n",
    "ids = tokenizer.encode(text)\n",
    "print(ids)\n",
    "\n",
    "# turn these tokens back into text:\n",
    "print(tokenizer.decode(ids))"
   ]
  },
  {
   "cell_type": "code",
   "execution_count": 7,
   "id": "4c3c1a26-ba35-43dd-a731-dfb8674e29d5",
   "metadata": {},
   "outputs": [
    {
     "name": "stdout",
     "output_type": "stream",
     "text": [
      "sorry, but a word from this query is not in the vocabulary.\n"
     ]
    }
   ],
   "source": [
    "# apply to new sample, not in training set:\n",
    "# (\"Hello\" not in vocabulary - bounces out with an error.)\n",
    "try:\n",
    "    print(tokenizer.encode(\"Hello, do you like tea?\"))\n",
    "except Exception:\n",
    "    print(\"sorry, but a word from this query is not in the vocabulary.\")\n"
   ]
  },
  {
   "cell_type": "markdown",
   "id": "f7f72645-b0e0-4eb9-b974-48ac69b59ef1",
   "metadata": {},
   "source": [
    "## 2.4 special context tokens\n",
    "![fig2-9](px/fig2-9.png)\n",
    "- mods tokenizer to use a \"junk\" token for unknown words\n",
    "- mods tokenizer to add a token between unrelated texts (aka, between books)"
   ]
  },
  {
   "cell_type": "code",
   "execution_count": 8,
   "id": "ca7ed82c-e790-4417-b206-30baab1c3ab2",
   "metadata": {},
   "outputs": [
    {
     "name": "stdout",
     "output_type": "stream",
     "text": [
      "1161\n",
      "('younger', 1156)\n",
      "('your', 1157)\n",
      "('yourself', 1158)\n",
      "('<|endoftext|>', 1159)\n",
      "('<|unk|>', 1160)\n"
     ]
    }
   ],
   "source": [
    "# modify vocab to include \"junk\" and \"endoftext\" tokens. new vocab size should be 1161.\n",
    "all_tokens = sorted(list(set(preprocessed)))\n",
    "all_tokens.extend([\"<|endoftext|>\", \"<|unk|>\"])\n",
    "vocab = {token:integer for integer,token in enumerate(all_tokens)}\n",
    "print(len(vocab.items()))\n",
    "\n",
    "# last 5 entries of updated vocab:\n",
    "for i, item in enumerate(list(vocab.items())[-5:]):\n",
    "\tprint(item)"
   ]
  },
  {
   "cell_type": "code",
   "execution_count": 9,
   "id": "fb657372-a557-4b77-a4b0-06c3623456ff",
   "metadata": {},
   "outputs": [
    {
     "name": "stdout",
     "output_type": "stream",
     "text": [
      "Hello, do you like tea? <|endoftext|> In the sunlit terraces of the palace.\n",
      "[1160, 5, 362, 1155, 642, 1000, 10, 1159, 57, 1013, 981, 1009, 738, 1013, 1160, 7]\n",
      "I HAD always thought Jack Gisburn rather a cheap genius--though a good fellow enough--so it was no g\n"
     ]
    }
   ],
   "source": [
    "class SimpleTokenizerV2:\n",
    "\tdef __init__(self, vocab):\n",
    "\t\tself.str_to_int = vocab\n",
    "\t\tself.int_to_str = { i:s for s,i in vocab.items()}\n",
    "\n",
    "\tdef encode(self, text):\n",
    "\t\tpreprocessed = re.split(r'([,.?_!\"()\\']|--|\\s)', text)\n",
    "\t\tpreprocessed = [\n",
    "\t\t\titem.strip() for item in preprocessed if item.strip()\n",
    "\t\t]\n",
    "\t\t# replaces unknown words with junk token\n",
    "\t\tpreprocessed = [item if item in self.str_to_int\n",
    "\t\t\t\t\t\telse \"<|unk|>\" for item in preprocessed]\n",
    "\n",
    "\t\tids = [self.str_to_int[s] for s in preprocessed]\n",
    "\t\treturn ids\n",
    "\n",
    "\tdef decode(self, ids):\n",
    "\t\ttext = \" \".join([self.int_to_str[i] for i in ids])\n",
    "\t\t# replaces spaces before specified punctuation\n",
    "\t\ttext = re.sub(r'\\s+([,.?!\"()\\'])', r'\\1', text)\n",
    "\t\treturn raw_text\n",
    "\n",
    "# test using two text samples, concat'd with two unrelated sources\n",
    "text1 = \"Hello, do you like tea?\"\n",
    "text2 = \"In the sunlit terraces of the palace.\"\n",
    "text = \" <|endoftext|> \".join((text1, text2))\n",
    "print(text)\n",
    "\n",
    "tokenizer = SimpleTokenizerV2(vocab)\n",
    "print(tokenizer.encode(text))\n",
    "print(tokenizer.decode(tokenizer.encode(text))[:100])"
   ]
  },
  {
   "cell_type": "markdown",
   "id": "b53a1f07-d5c9-46b0-b94b-2ddef71de49d",
   "metadata": {},
   "source": [
    "## 2.5 byte pair encoding (bpe)\n",
    "- pip install tiktoken ([https://github.com/openai/tiktoken])\n",
    "- instantiate BPE tokenizer using GPT-2 encoding\n",
    "- endoftext token assigned to large id#\n",
    "- BPE tokenizer handles unknown words w/o errors\n",
    "\t- breaks unknowns into subwords or characters\n",
    "\t- BPE builds vocab by merging frequent chars into subwords & frequent subwords into words.\n",
    "\t- merge frequency handled by a cutoff variable.\n",
    "\n",
    "![fig2-11](px/fig2-11.png)"
   ]
  },
  {
   "cell_type": "code",
   "execution_count": 10,
   "id": "b08d29a2-b49d-4e7e-8a40-f99c5efe629f",
   "metadata": {},
   "outputs": [
    {
     "name": "stdout",
     "output_type": "stream",
     "text": [
      "tiktoken vers# 0.7.0\n",
      "encoded integers:\n",
      " [15496, 11, 466, 345, 588, 8887, 30, 220, 50256, 554, 262, 4252, 18250, 8812, 2114, 1659, 617, 34680, 27271, 13]\n",
      "decoded tokens:\n",
      " Hello, do you like tea? <|endoftext|> In the sunlit terracesof someunknownPlace.\n"
     ]
    }
   ],
   "source": [
    "from importlib.metadata import version\n",
    "import tiktoken\n",
    "print (\"tiktoken vers#\", version(\"tiktoken\"))\n",
    "\n",
    "tokenizer = tiktoken.get_encoding(\"gpt2\")\n",
    "\n",
    "text = (\n",
    "\"Hello, do you like tea? <|endoftext|> In the sunlit terraces\"\n",
    "\"of someunknownPlace.\")\n",
    "integers = tokenizer.encode(text, allowed_special={\"<|endoftext|>\"})\n",
    "print(\"encoded integers:\\n\",integers)\n",
    "\n",
    "strings = tokenizer.decode(integers)\n",
    "print(\"decoded tokens:\\n\",strings)"
   ]
  },
  {
   "cell_type": "markdown",
   "id": "e338fc77-14dc-4f72-b22b-a3c92d8ff892",
   "metadata": {},
   "source": [
    "## 2.6 data sampling - sliding window\n",
    "- build a data loader - fetches input-target pairs\n",
    "- tokenize 'the verdict' using BPE\n",
    "- build shifter\n",
    "- build loader that returns inputs & targets as Pytorch tensors\n",
    "- listing 2.5 --> listing26.py\n",
    "- listing 2.6 --> listing26.py\n",
    "- test with batch size = 1\n",
    "\t- returns tensor (input token IDs) and tensor (target token IDs)\n",
    "\t- max length = 4, so tensors contain 4 values each.\n",
    "\t- common to train LLMs with input sizes >= 256.\n",
    "\t- small batch sizes: less memory needed, but more noisy.\n",
    "- repeat test with batch size > 1\n",
    "\n",
    "![fig2-12](px/fig2-12.png)"
   ]
  },
  {
   "cell_type": "code",
   "execution_count": 11,
   "id": "8f0c791c-6a72-409c-b98e-2f9aaac1b476",
   "metadata": {},
   "outputs": [
    {
     "name": "stdout",
     "output_type": "stream",
     "text": [
      "5146\n",
      "x: [290, 4920, 2241, 287]\n",
      "y: [4920, 2241, 287, 257]\n",
      "[290] ----> 4920\n",
      "[290, 4920] ----> 2241\n",
      "[290, 4920, 2241] ----> 287\n",
      "[290, 4920, 2241, 287] ----> 257\n",
      " and ---->  established\n",
      " and established ---->  himself\n",
      " and established himself ---->  in\n",
      " and established himself in ---->  a\n"
     ]
    }
   ],
   "source": [
    "with open(\"the-verdict.txt\", \"r\", encoding=\"utf-8\") as f:\n",
    "\traw_text = f.read()\n",
    "enc_text = tokenizer.encode(raw_text)\n",
    "print(len(enc_text))\n",
    "enc_sample = enc_text[50:]\n",
    "\n",
    "# x,y = inputs shifted by one position.\n",
    "context_size = 4 #A\n",
    "x = enc_sample[:context_size]\n",
    "y = enc_sample[1:context_size+1]\n",
    "print(f\"x: {x}\")\n",
    "print(f\"y: {y}\")\n",
    "\n",
    "# create next-word prediction task\n",
    "for i in range(1, context_size+1):\n",
    "\tcontext = enc_sample[:i]\n",
    "\tdesired = enc_sample[i]\n",
    "\tprint(context, \"---->\", desired)\n",
    "\n",
    "# repeat prediction with token IDs converted to text\n",
    "for i in range(1, context_size+1):\n",
    "\tcontext = enc_sample[:i]\n",
    "\tdesired = enc_sample[i]\n",
    "\tprint(tokenizer.decode(context), \"---->\", tokenizer.decode([desired]))\n"
   ]
  },
  {
   "cell_type": "markdown",
   "id": "255097d3-9c38-46e1-b21a-306590efdb6a",
   "metadata": {},
   "source": [
    "- Now we need a data loader.\n",
    "\n",
    "![fig2-13](px/fig2-13.png)"
   ]
  },
  {
   "cell_type": "code",
   "execution_count": 12,
   "id": "6630353e-e7b9-4b43-be77-3360f6b96d5d",
   "metadata": {},
   "outputs": [],
   "source": [
    "# Pytorch data loader\n",
    "import torch\n",
    "from torch.utils.data import Dataset, DataLoader\n",
    "\n",
    "class GPTDatasetV1(Dataset):\n",
    "\tdef __init__(self, txt, tokenizer, max_length, stride):\n",
    "\t\tself.input_ids = []\n",
    "\t\tself.target_ids = []\n",
    "\t\ttoken_ids = tokenizer.encode(txt)\n",
    "\n",
    "\t\t# use sliding window to chunk book into overlapping sequences of max_length\n",
    "\t\tfor i in range(0, len(token_ids) - max_length, stride):\n",
    "\t\t\tinput_chunk  = token_ids[i:     i + max_length    ]\n",
    "\t\t\ttarget_chunk = token_ids[i + 1: i + max_length + 1]\n",
    "            \n",
    "\t\t\tself.input_ids.append(torch.tensor(input_chunk))\n",
    "\t\t\tself.target_ids.append(torch.tensor(target_chunk))\n",
    "\t\n",
    "\t# return total #rows in dataset\t\n",
    "\tdef __len__(self):\n",
    "\t\treturn len(self.input_ids)\n",
    "\t\n",
    "\t# return single row from dataset\n",
    "\tdef __getitem__(self, idx): #D\n",
    "\t\treturn self.input_ids[idx], self.target_ids[idx]\n",
    "\n",
    "def create_dataloader_v1(txt, batch_size=4, max_length=256, stride=128, shuffle=True, drop_last=True, num_workers=0):\n",
    "\ttokenizer = tiktoken.get_encoding(\"gpt2\") #init\n",
    "\tdataset = GPTDatasetV1(txt, tokenizer, max_length, stride) # create dataset\n",
    "\tdataloader = DataLoader(\n",
    "\t\tdataset,\n",
    "\t\tbatch_size=batch_size,\n",
    "\t\tshuffle=shuffle,\n",
    "\t\tdrop_last=drop_last, # drops last batch if shorter than batch_size\n",
    "\t\tnum_workers=0 # number of CPU processes\n",
    "\t\t)\n",
    "\treturn dataloader"
   ]
  },
  {
   "cell_type": "code",
   "execution_count": 13,
   "id": "f8a7925a-7dda-4721-bf17-08a73e034935",
   "metadata": {},
   "outputs": [
    {
     "name": "stdout",
     "output_type": "stream",
     "text": [
      "first batch:\n",
      " [tensor([[  40,  367, 2885, 1464]]), tensor([[ 367, 2885, 1464, 1807]])]\n"
     ]
    }
   ],
   "source": [
    "# test with batch size = 1, LLM context size = 4\n",
    "with open(\"the-verdict.txt\", \"r\", encoding=\"utf-8\") as f:\n",
    "\traw_text = f.read()\n",
    "\n",
    "dataloader = create_dataloader_v1(\n",
    "\traw_text, batch_size=1, max_length=4, stride=1, shuffle=False)\n",
    "\n",
    "data_iter = iter(dataloader) # convert to python iterator (uses python next function)\n",
    "first_batch = next(data_iter)\n",
    "print(\"first batch:\\n\",first_batch)"
   ]
  },
  {
   "cell_type": "markdown",
   "id": "6d2db393-df81-49ef-850e-1a1058d038eb",
   "metadata": {},
   "source": [
    "![fig2-14](px/fig2-14.png)"
   ]
  },
  {
   "cell_type": "code",
   "execution_count": 14,
   "id": "f2de4d20-9c52-4504-8d61-ce6f14561bae",
   "metadata": {},
   "outputs": [
    {
     "name": "stdout",
     "output_type": "stream",
     "text": [
      "Inputs:\n",
      " tensor([[   40,   367,  2885,  1464],\n",
      "        [ 1807,  3619,   402,   271],\n",
      "        [10899,  2138,   257,  7026],\n",
      "        [15632,   438,  2016,   257],\n",
      "        [  922,  5891,  1576,   438],\n",
      "        [  568,   340,   373,   645],\n",
      "        [ 1049,  5975,   284,   502],\n",
      "        [  284,  3285,   326,    11]])\n",
      "\n",
      "Targets:\n",
      " tensor([[  367,  2885,  1464,  1807],\n",
      "        [ 3619,   402,   271, 10899],\n",
      "        [ 2138,   257,  7026, 15632],\n",
      "        [  438,  2016,   257,   922],\n",
      "        [ 5891,  1576,   438,   568],\n",
      "        [  340,   373,   645,  1049],\n",
      "        [ 5975,   284,   502,   284],\n",
      "        [ 3285,   326,    11,   287]])\n"
     ]
    }
   ],
   "source": [
    "# 2nd batch output = shifted by one position\n",
    "# 'stride' sets number of positions to shift across batches.\n",
    "# repeat with batch size > 1\n",
    "dataloader = create_dataloader_v1(\n",
    "    raw_text, batch_size=8, max_length=4, stride=4, shuffle=False)\n",
    "data_iter = iter(dataloader)\n",
    "inputs, targets = next(data_iter)\n",
    "print(\"Inputs:\\n\", inputs)\n",
    "print(\"\\nTargets:\\n\", targets)"
   ]
  },
  {
   "cell_type": "markdown",
   "id": "3b3202b7-1dba-473c-acb0-43f58d5ef0f8",
   "metadata": {},
   "source": [
    "## 2.7 token embeddings\n",
    "- note: embeddings are init'd with random values.\n",
    "- embed layer has 6 rows (one per possible vocab token)\n",
    "- embed layer has 3 cols (one per embed dimension)\n",
    "- embed layers = better way of doing one-hot encoding followed by mat.mul. in a fully connected layer. [https://github.com/rasbt/LLMs-from-scratch/blob/main/ch02/03_bonus_embedding-vs-matmul/embeddings-and-linear-layers.ipynb]\n",
    "\n",
    "![fig2-15](px/fig2-15.png)"
   ]
  },
  {
   "cell_type": "code",
   "execution_count": 15,
   "id": "66697b21-2c80-4ec2-9c47-b05f1e0e2ad4",
   "metadata": {},
   "outputs": [
    {
     "name": "stdout",
     "output_type": "stream",
     "text": [
      "embedding layer weights:\n",
      " Parameter containing:\n",
      "tensor([[ 0.3374, -0.1778, -0.1690],\n",
      "        [ 0.9178,  1.5810,  1.3010],\n",
      "        [ 1.2753, -0.2010, -0.1606],\n",
      "        [-0.4015,  0.9666, -1.1481],\n",
      "        [-1.1589,  0.3255, -0.6315],\n",
      "        [-2.8400, -0.7849, -1.4096]], requires_grad=True)\n",
      "embeding layer weights, 4th row\n",
      " tensor([[-0.4015,  0.9666, -1.1481]], grad_fn=<EmbeddingBackward0>)\n"
     ]
    }
   ],
   "source": [
    "# token IDs -> embedding vector conversion - simple illustration\n",
    "input_ids = torch.tensor([2,3,5,1])\n",
    "vocab_size = 6\n",
    "output_dim = 3\n",
    "\n",
    "# create pytorch embed layer\n",
    "# use random seed of 123 for reproducability\n",
    "torch.manual_seed(123)\n",
    "embedding_layer = torch.nn.Embedding(vocab_size, output_dim)\n",
    "print(\"embedding layer weights:\\n\",embedding_layer.weight)\n",
    "\n",
    "# apply to a token ID - returns embed vector - should match 4th row of embed layer.\n",
    "print(\"embeding layer weights, 4th row\\n\",embedding_layer(torch.tensor([3])))"
   ]
  },
  {
   "cell_type": "markdown",
   "id": "445eb232-5aa6-444d-9136-75cc89544f2e",
   "metadata": {},
   "source": [
    "- EMBEDDING LAYERS VERSUS MATRIX MULTIPLICATION\n",
    "- The embedding layer approach described here is a more efficient way of doing __one-hot encoding__ followed by matrix multiplication in a __fully connected layer__ (see the GitHub at [https://mng.bz/ZEB5]). It can be seen as a neural network layer that can be optimized via backpropagation."
   ]
  },
  {
   "cell_type": "markdown",
   "id": "211fb0ba-847b-4e79-b693-15a6059d0398",
   "metadata": {},
   "source": [
    "## 2.8 encoding word positions\n",
    "- self-attention mech doesn't know how to handle positions or order.\n",
    "- position-aware embed types:\n",
    "\t- __relative__ position (aka distance btwn tokens)\n",
    "\t- __absolute__ position (specific positions in a sequence)\n",
    "- GPT uses absolute position embedding, optimized during training.\n",
    "- context_length = LLM's supportable input size.\n",
    "\n",
    "![fig2-17](px/fig2-17.png)\n",
    "\n",
    "![fig2-18](px/fig2-18.png)"
   ]
  },
  {
   "cell_type": "code",
   "execution_count": 16,
   "id": "56d021ec-4d50-48a9-8cb8-8dc759bb8981",
   "metadata": {},
   "outputs": [
    {
     "name": "stdout",
     "output_type": "stream",
     "text": [
      "Token IDs:\n",
      " tensor([[   40,   367,  2885,  1464],\n",
      "        [ 1807,  3619,   402,   271],\n",
      "        [10899,  2138,   257,  7026],\n",
      "        [15632,   438,  2016,   257],\n",
      "        [  922,  5891,  1576,   438],\n",
      "        [  568,   340,   373,   645],\n",
      "        [ 1049,  5975,   284,   502],\n",
      "        [  284,  3285,   326,    11]])\n",
      "\n",
      "Inputs shape:\n",
      " torch.Size([8, 4])\n"
     ]
    }
   ],
   "source": [
    "# new example: use 256 for output dim & 50257 (BPE tokenizer) for vocab size\n",
    "output_dim = 256\n",
    "vocab_size = 50257\n",
    "token_embedding_layer = torch.nn.Embedding(vocab_size, output_dim)\n",
    "\n",
    "# sample from dataloader - embed each token in each batch. \n",
    "# batch size = 8, 4 tokens each --> 8x4x256 result.\n",
    "max_length = 4\n",
    "dataloader = create_dataloader_v1(\n",
    "\traw_text, batch_size=8, max_length=max_length, stride=max_length, shuffle=False)\n",
    "data_iter = iter(dataloader)\n",
    "inputs, targets = next(data_iter)\n",
    "print(\"Token IDs:\\n\", inputs)\n",
    "print(\"\\nInputs shape:\\n\", inputs.shape)"
   ]
  },
  {
   "cell_type": "code",
   "execution_count": 17,
   "id": "c4e3b5d0-54af-40f9-bc2b-dedac56f5059",
   "metadata": {},
   "outputs": [
    {
     "name": "stdout",
     "output_type": "stream",
     "text": [
      "torch.Size([8, 4, 256])\n",
      "torch.Size([4, 256])\n",
      "torch.Size([8, 4, 256])\n"
     ]
    }
   ],
   "source": [
    "# use embed layer to embed token IDs to 256-d vector.\n",
    "token_embeddings = token_embedding_layer(inputs)\n",
    "print(token_embeddings.shape)\n",
    "\n",
    "# for GPT absolute encoding approach - create another embed layer with same dims\n",
    "context_length      = max_length\n",
    "pos_embedding_layer = torch.nn.Embedding(context_length, output_dim)\n",
    "pos_embeddings      = pos_embedding_layer(torch.arange(context_length))\n",
    "print(pos_embeddings.shape)\n",
    "\n",
    "# add positional embeddings to token embeddings\n",
    "input_embeddings = token_embeddings + pos_embeddings\n",
    "print(input_embeddings.shape)"
   ]
  },
  {
   "cell_type": "markdown",
   "id": "9fefed51-99a6-4d0c-85ec-b8fd2fd6a465",
   "metadata": {},
   "source": [
    "# 3 (Self) Attention Mechanisms\n",
    "- four variants to discuss:\n",
    "\t- simplified SA\n",
    "\t- SA\n",
    "\t- \"casual\" attention (considers only prev & crnt inputs in a sequence)\n",
    "\t- multihead attention (enables using info from multi representations)\n",
    "\n",
    "![fig3-2](px/fig3-2.png)\n",
    "\n",
    "## 3.1 long sequences\n",
    "- need context for translation. word-for-word matching not doable.\n",
    "- before transformers, RNNs were most popular encode-decode architecture for translations.\n",
    "- encoders & decoders use _hidden states_ (memory cell) to capture context info.\n",
    "- enc/dec RNN limitation: it relies solely on __entire__ current hidden state being available before passing to a decoder\n",
    "\n",
    "## 3.2 capturing data dependencies with attention mechanism\n",
    "\n",
    "Before transformer LLMs, it was common to use RNNs for language translation. RNNs work fine for translating short sentences but not for longer texts - they don’t have direct access to previous words in the input.\n",
    "\n",
    "RNNs must remember the entire encoded input in a single hidden state before passing it to the decoder.\n",
    "\n",
    "The Bahdanau attention mechanism modifies the encoder-decoder RNN - the decoder can select varying parts of the input sequence at each decoding step."
   ]
  },
  {
   "cell_type": "markdown",
   "id": "4a7a3b09-fee0-4020-8762-66cd85f51b57",
   "metadata": {},
   "source": [
    "## 3.3 self-attention\n",
    "- \"self\": ability to get weights from different positions in a single input sequence.\n",
    "- traditional attention: focused on relations between elements of two sequences.\n",
    "\n",
    "### 3.3.1 self attention - no trainable weights\n",
    "- \"x\" input sequence of \"T\" elements - text already converted to token embeddings.\n",
    "- each element corresponds to \"d\"-dimensioned vector for specific token.\n",
    "- goal: find context vectors z_i for each element x_i in input sequence.\n",
    "- more reading: dot products\n",
    "- normalize to get a total weight = 1.0"
   ]
  },
  {
   "cell_type": "code",
   "execution_count": 18,
   "id": "cddf500e-79b2-4520-9c21-69b99204a17e",
   "metadata": {},
   "outputs": [
    {
     "name": "stdout",
     "output_type": "stream",
     "text": [
      "tensor([0.9544, 1.4950, 1.4754, 0.8434, 0.7070, 1.0865])\n"
     ]
    }
   ],
   "source": [
    "# sample sequence, already converted to 3D vectors. (small to prevent line breaks.)\n",
    "import torch\n",
    "inputs = torch.tensor(\n",
    "[[0.43, 0.15, 0.89], # Your\n",
    "[0.55, 0.87, 0.66], # journey\n",
    "[0.57, 0.85, 0.64], # starts\n",
    "[0.22, 0.58, 0.33], # with\n",
    "[0.77, 0.25, 0.10], # one\n",
    "[0.05, 0.80, 0.55]] # step\n",
    ")\n",
    "\n",
    "# find \"w\" attention scores dot product of query (x_2) & every other input token.\n",
    "# 2nd token serves as the query.\n",
    "query = inputs[1]\n",
    "attn_scores_2 = torch.empty(inputs.shape[0])\n",
    "for i, x_i in enumerate(inputs):\n",
    "\tattn_scores_2[i] = torch.dot(x_i, query)\n",
    "print(attn_scores_2)"
   ]
  },
  {
   "cell_type": "markdown",
   "id": "293d3cb1-8fdd-4e10-a425-6e0b65a9f805",
   "metadata": {},
   "source": [
    "- The goal is to obtain attention weights that sum up to 1. This convention helps interpretation and maintaining training stability in an LLM. Here’s a straightforward method for achieving this normalization step."
   ]
  },
  {
   "cell_type": "code",
   "execution_count": 19,
   "id": "59d2ad9c-ab15-4163-a642-22763cb33c50",
   "metadata": {},
   "outputs": [
    {
     "name": "stdout",
     "output_type": "stream",
     "text": [
      "Attention weights: tensor([0.1455, 0.2278, 0.2249, 0.1285, 0.1077, 0.1656])\n",
      "Sum: tensor(1.0000)\n"
     ]
    }
   ],
   "source": [
    "attn_weights_2_tmp = attn_scores_2 / attn_scores_2.sum()\n",
    "print(\"Attention weights:\", attn_weights_2_tmp)\n",
    "print(\"Sum:\", attn_weights_2_tmp.sum())"
   ]
  },
  {
   "cell_type": "markdown",
   "id": "cf9499d9-9f87-4ede-938a-381854baa905",
   "metadata": {},
   "source": [
    "- In practice, it’s more common and advisable to use the softmax function for normalization. It's better at managing extreme values and has better gradient properties during training."
   ]
  },
  {
   "cell_type": "code",
   "execution_count": 20,
   "id": "2b82abff-adf5-4b5e-ae70-eb455c4b6fbb",
   "metadata": {},
   "outputs": [
    {
     "name": "stdout",
     "output_type": "stream",
     "text": [
      "Attention weights: tensor([0.1385, 0.2379, 0.2333, 0.1240, 0.1082, 0.1581])\n",
      "Sum: tensor(1.)\n"
     ]
    }
   ],
   "source": [
    "def softmax_naive(x):\n",
    "    return torch.exp(x) / torch.exp(x).sum(dim=0)\n",
    "\n",
    "attn_weights_2_naive = softmax_naive(attn_scores_2)\n",
    "print(\"Attention weights:\", attn_weights_2_naive)\n",
    "print(\"Sum:\", attn_weights_2_naive.sum())"
   ]
  },
  {
   "cell_type": "markdown",
   "id": "9bd98b07-e521-4cff-b844-f1fc05a1dbb3",
   "metadata": {},
   "source": [
    "- Softmax also ensures __attention weights are always positive__. This makes the output interpretable as probabilities or relative importance (higher weights = greater importance).\n",
    "- This naive softmax implementation may encounter overflow and underflow problems when dealing with large or small input values. __Use the PyTorch implementation__ of softmax."
   ]
  },
  {
   "cell_type": "code",
   "execution_count": 21,
   "id": "3c0abdb4-4259-47b8-bda0-e71663c51b49",
   "metadata": {},
   "outputs": [
    {
     "name": "stdout",
     "output_type": "stream",
     "text": [
      "Attention weights: tensor([0.1385, 0.2379, 0.2333, 0.1240, 0.1082, 0.1581])\n",
      "Sum: tensor(1.)\n"
     ]
    }
   ],
   "source": [
    "attn_weights_2 = torch.softmax(attn_scores_2, dim=0)\n",
    "print(\"Attention weights:\", attn_weights_2)\n",
    "print(\"Sum:\", attn_weights_2.sum())"
   ]
  },
  {
   "cell_type": "markdown",
   "id": "607f31f4-739c-489b-a309-59d969afac8d",
   "metadata": {},
   "source": [
    "- Calculating the __context vector__ z(2) by multiplying the __embedded input tokens__, x(i), with the corresponding __attention weights__ and then summing the resulting vectors."
   ]
  },
  {
   "cell_type": "code",
   "execution_count": 22,
   "id": "eb6a8eea-e206-4999-ba26-74a4a53b166d",
   "metadata": {},
   "outputs": [
    {
     "name": "stdout",
     "output_type": "stream",
     "text": [
      "tensor([0.4419, 0.6515, 0.5683])\n"
     ]
    }
   ],
   "source": [
    "query = inputs[1] # 2nd input token is the query\n",
    "context_vec_2 = torch.zeros(query.shape)\n",
    "for i,x_i in enumerate(inputs):\n",
    "    context_vec_2 += attn_weights_2[i]*x_i\n",
    "print(context_vec_2)"
   ]
  },
  {
   "cell_type": "markdown",
   "id": "ae559af1-e1b6-44f9-86df-ed6f85de9e91",
   "metadata": {},
   "source": [
    "### 3.3.2 - attention weights for all tokens"
   ]
  },
  {
   "cell_type": "code",
   "execution_count": 23,
   "id": "862211ec-11c1-427f-a5fc-2171c7ebacd2",
   "metadata": {},
   "outputs": [
    {
     "name": "stdout",
     "output_type": "stream",
     "text": [
      "tensor([[0.9995, 0.9544, 0.9422, 0.4753, 0.4576, 0.6310],\n",
      "        [0.9544, 1.4950, 1.4754, 0.8434, 0.7070, 1.0865],\n",
      "        [0.9422, 1.4754, 1.4570, 0.8296, 0.7154, 1.0605],\n",
      "        [0.4753, 0.8434, 0.8296, 0.4937, 0.3474, 0.6565],\n",
      "        [0.4576, 0.7070, 0.7154, 0.3474, 0.6654, 0.2935],\n",
      "        [0.6310, 1.0865, 1.0605, 0.6565, 0.2935, 0.9450]])\n"
     ]
    }
   ],
   "source": [
    "attn_scores = torch.empty(6, 6)\n",
    "for i, x_i in enumerate(inputs):\n",
    "    for j, x_j in enumerate(inputs):\n",
    "        attn_scores[i, j] = torch.dot(x_i, x_j)\n",
    "print(attn_scores)"
   ]
  },
  {
   "cell_type": "markdown",
   "id": "ff25fcdf-72e2-4198-bc77-597baaecd7cb",
   "metadata": {},
   "source": [
    "- Each element in the tensor is __an attention score between each pair of inputs__. We previously for-loops in Python. They are generally slow - get the same results using matrix multiplication:"
   ]
  },
  {
   "cell_type": "code",
   "execution_count": 24,
   "id": "02a8210e-2076-40de-80e7-98d748c13637",
   "metadata": {},
   "outputs": [
    {
     "name": "stdout",
     "output_type": "stream",
     "text": [
      "tensor([[0.9995, 0.9544, 0.9422, 0.4753, 0.4576, 0.6310],\n",
      "        [0.9544, 1.4950, 1.4754, 0.8434, 0.7070, 1.0865],\n",
      "        [0.9422, 1.4754, 1.4570, 0.8296, 0.7154, 1.0605],\n",
      "        [0.4753, 0.8434, 0.8296, 0.4937, 0.3474, 0.6565],\n",
      "        [0.4576, 0.7070, 0.7154, 0.3474, 0.6654, 0.2935],\n",
      "        [0.6310, 1.0865, 1.0605, 0.6565, 0.2935, 0.9450]])\n"
     ]
    }
   ],
   "source": [
    "attn_scores = inputs @ inputs.T\n",
    "print(attn_scores)"
   ]
  },
  {
   "cell_type": "code",
   "execution_count": 25,
   "id": "8ca56e74-4a16-453e-aea2-a596a4677074",
   "metadata": {},
   "outputs": [
    {
     "name": "stdout",
     "output_type": "stream",
     "text": [
      "tensor([[0.2098, 0.2006, 0.1981, 0.1242, 0.1220, 0.1452],\n",
      "        [0.1385, 0.2379, 0.2333, 0.1240, 0.1082, 0.1581],\n",
      "        [0.1390, 0.2369, 0.2326, 0.1242, 0.1108, 0.1565],\n",
      "        [0.1435, 0.2074, 0.2046, 0.1462, 0.1263, 0.1720],\n",
      "        [0.1526, 0.1958, 0.1975, 0.1367, 0.1879, 0.1295],\n",
      "        [0.1385, 0.2184, 0.2128, 0.1420, 0.0988, 0.1896]])\n"
     ]
    }
   ],
   "source": [
    "# normalize each row\n",
    "attn_weights = torch.softmax(attn_scores, dim=-1)\n",
    "print(attn_weights)"
   ]
  },
  {
   "cell_type": "markdown",
   "id": "c7c77d34-bb4f-47b2-9fe4-3fa0583da6f4",
   "metadata": {},
   "source": [
    "- The 'dim' parameter specifies the dimension of the input tensor along which the function will be computed. __dim=-1__ instructs softmax to apply the normalization along the __last dimension__ of the attn_scores tensor. If attn_scores is a 2D tensor (for example, with a shape of [rows,columns]), dim=-1 will normalize across the columns so that the values in each row (summing over the column dimension) sum up to 1.\n",
    "- Verify rows all sum to 1:"
   ]
  },
  {
   "cell_type": "code",
   "execution_count": 26,
   "id": "b384d7a1-7e18-40fc-9aa4-4ea5995cf233",
   "metadata": {},
   "outputs": [
    {
     "name": "stdout",
     "output_type": "stream",
     "text": [
      "Row 2 sum: 1.0\n",
      "All row sums: tensor([1.0000, 1.0000, 1.0000, 1.0000, 1.0000, 1.0000])\n"
     ]
    }
   ],
   "source": [
    "row_2_sum = sum([0.1385, 0.2379, 0.2333, 0.1240, 0.1082, 0.1581])\n",
    "print(\"Row 2 sum:\", row_2_sum)\n",
    "print(\"All row sums:\", attn_weights.sum(dim=-1))"
   ]
  },
  {
   "cell_type": "markdown",
   "id": "bf4e7718-642b-4599-a604-481ceb02dc47",
   "metadata": {},
   "source": [
    "- Use attention weights to compute all context vectors via matrix multiplication:"
   ]
  },
  {
   "cell_type": "code",
   "execution_count": 27,
   "id": "47bcc3d9-906a-4d7f-b737-da7361e244d4",
   "metadata": {},
   "outputs": [
    {
     "name": "stdout",
     "output_type": "stream",
     "text": [
      "tensor([[0.4421, 0.5931, 0.5790],\n",
      "        [0.4419, 0.6515, 0.5683],\n",
      "        [0.4431, 0.6496, 0.5671],\n",
      "        [0.4304, 0.6298, 0.5510],\n",
      "        [0.4671, 0.5910, 0.5266],\n",
      "        [0.4177, 0.6503, 0.5645]])\n"
     ]
    }
   ],
   "source": [
    "all_context_vecs = attn_weights @ inputs\n",
    "print(all_context_vecs)"
   ]
  },
  {
   "cell_type": "markdown",
   "id": "14340626-6321-424b-a1c7-6e126285b564",
   "metadata": {},
   "source": [
    "- Verify code is correct by comparing 2nd row with the context vector z(2) "
   ]
  },
  {
   "cell_type": "code",
   "execution_count": 28,
   "id": "1fac207c-faee-471c-8c30-f604e1c84371",
   "metadata": {},
   "outputs": [
    {
     "name": "stdout",
     "output_type": "stream",
     "text": [
      "Previous 2nd context vector: tensor([0.4419, 0.6515, 0.5683])\n"
     ]
    }
   ],
   "source": [
    "print(\"Previous 2nd context vector:\", context_vec_2)"
   ]
  },
  {
   "cell_type": "markdown",
   "id": "a38763c6-d868-4fcb-ab57-0e4fa12c0985",
   "metadata": {},
   "source": [
    "## 3.4 - attention with trainable weights\n",
    "- also called _scaled dot-product attention_.\n",
    "  self-attention mechanism with trainable weights builds on its predecessor: it __builds context vectors__ as weighted sums over the input vectors specific to a certain input element.\n",
    "- It introduces __weight matrices__ that are updated during training. They enable the model (specifically the attention module) to learn how to produce “good” context vectors."
   ]
  },
  {
   "cell_type": "markdown",
   "id": "7ee8cc81-66c6-4e02-bb09-74c9e5d1e5e8",
   "metadata": {},
   "source": [
    "### 3.4.1 - step by step\n",
    "- We will define __three trainable weight matrices__ Wq, Wk, and Wv. They are used to project the embedded input tokens, x(i), into query, key, and value vectors,"
   ]
  },
  {
   "cell_type": "markdown",
   "id": "0c95a828-6d47-4b8e-a4e3-d1fa91b0023a",
   "metadata": {},
   "source": [
    "- We earlier defined the second input element x(2) as the query when we computed simplified attention weights to find the context vector z(2).\n",
    "- Later we generalized this to find all context vectors z(1) ... z(T) for the six-word input sentence “Your journey starts with one step.”\n",
    "- Now, start by computing only one context vector, z(2), for illustration. Next we will modify the code to calculate all context vectors."
   ]
  },
  {
   "cell_type": "code",
   "execution_count": 29,
   "id": "19f21690-79f0-4493-9f1e-509b7efbc696",
   "metadata": {},
   "outputs": [],
   "source": [
    "x_2 = inputs[1] #2nd input element\n",
    "d_in = inputs.shape[1] #input embed size\n",
    "d_out = 2 # output embed size"
   ]
  },
  {
   "cell_type": "code",
   "execution_count": 30,
   "id": "51ea0a3f-3fbe-405c-b9f8-799563e079f3",
   "metadata": {},
   "outputs": [],
   "source": [
    "# initialize Wq, Wk, Wv\n",
    "torch.manual_seed(123)\n",
    "W_query = torch.nn.Parameter(torch.rand(d_in, d_out), requires_grad=False)\n",
    "W_key   = torch.nn.Parameter(torch.rand(d_in, d_out), requires_grad=False)\n",
    "W_value = torch.nn.Parameter(torch.rand(d_in, d_out), requires_grad=False)\n",
    "\n",
    "# requires_grad=False reduces clutter in the outputs. if using weight matrices for model training, set requires_grad=True."
   ]
  },
  {
   "cell_type": "code",
   "execution_count": 31,
   "id": "e1cb844b-f61c-4ef9-94ad-11d582db3e69",
   "metadata": {},
   "outputs": [
    {
     "name": "stdout",
     "output_type": "stream",
     "text": [
      "tensor([0.4306, 1.4551])\n"
     ]
    }
   ],
   "source": [
    "query_2 = x_2 @ W_query\n",
    "key_2   = x_2 @ W_key\n",
    "value_2 = x_2 @ W_value\n",
    "print(query_2)"
   ]
  },
  {
   "cell_type": "markdown",
   "id": "1bf130b2-4566-45d3-8194-0d664a70ec08",
   "metadata": {},
   "source": [
    "- Even though this goal is only to find one context vector, z(2), we still require the key and value vectors for all input elements. They are involved in computing the attention weights w.r.t. the query q(2). We can obtain all keys and values via matrix multiplication."
   ]
  },
  {
   "cell_type": "code",
   "execution_count": 32,
   "id": "d07d5c12-7fc3-4877-b0bc-c76bb4470e5d",
   "metadata": {},
   "outputs": [
    {
     "name": "stdout",
     "output_type": "stream",
     "text": [
      "keys.shape: torch.Size([6, 2])\n",
      "values.shape: torch.Size([6, 2])\n"
     ]
    }
   ],
   "source": [
    "# projects 6 input tokens from a 3D space into a 2D embedded space\n",
    "keys = inputs @ W_key\n",
    "values = inputs @ W_value\n",
    "print(\"keys.shape:\", keys.shape)\n",
    "print(\"values.shape:\", values.shape)"
   ]
  },
  {
   "cell_type": "code",
   "execution_count": 33,
   "id": "52421d73-125d-45f0-9ac8-9a9b10bf5cdf",
   "metadata": {},
   "outputs": [
    {
     "name": "stdout",
     "output_type": "stream",
     "text": [
      "tensor(1.8524)\n"
     ]
    }
   ],
   "source": [
    "# find attention score w_22\n",
    "keys_2        = keys[1]\n",
    "attn_score_22 = query_2.dot(keys_2)\n",
    "print(attn_score_22)"
   ]
  },
  {
   "cell_type": "code",
   "execution_count": 34,
   "id": "c61f2b1c-f2a5-4523-ab55-adf3390b4668",
   "metadata": {},
   "outputs": [
    {
     "name": "stdout",
     "output_type": "stream",
     "text": [
      "tensor([1.2705, 1.8524, 1.8111, 1.0795, 0.5577, 1.5440])\n"
     ]
    }
   ],
   "source": [
    "# generalize this step to all attention scores for a given query\n",
    "attn_scores_2 = query_2 @ keys.T\n",
    "print(attn_scores_2)"
   ]
  },
  {
   "cell_type": "markdown",
   "id": "c1398819-bec2-45e4-81a9-01ef63f25e81",
   "metadata": {},
   "source": [
    "- Third step: finding the attention weights by scaling the attention scores and using the softmax function. This time, __scale the attention scores__ by dividing them by the square root of the embedding dimension of the keys."
   ]
  },
  {
   "cell_type": "code",
   "execution_count": 35,
   "id": "4a7f24cc-64c9-4bcf-87e9-3f5a943b05bc",
   "metadata": {},
   "outputs": [
    {
     "name": "stdout",
     "output_type": "stream",
     "text": [
      "tensor([0.1500, 0.2264, 0.2199, 0.1311, 0.0906, 0.1820])\n"
     ]
    }
   ],
   "source": [
    "d_k = keys.shape[-1]\n",
    "attn_weights_2 = torch.softmax(attn_scores_2 / d_k**0.5, dim=-1)\n",
    "print(attn_weights_2)"
   ]
  },
  {
   "cell_type": "markdown",
   "id": "4cd0cc30-bd9f-463d-8f5b-07a8781b7bd3",
   "metadata": {},
   "source": [
    "#### SCALED-DOT PRODUCT ATTENTION\n",
    "\n",
    "- normalization by embedding dimension size __improves training performance by avoiding small gradients__. For instance, when scaling up the embedding dimension, which is typically greater than 1,000 for GPT-like LLMs, large dot products can result in __very small gradients during backpropagation__ due to softmax. As dot products increase, __softmax behaves more like a step function__ with gradients nearing zero. These small gradients can drastically slow down learning or cause training to stagnate."
   ]
  },
  {
   "cell_type": "markdown",
   "id": "df31b500-40aa-4e95-bb96-96884417309a",
   "metadata": {},
   "source": [
    "- Compute the context vector as a weighted sum over the value vectors. Here, the __attention weights serve as a weighting factor__ for the respective importance of each value\n",
    "vector. We can use matrix multiplication to obtain the output in one step."
   ]
  },
  {
   "cell_type": "code",
   "execution_count": 36,
   "id": "9f0037d4-67d4-4666-99db-39b37c2b0159",
   "metadata": {},
   "outputs": [
    {
     "name": "stdout",
     "output_type": "stream",
     "text": [
      "tensor([0.3061, 0.8210])\n"
     ]
    }
   ],
   "source": [
    "context_vec_2 = attn_weights_2 @ values\n",
    "print(context_vec_2)"
   ]
  },
  {
   "cell_type": "markdown",
   "id": "5ddcbdd8-e61e-4fb5-b84d-cea34617007e",
   "metadata": {},
   "source": [
    "### 3.4.2 building a compact self-attention Python class\n",
    "- __SelfAttention_v1__ initializes trainable weight matrices (W_query, W_key, and W_value) for queries, keys, and values, each transforming the input dimension d_in to an output dimension __d_out__.\n",
    "- The forward method computes attention scores (attn_scores) by multiplying queries and keys, normalizing these scores using softmax.\n",
    "- Finally, we create a context vector by weighting the values with these normalized attention scores."
   ]
  },
  {
   "cell_type": "code",
   "execution_count": 37,
   "id": "8c2ebec3-3e08-4a36-bb74-572f00eae071",
   "metadata": {},
   "outputs": [],
   "source": [
    "import torch.nn as nn\n",
    "class SelfAttention_v1(nn.Module):\n",
    "    \n",
    "    def __init__(self, d_in, d_out):\n",
    "        super().__init__()\n",
    "        self.W_query = nn.Parameter(torch.rand(d_in, d_out))\n",
    "        self.W_key   = nn.Parameter(torch.rand(d_in, d_out))\n",
    "        self.W_value = nn.Parameter(torch.rand(d_in, d_out))\n",
    "        \n",
    "    def forward(self, x):\n",
    "        keys         = x @ self.W_key\n",
    "        queries      = x @ self.W_query\n",
    "        values       = x @ self.W_value\n",
    "        attn_scores  = queries @ keys.T # omega\n",
    "        attn_weights = torch.softmax(attn_scores / keys.shape[-1]**0.5, dim=-1)\n",
    "        context_vec  = attn_weights @ values\n",
    "        return context_vec"
   ]
  },
  {
   "cell_type": "code",
   "execution_count": 38,
   "id": "7eec8a15-badd-44e8-b770-9e36c1278809",
   "metadata": {},
   "outputs": [
    {
     "name": "stdout",
     "output_type": "stream",
     "text": [
      "tensor([[0.2996, 0.8053],\n",
      "        [0.3061, 0.8210],\n",
      "        [0.3058, 0.8203],\n",
      "        [0.2948, 0.7939],\n",
      "        [0.2927, 0.7891],\n",
      "        [0.2990, 0.8040]], grad_fn=<MmBackward0>)\n"
     ]
    }
   ],
   "source": [
    "# Since inputs contains six embedding vectors, this results in a matrix storing the six context vectors:\n",
    "torch.manual_seed(123)\n",
    "sa_v1 = SelfAttention_v1(d_in, d_out)\n",
    "print(sa_v1(inputs))"
   ]
  },
  {
   "attachments": {},
   "cell_type": "markdown",
   "id": "5d1f81de-9665-4c6d-981d-8d8af3fe4b1a",
   "metadata": {},
   "source": [
    "![figure 3-18](px/fig3-18.png)\n",
    "- Self-attention transforms input vectors (X) with three weight matrices (Wq, Wk, and Wv).\n",
    "- Find the __attention weight matrix__ using the resulting queries (Q) and keys (K).\n",
    "- Using the __attention weights and values__ (V), find the __context vectors__ (Z).\n",
    "- The 3D input tensor is simplified to a two-dimensional matrix in this context.\n",
    "- This approach allows for a more straightforward visualization and understanding of the processes involved. Also, for\n",
    "consistency with later figures, the values in the attention matrix do not depict the real attention weights."
   ]
  },
  {
   "cell_type": "markdown",
   "id": "2e9dfdf0-5598-4078-8fcf-776acac3a496",
   "metadata": {},
   "source": [
    "- We can __improve SelfAttention_v1__ by using PyTorch’s __nn.Linear__ layers - they can do matrix multiplication when the bias units are disabled.\n",
    "- Also, nn.Linear has an __optimized weight initialization__ scheme, contributing to more stable and effective model training."
   ]
  },
  {
   "cell_type": "code",
   "execution_count": 39,
   "id": "ef3adaf0-c46b-4587-a833-8349f769b6d6",
   "metadata": {},
   "outputs": [],
   "source": [
    "class SelfAttention_v2(nn.Module):\n",
    "    def __init__(self, d_in, d_out, qkv_bias=False):\n",
    "        super().__init__()\n",
    "        self.W_query = nn.Linear(d_in, d_out, bias=qkv_bias)\n",
    "        self.W_key   = nn.Linear(d_in, d_out, bias=qkv_bias)\n",
    "        self.W_value = nn.Linear(d_in, d_out, bias=qkv_bias)\n",
    "\n",
    "    def forward(self, x):\n",
    "        keys         = self.W_key(x)\n",
    "        queries      = self.W_query(x)\n",
    "        values       = self.W_value(x)\n",
    "        attn_scores  = queries @ keys.T\n",
    "        attn_weights = torch.softmax(attn_scores / keys.shape[-1]**0.5, dim=-1)\n",
    "        context_vec  = attn_weights @ values\n",
    "        return context_vec"
   ]
  },
  {
   "cell_type": "markdown",
   "id": "511506b3-fd5f-4cdd-ab57-56adbba2449f",
   "metadata": {},
   "source": [
    "- SelfAttention_v1 & SelfAttention_v2 give different outputs - they use __different initial weights for the weight matrices__, since nn.Linear uses a more sophisticated weight initialization scheme."
   ]
  },
  {
   "cell_type": "code",
   "execution_count": 40,
   "id": "94ea1d69-7e90-48e1-bcce-2141e2aba883",
   "metadata": {},
   "outputs": [
    {
     "name": "stdout",
     "output_type": "stream",
     "text": [
      "tensor([[-0.0739,  0.0713],\n",
      "        [-0.0748,  0.0703],\n",
      "        [-0.0749,  0.0702],\n",
      "        [-0.0760,  0.0685],\n",
      "        [-0.0763,  0.0679],\n",
      "        [-0.0754,  0.0693]], grad_fn=<MmBackward0>)\n"
     ]
    }
   ],
   "source": [
    "torch.manual_seed(789)\n",
    "sa_v2 = SelfAttention_v2(d_in, d_out)\n",
    "print(sa_v2(inputs))"
   ]
  },
  {
   "cell_type": "markdown",
   "id": "1f418e76-c074-44d3-acbe-4a37c52432f4",
   "metadata": {},
   "source": [
    "## 3.5 - hiding future words with causal attention\n",
    "\n",
    "- Causal attention, aka __masked attention__, restricts a model to consider only __previous and current inputs__ in a sequence when processing any given token. (standard self-attention mechanism allows access to the entire input sequence at once.)\n",
    "- Causal attention mechanism ensures that the model only factors in tokens that occur at or before the current token in the sequence. It masks future tokens, which\n",
    "come after the current token in the input text.\n",
    "- It masks attention weights above the diagonal & normalizes the nonmasked attention weights so __the attention weights sum to 1 in each row__.\n",
    "\n",
    "![fig3-19](px/fig3-19.png)\n",
    "\n",
    "- Step 1: compute the attention weights using the softmax function."
   ]
  },
  {
   "cell_type": "code",
   "execution_count": 41,
   "id": "d9d939e1-a589-4111-a386-72b7da1d85cb",
   "metadata": {},
   "outputs": [
    {
     "name": "stdout",
     "output_type": "stream",
     "text": [
      "tensor([[0.1921, 0.1646, 0.1652, 0.1550, 0.1721, 0.1510],\n",
      "        [0.2041, 0.1659, 0.1662, 0.1496, 0.1665, 0.1477],\n",
      "        [0.2036, 0.1659, 0.1662, 0.1498, 0.1664, 0.1480],\n",
      "        [0.1869, 0.1667, 0.1668, 0.1571, 0.1661, 0.1564],\n",
      "        [0.1830, 0.1669, 0.1670, 0.1588, 0.1658, 0.1585],\n",
      "        [0.1935, 0.1663, 0.1666, 0.1542, 0.1666, 0.1529]],\n",
      "       grad_fn=<SoftmaxBackward0>)\n"
     ]
    }
   ],
   "source": [
    "queries      = sa_v2.W_query(inputs) #A\n",
    "keys         = sa_v2.W_key(inputs)\n",
    "attn_scores  = queries @ keys.T\n",
    "attn_weights = torch.softmax(attn_scores / keys.shape[-1]**0.5, dim=1)\n",
    "print(attn_weights)"
   ]
  },
  {
   "cell_type": "markdown",
   "id": "b0c19a17-918f-43bd-ac09-d8cdd0d804b8",
   "metadata": {},
   "source": [
    "- Step 2: use __PyTorch’s tril function__ to create a mask where the values above the diagonal are zero."
   ]
  },
  {
   "cell_type": "code",
   "execution_count": 42,
   "id": "f502c80d-5cc8-4c75-9fbd-4c982f4f24d4",
   "metadata": {},
   "outputs": [
    {
     "name": "stdout",
     "output_type": "stream",
     "text": [
      "tensor([[1., 0., 0., 0., 0., 0.],\n",
      "        [1., 1., 0., 0., 0., 0.],\n",
      "        [1., 1., 1., 0., 0., 0.],\n",
      "        [1., 1., 1., 1., 0., 0.],\n",
      "        [1., 1., 1., 1., 1., 0.],\n",
      "        [1., 1., 1., 1., 1., 1.]])\n"
     ]
    }
   ],
   "source": [
    "context_length = attn_scores.shape[0]\n",
    "mask_simple   = torch.tril(torch.ones(context_length, context_length))\n",
    "print(mask_simple)"
   ]
  },
  {
   "cell_type": "markdown",
   "id": "fee9e309-da1b-4f93-a6a9-fd5b9bbe0c06",
   "metadata": {},
   "source": [
    "- Multiply the weights with the mask."
   ]
  },
  {
   "cell_type": "code",
   "execution_count": 43,
   "id": "0d6275de-d551-47b2-bb0c-a7e96cd1fb0e",
   "metadata": {},
   "outputs": [
    {
     "name": "stdout",
     "output_type": "stream",
     "text": [
      "tensor([[0.1921, 0.0000, 0.0000, 0.0000, 0.0000, 0.0000],\n",
      "        [0.2041, 0.1659, 0.0000, 0.0000, 0.0000, 0.0000],\n",
      "        [0.2036, 0.1659, 0.1662, 0.0000, 0.0000, 0.0000],\n",
      "        [0.1869, 0.1667, 0.1668, 0.1571, 0.0000, 0.0000],\n",
      "        [0.1830, 0.1669, 0.1670, 0.1588, 0.1658, 0.0000],\n",
      "        [0.1935, 0.1663, 0.1666, 0.1542, 0.1666, 0.1529]],\n",
      "       grad_fn=<MulBackward0>)\n"
     ]
    }
   ],
   "source": [
    "masked_simple = attn_weights*mask_simple\n",
    "print(masked_simple)"
   ]
  },
  {
   "cell_type": "markdown",
   "id": "421521cb-b203-4714-b4ae-3c7da3023e26",
   "metadata": {},
   "source": [
    "- Step 3: renormalize the attention weights to sum up to 1 in each row. We can achieve this by dividing each element in each row by the sum in each row:"
   ]
  },
  {
   "cell_type": "code",
   "execution_count": 44,
   "id": "69240e34-5fec-4a35-aa8e-4e97357ff5e6",
   "metadata": {},
   "outputs": [
    {
     "name": "stdout",
     "output_type": "stream",
     "text": [
      "tensor([[1.0000, 0.0000, 0.0000, 0.0000, 0.0000, 0.0000],\n",
      "        [0.5517, 0.4483, 0.0000, 0.0000, 0.0000, 0.0000],\n",
      "        [0.3800, 0.3097, 0.3103, 0.0000, 0.0000, 0.0000],\n",
      "        [0.2758, 0.2460, 0.2462, 0.2319, 0.0000, 0.0000],\n",
      "        [0.2175, 0.1983, 0.1984, 0.1888, 0.1971, 0.0000],\n",
      "        [0.1935, 0.1663, 0.1666, 0.1542, 0.1666, 0.1529]],\n",
      "       grad_fn=<DivBackward0>)\n"
     ]
    }
   ],
   "source": [
    "row_sums           = masked_simple.sum(dim=1, keepdim=True)\n",
    "masked_simple_norm = masked_simple / row_sums\n",
    "print(masked_simple_norm)"
   ]
  },
  {
   "cell_type": "markdown",
   "id": "f88a689d-7a5d-4fd7-a7eb-0a755fc960e9",
   "metadata": {},
   "source": [
    "### INFORMATION LEAKAGE\n",
    "- When we apply a mask and then renormalize the attention weights, it appears that information from future tokens (which we intend to mask) could still influence the\n",
    "current token because their values are part of the softmax calculation.\n",
    "- When we renormalize the attention weights after masking, we’re effectively recalculating the softmax over a smaller subset (since masked positions don’t contribute to the softmax value).\n",
    "- The elegance of softmax is that despite initially including all positions in the denominator, after masking and renormalizing, the effect of the masked positions is nullified.\n",
    "- In simpler terms, after masking and renormalization, the distribution of attention weights is as if it was calculated only among the unmasked positions to begin with. This ensures there’s no information leakage from future (or otherwise masked) tokens as we intended."
   ]
  },
  {
   "cell_type": "markdown",
   "id": "847c14ed-c421-4b7b-ac80-8a23f06199ac",
   "metadata": {},
   "source": [
    "- Take advantage of a property of softmax & implement masked attention weightings more efficiently in fewer steps.\n",
    "- Softmax converts its inputs into a probability distribution. When negative infinity values (-∞) are present in a row, softmax treats them as zero probability.\n",
    "(Mathematically, this is because e∞ approaches 0.) We can implement this more efficient masking “trick” by creating a mask with 1s above the diagonal and then replacing these 1s with negative infinity (-inf) values."
   ]
  },
  {
   "cell_type": "code",
   "execution_count": 45,
   "id": "85315033-4954-481e-8c98-d763fd3d5b6a",
   "metadata": {},
   "outputs": [
    {
     "name": "stdout",
     "output_type": "stream",
     "text": [
      "tensor([[0.2899,   -inf,   -inf,   -inf,   -inf,   -inf],\n",
      "        [0.4656, 0.1723,   -inf,   -inf,   -inf,   -inf],\n",
      "        [0.4594, 0.1703, 0.1731,   -inf,   -inf,   -inf],\n",
      "        [0.2642, 0.1024, 0.1036, 0.0186,   -inf,   -inf],\n",
      "        [0.2183, 0.0874, 0.0882, 0.0177, 0.0786,   -inf],\n",
      "        [0.3408, 0.1270, 0.1290, 0.0198, 0.1290, 0.0078]],\n",
      "       grad_fn=<MaskedFillBackward0>)\n"
     ]
    }
   ],
   "source": [
    "mask   = torch.triu(torch.ones(context_length, context_length), diagonal=1)\n",
    "masked = attn_scores.masked_fill(mask.bool(), -torch.inf)\n",
    "print(masked)"
   ]
  },
  {
   "cell_type": "code",
   "execution_count": 46,
   "id": "8d8b5abb-ca52-4413-ba80-13b7d5634ec1",
   "metadata": {},
   "outputs": [
    {
     "name": "stdout",
     "output_type": "stream",
     "text": [
      "tensor([[1.0000, 0.0000, 0.0000, 0.0000, 0.0000, 0.0000],\n",
      "        [0.5517, 0.4483, 0.0000, 0.0000, 0.0000, 0.0000],\n",
      "        [0.3800, 0.3097, 0.3103, 0.0000, 0.0000, 0.0000],\n",
      "        [0.2758, 0.2460, 0.2462, 0.2319, 0.0000, 0.0000],\n",
      "        [0.2175, 0.1983, 0.1984, 0.1888, 0.1971, 0.0000],\n",
      "        [0.1935, 0.1663, 0.1666, 0.1542, 0.1666, 0.1529]],\n",
      "       grad_fn=<SoftmaxBackward0>)\n"
     ]
    }
   ],
   "source": [
    "attn_weights = torch.softmax(masked / keys.shape[-1]**0.5, dim=1)\n",
    "print(attn_weights)"
   ]
  },
  {
   "cell_type": "markdown",
   "id": "e1aee8da-37b4-4130-b760-a62a5c124373",
   "metadata": {},
   "source": [
    "### 3.5.2 masking additional attention weights with dropout\n",
    "- Dropout is a technique where __randomly selected hidden layer units are ignored during training__. This helps prevent overfitting by ensuring that a model does not become overly reliant on a specific set of hidden layer units.\n",
    "- Dropout is only used during training and is disabled afterward.\n",
    "- In the transformer architecture, including models like GPT, dropout in the attention mechanism is typically applied in two areas:\n",
    "    - After calculating the attention scores\n",
    "    - After applying the attention weights to the value vectors.\n",
    "- Here we will apply the dropout mask after computing the attention weights, as illustrated in figure 3.22, because it’s the more common variant.\n",
    "![fig3-22](px/fig3-22.png)"
   ]
  },
  {
   "cell_type": "markdown",
   "id": "8a107dd5-8193-4aeb-afa0-7feea24c807f",
   "metadata": {},
   "source": [
    "- We use a dropout rate of 50% (masking out half of the attention weights) below. (we will use a 0.1-0.2 dropout rate when training GPT.)\n",
    "- We apply PyTorch’s dropout implementation first to a 6 × 6 tensor consisting of ones for illustration."
   ]
  },
  {
   "cell_type": "code",
   "execution_count": 47,
   "id": "aa4701e9-7e57-45e9-885b-243441d63a5c",
   "metadata": {},
   "outputs": [
    {
     "name": "stdout",
     "output_type": "stream",
     "text": [
      "tensor([[2., 2., 2., 2., 2., 2.],\n",
      "        [0., 2., 0., 0., 0., 0.],\n",
      "        [0., 0., 2., 0., 2., 0.],\n",
      "        [2., 2., 0., 0., 0., 2.],\n",
      "        [2., 0., 0., 0., 0., 2.],\n",
      "        [0., 2., 0., 0., 0., 0.]])\n"
     ]
    }
   ],
   "source": [
    "torch.manual_seed(123)\n",
    "dropout = torch.nn.Dropout(0.5)\n",
    "example = torch.ones(6, 6)\n",
    "print(dropout(example))"
   ]
  },
  {
   "cell_type": "markdown",
   "id": "750e93db-d994-4e69-b20f-ece70813beab",
   "metadata": {},
   "source": [
    "- When applying 50% dropout, half of the elements in the matrix are randomly set to zero. To compensate for the reduction in active elements, the remaining elements are scaled up by a factor of 1/0.5 = 2.\n",
    "- This maintains the balance of the attention weights, ensuring that the average influence of the attention mechanism remains consistent during training and inference phases."
   ]
  },
  {
   "cell_type": "code",
   "execution_count": 48,
   "id": "bc2b224c-9a33-4b3c-a89f-bf572f167fd2",
   "metadata": {},
   "outputs": [
    {
     "name": "stdout",
     "output_type": "stream",
     "text": [
      "tensor([[2.0000, 0.0000, 0.0000, 0.0000, 0.0000, 0.0000],\n",
      "        [0.0000, 0.8966, 0.0000, 0.0000, 0.0000, 0.0000],\n",
      "        [0.0000, 0.0000, 0.6206, 0.0000, 0.0000, 0.0000],\n",
      "        [0.5517, 0.4921, 0.0000, 0.0000, 0.0000, 0.0000],\n",
      "        [0.4350, 0.0000, 0.0000, 0.0000, 0.0000, 0.0000],\n",
      "        [0.0000, 0.3327, 0.0000, 0.0000, 0.0000, 0.0000]],\n",
      "       grad_fn=<MulBackward0>)\n"
     ]
    }
   ],
   "source": [
    "torch.manual_seed(123)\n",
    "print(dropout(attn_weights))"
   ]
  },
  {
   "cell_type": "markdown",
   "id": "48828e0b-b84e-4d06-8a5b-21b317b1b6a2",
   "metadata": {},
   "source": [
    "- The results may look different depending on your OS. See the PyTorch issue tracker at [https://github.com/pytorch/pytorch/issues/121595]."
   ]
  },
  {
   "cell_type": "markdown",
   "id": "61ef5ed5-e84a-4575-93a2-328e1488ec56",
   "metadata": {},
   "source": [
    "### 3.5.3 - designing a compact causal attention class\n",
    "- let’s ensure the code can handle batches consisting of >1 input so the CausalAttention class supports the batch outputs produced by the data loader we\n",
    "implemented in chapter 2. For simplicity, to simulate such batch inputs, we duplicate the input text example.\n",
    "- It returns a 3D tensor - two input texts with six tokens each, where each token is a three-dimensional embedding vector."
   ]
  },
  {
   "cell_type": "code",
   "execution_count": 49,
   "id": "0e5ed8ea-a575-4976-8e11-88d2d758850e",
   "metadata": {},
   "outputs": [
    {
     "name": "stdout",
     "output_type": "stream",
     "text": [
      "torch.Size([2, 6, 3])\n"
     ]
    }
   ],
   "source": [
    "batch = torch.stack((inputs, inputs), dim=0)\n",
    "print(batch.shape)"
   ]
  },
  {
   "cell_type": "markdown",
   "id": "9103fa49-865b-455d-9f9c-599a1acc04d9",
   "metadata": {},
   "source": [
    "- The __CausalAttention__ class is similar to the __SelfAttention__ class, except that we now added the dropout and causal mask components.\n",
    "\n",
    "- Using PyTorch's __self.register_buffer()__ method is not critical for all use cases but offers several advantages here. For instance, when we use the CausalAttention class in our LLM, __buffers are automatically moved to the appropriate device (CPU or GPU)__ along with our model. This means we don’t need to manually ensure these tensors are on the same device as your model parameters, avoiding device mismatch errors."
   ]
  },
  {
   "cell_type": "code",
   "execution_count": 50,
   "id": "6ae81acb-0bd4-4bbc-9e92-9c79cc4e721b",
   "metadata": {},
   "outputs": [],
   "source": [
    "class CausalAttention(nn.Module):\n",
    "    def __init__(self, d_in, d_out, context_length, dropout, qkv_bias=False):\n",
    "        super().__init__()\n",
    "        self.d_out   = d_out\n",
    "        self.W_query = nn.Linear(d_in, d_out, bias=qkv_bias)\n",
    "        self.W_key   = nn.Linear(d_in, d_out, bias=qkv_bias)\n",
    "        self.W_value = nn.Linear(d_in, d_out, bias=qkv_bias)\n",
    "        self.dropout = nn.Dropout(dropout) #A\n",
    "\n",
    "        self.register_buffer(\n",
    "            'mask',\n",
    "            torch.triu(torch.ones(context_length, context_length),\n",
    "            diagonal=1))\n",
    "\n",
    "    def forward(self, x):\n",
    "        b, num_tokens, d_in = x.shape #C\n",
    "        keys                = self.W_key(x)\n",
    "        queries             = self.W_query(x)\n",
    "        values              = self.W_value(x)\n",
    "        attn_scores         = queries @ keys.transpose(1, 2)\n",
    "        \n",
    "        attn_scores.masked_fill_(\n",
    "            self.mask.bool()[:num_tokens, :num_tokens], -torch.inf)\n",
    "        \n",
    "        attn_weights = torch.softmax(attn_scores / keys.shape[-1]**0.5, dim=-1)\n",
    "        attn_weights = self.dropout(attn_weights)\n",
    "        context_vec  = attn_weights @ values\n",
    "        return context_vec"
   ]
  },
  {
   "cell_type": "code",
   "execution_count": 51,
   "id": "46940c47-1c24-4ac9-8265-66af6e1e2e41",
   "metadata": {},
   "outputs": [
    {
     "name": "stdout",
     "output_type": "stream",
     "text": [
      "context_vecs.shape: torch.Size([2, 6, 2])\n"
     ]
    }
   ],
   "source": [
    "# The resulting context vector is a 3D tensor - each token is represented by a 2D embedding.\n",
    "torch.manual_seed(123)\n",
    "context_length = batch.shape[1]\n",
    "ca             = CausalAttention(d_in, d_out, context_length, 0.0)\n",
    "context_vecs   = ca(batch)\n",
    "print(\"context_vecs.shape:\", context_vecs.shape)"
   ]
  },
  {
   "cell_type": "markdown",
   "id": "b439a235-cf5d-474f-ba10-ca123ce2328e",
   "metadata": {},
   "source": [
    "- progress thus far:\n",
    "![fig3-23](px/fig3-23.png)"
   ]
  },
  {
   "cell_type": "markdown",
   "id": "ea1e618f-6ee3-4df5-9e97-bcb2bbfc35b7",
   "metadata": {},
   "source": [
    "## 3.6 extending single-head attention to __multi-head__ attention\n",
    "- “multi-head” refers to dividing the attention mechanism into multiple independent “heads,” each operating independently. A single causal attention module can be considered single-\n",
    "head attention - there is __only one set of attention weights__ processing the input sequentially.\n",
    "- First, we stack multiple CausalAttention modules for illustration purposes. \n",
    "- Second we build a multi-head attention module in a more complicated but more computationally efficient way."
   ]
  },
  {
   "cell_type": "markdown",
   "id": "92f3cc2b-5c85-4b32-b032-0cbe7ee7f748",
   "metadata": {},
   "source": [
    "### 3.6.1 Stacking multiple single-head attention layers\n",
    "- Using multiple instances of the self-attention mechanism can be computationally intensive, but it’s crucial for the kind of complex pattern recognition that models\n",
    "like transformer-based LLMs are known for.\n",
    "![fig3-24](px/fig3-24.png)\n",
    "- The idea behind multi-head attention is to run the attention mechanism multiple times (in parallel) with different, learned linear projections—the results of multiplying the\n",
    "input data (like the query, key, and value vectors in attention mechanisms) by a weight matrix."
   ]
  },
  {
   "cell_type": "code",
   "execution_count": 52,
   "id": "e07f6315-9e5f-441d-abcb-18225c04dc80",
   "metadata": {},
   "outputs": [],
   "source": [
    "class MultiHeadAttentionWrapper(nn.Module):\n",
    "    def __init__(\n",
    "        self, d_in, d_out, context_length, dropout, num_heads, qkv_bias=False):\n",
    "            super().__init__()\n",
    "            self.heads = nn.ModuleList(\n",
    "                [CausalAttention(\n",
    "                    d_in, d_out, context_length, dropout, qkv_bias)\n",
    "                for _ in range(num_heads)])\n",
    "        \n",
    "    def forward(self, x):\n",
    "        return torch.cat([head(x) for head in self.heads], dim=-1)"
   ]
  },
  {
   "cell_type": "markdown",
   "id": "8af02c63-e77e-496b-b4aa-b66e6775fb4c",
   "metadata": {},
   "source": [
    "- If we use this __MultiHeadAttentionWrapper__ class with two attention heads (num_heads=2) and CausalAttention output dimension (d_out=2), this results in 4D\n",
    "context vectors (d_out*num_heads=4).\n",
    "![fig3-25](px/fig3-25.png)"
   ]
  },
  {
   "cell_type": "code",
   "execution_count": 53,
   "id": "f6e8fcf2-c90e-420e-8db0-70e9a8d910c8",
   "metadata": {},
   "outputs": [
    {
     "name": "stdout",
     "output_type": "stream",
     "text": [
      "tensor([[[-0.4519,  0.2216,  0.4772,  0.1063],\n",
      "         [-0.5874,  0.0058,  0.5891,  0.3257],\n",
      "         [-0.6300, -0.0632,  0.6202,  0.3860],\n",
      "         [-0.5675, -0.0843,  0.5478,  0.3589],\n",
      "         [-0.5526, -0.0981,  0.5321,  0.3428],\n",
      "         [-0.5299, -0.1081,  0.5077,  0.3493]],\n",
      "\n",
      "        [[-0.4519,  0.2216,  0.4772,  0.1063],\n",
      "         [-0.5874,  0.0058,  0.5891,  0.3257],\n",
      "         [-0.6300, -0.0632,  0.6202,  0.3860],\n",
      "         [-0.5675, -0.0843,  0.5478,  0.3589],\n",
      "         [-0.5526, -0.0981,  0.5321,  0.3428],\n",
      "         [-0.5299, -0.1081,  0.5077,  0.3493]]], grad_fn=<CatBackward0>)\n",
      "context_vecs.shape: torch.Size([2, 6, 4])\n"
     ]
    }
   ],
   "source": [
    "torch.manual_seed(123)\n",
    "context_length = batch.shape[1] # This is the number of tokens\n",
    "d_in, d_out    = 3, 2\n",
    "mha            = MultiHeadAttentionWrapper(d_in, d_out, context_length, 0.0, num_heads=2)\n",
    "context_vecs   = mha(batch)\n",
    "print(context_vecs)\n",
    "print(\"context_vecs.shape:\", context_vecs.shape)"
   ]
  },
  {
   "cell_type": "markdown",
   "id": "a6281c30-9277-4191-ba86-be6a86049f53",
   "metadata": {},
   "source": [
    "- The 1st dimension of __context_vecs__ is 2 since we have two input texts (the input texts are duplicated, which is why the context vectors are exactly the same for those).\n",
    "- The 2nd dimension refers to the 6 tokens in each input.\n",
    "- The 3rd dimension refers to the 4D embedding of each token.\n",
    "- In this section, we implemented a __MultiHeadAttentionWrapper__ that combined multiple single-head attention modules. They are processed sequentially via [head(x) for head in\n",
    "self.heads] in the forward method.\n",
    "- We can improve this by processing the heads in parallel, by computing the outputs for all attention heads simultaneously via matrix multiplication."
   ]
  },
  {
   "cell_type": "markdown",
   "id": "b04f82e2-e25a-4db1-a574-66f5bc9f4eb3",
   "metadata": {},
   "source": [
    "### 3.6.2 multi-head attention with weight splits\n",
    "- Instead of maintaining two separate classes (MultiHeadAttentionWrapper and CausalAttention), we can combine them into a single __MultiHeadAttention__ class.\n",
    "- We will also make some multi-head attention optimizations.\n",
    "- In __MultiHeadAttentionWrapper__, multiple heads are created by creating a list of __CausalAttention__ objects (self.heads), each representing a separate attention head. The\n",
    "__CausalAttention__ class independently performs the attention mechanism, and the results from each head are concatenated.\n",
    "- __MultiHeadAttention__ will integrate the multi-head functionality within a single class. It splits the input into multiple heads by reshaping the projected query, key, and value tensors and then combines the results from these heads after computing attention."
   ]
  },
  {
   "cell_type": "code",
   "execution_count": 54,
   "id": "77cc9df3-7664-468a-8e1d-4fa3ef82f85b",
   "metadata": {},
   "outputs": [],
   "source": [
    "class MultiHeadAttention(nn.Module):\n",
    "    def __init__(self, d_in, d_out, context_length, dropout, num_heads, qkv_bias=False):\n",
    "        super().__init__()\n",
    "        assert (d_out % num_heads == 0), \"d_out must be divisible by num_heads\"\n",
    "        \n",
    "        self.d_out     = d_out\n",
    "        self.num_heads = num_heads\n",
    "        self.head_dim  = d_out // num_heads # reduces projection dim to match desired output dim\n",
    "        self.W_query   = nn.Linear(d_in, d_out, bias=qkv_bias)\n",
    "        self.W_key     = nn.Linear(d_in, d_out, bias=qkv_bias)\n",
    "        self.W_value   = nn.Linear(d_in, d_out, bias=qkv_bias)\n",
    "        self.out_proj  = nn.Linear(d_out, d_out) # linear layer to combine head outputs\n",
    "        self.dropout   = nn.Dropout(dropout)\n",
    "        \n",
    "        self.register_buffer(\n",
    "            \"mask\",\n",
    "            torch.triu(torch.ones(context_length, context_length), diagonal=1))\n",
    "        \n",
    "    def forward(self, x):\n",
    "        b, num_tokens, d_in = x.shape\n",
    "\n",
    "        #C Tensor shape: (b, num_tokens, d_out)\n",
    "        keys                = self.W_key(x)\n",
    "        queries             = self.W_query(x)\n",
    "        values              = self.W_value(x)\n",
    "\n",
    "        #D implicitly split the matrix by adding a num_heads dimension. \n",
    "        # then unroll the last dim: (b,num_tokens, d_out) -> (b, num_tokens, num_heads, head_dim).\n",
    "        keys                =    keys.view(b, num_tokens, self.num_heads, self.head_dim)\n",
    "        values              =  values.view(b, num_tokens, self.num_heads, self.head_dim)\n",
    "        queries             = queries.view(b, num_tokens, self.num_heads, self.head_dim)\n",
    "\n",
    "        #E Transpose from (b, num_tokens, num_heads, head_dim) to (b, num_heads, num_tokens, head_dim)\n",
    "        keys    =    keys.transpose(1, 2)\n",
    "        queries = queries.transpose(1, 2)\n",
    "        values  =  values.transpose(1, 2)\n",
    "\n",
    "        #F Computes dot product for each head\n",
    "        attn_scores = queries @ keys.transpose(2, 3)\n",
    "\n",
    "        #G Masks truncated to the number of tokens\n",
    "        mask_bool   = self.mask.bool()[:num_tokens, :num_tokens]\n",
    "\n",
    "        #H Uses the mask to fill attention scores\n",
    "        attn_scores.masked_fill_(mask_bool, -torch.inf)\n",
    "        attn_weights = torch.softmax(attn_scores / keys.shape[-1]**0.5, dim=-1)\n",
    "        attn_weights = self.dropout(attn_weights)\n",
    "\n",
    "        #I Tensor shape: (b, num_tokens, n_heads, head_dim)\n",
    "        context_vec  = (attn_weights @ values).transpose(1, 2)\n",
    "\n",
    "        #J Combines heads, where self.d_out = self.num_heads * self.head_dim\n",
    "        context_vec = context_vec.contiguous().view(b, num_tokens, self.d_out)\n",
    "\n",
    "        #K Adds an optional linear projection\n",
    "        context_vec = self.out_proj(context_vec)\n",
    "        return context_vec"
   ]
  },
  {
   "cell_type": "markdown",
   "id": "7d836bdb-fc36-418c-aef8-b9e3886a27a3",
   "metadata": {},
   "source": [
    "![fig3-26](px/fig3-26.png)\n",
    "\n",
    "- The splitting of the query, key, and value tensors is done by tensor reshaping and transposing operations (using PyTorch’s __.view__ and __.transpose__ methods). The\n",
    "input is first transformed (via linear layers for queries, keys, and values) and then reshaped to represent multiple heads.\n",
    "- The key operation is to __split the d_out dimension into num_heads and head_dim__ (head_dim = d_out / num_heads).\n",
    "- This splitting is done using __.view__: a tensor of dimensions (b, num_tokens, d_out) is reshaped to dimension (b, num_tokens, num_heads, head_dim).\n",
    "- The tensors are then transposed to bring the num_heads dimension before the num_tokens dimension, resulting in a shape of (b, num_heads, num_tokens, head_dim).\n",
    "- This transposition is crucial for correctly aligning the queries, keys, and values across the different heads and performing batched matrix multiplications efficiently."
   ]
  },
  {
   "cell_type": "code",
   "execution_count": 55,
   "id": "817ccb3c-9886-4e84-9e35-4192867d21d9",
   "metadata": {},
   "outputs": [],
   "source": [
    "# The shape of this tensor is (b, num_heads, num_tokens, head_dim) = (1, 2, 3, 4).\n",
    "a = torch.tensor([[\n",
    "    [\n",
    "        [0.2745, 0.6584, 0.2775, 0.8573],\n",
    "        [0.8993, 0.0390, 0.9268, 0.7388],\n",
    "        [0.7179, 0.7058, 0.9156, 0.4340]],\n",
    "    [\n",
    "        [0.0772, 0.3565, 0.1479, 0.5331],\n",
    "        [0.4066, 0.2318, 0.4545, 0.9737],\n",
    "        [0.4606, 0.5159, 0.4220, 0.5786]]]])"
   ]
  },
  {
   "cell_type": "markdown",
   "id": "092be11c-6ea4-48f7-98d8-f033d9f5a1e6",
   "metadata": {},
   "source": [
    "- Perform a batched matrix multiplication between the tensor and a view of the tensor where we transposed the last two dimensions (num_tokens and head_dim)."
   ]
  },
  {
   "cell_type": "code",
   "execution_count": 56,
   "id": "fdb83af9-e7d2-4cb6-a63e-dbded59f6fe2",
   "metadata": {},
   "outputs": [
    {
     "name": "stdout",
     "output_type": "stream",
     "text": [
      "tensor([[[[1.3208, 1.1631, 1.2879],\n",
      "          [1.1631, 2.2150, 1.8424],\n",
      "          [1.2879, 1.8424, 2.0402]],\n",
      "\n",
      "         [[0.4391, 0.7003, 0.5903],\n",
      "          [0.7003, 1.3737, 1.0620],\n",
      "          [0.5903, 1.0620, 0.9912]]]])\n"
     ]
    }
   ],
   "source": [
    "print(a @ a.transpose(2, 3))"
   ]
  },
  {
   "cell_type": "markdown",
   "id": "fcccb907-eafa-4470-83ff-f5d75173c9fe",
   "metadata": {},
   "source": [
    "- The matrix multiplication in PyTorch handles the 4D input tensor so that the matrix multiplication is carried out between the two last dimensions\n",
    "(num_tokens, head_dim) and then repeated for the individual heads.\n",
    "- For instance, the preceding becomes a more compact way to compute the matrix multiplication for each head separately.\n",
    "- The results match those using the batched matrix multiplication print(a @ a.transpose(2, 3)) (above)."
   ]
  },
  {
   "cell_type": "code",
   "execution_count": 57,
   "id": "d9f55bd6-669d-4458-a006-fc6f62eea2d0",
   "metadata": {},
   "outputs": [
    {
     "name": "stdout",
     "output_type": "stream",
     "text": [
      "First head:\n",
      " tensor([[1.3208, 1.1631, 1.2879],\n",
      "        [1.1631, 2.2150, 1.8424],\n",
      "        [1.2879, 1.8424, 2.0402]])\n",
      "\n",
      "Second head:\n",
      " tensor([[0.4391, 0.7003, 0.5903],\n",
      "        [0.7003, 1.3737, 1.0620],\n",
      "        [0.5903, 1.0620, 0.9912]])\n"
     ]
    }
   ],
   "source": [
    "first_head = a[0, 0, :, :]\n",
    "first_res  = first_head @ first_head.T\n",
    "print(\"First head:\\n\", first_res)\n",
    "\n",
    "second_head = a[0, 1, :, :]\n",
    "second_res  = second_head @ second_head.T\n",
    "print(\"\\nSecond head:\\n\", second_res)"
   ]
  },
  {
   "cell_type": "markdown",
   "id": "db910c25-c45a-4675-bee0-f05a9117ea74",
   "metadata": {},
   "source": [
    "- After computing the attention weights and context vectors, the context vectors from all heads are transposed back to the shape (b, num_tokens, num_heads,\n",
    "head_dim). These vectors are then reshaped (flattened) into the shape (b, num_tokens, d_out), effectively combining the outputs from all heads.\n",
    "- We added a so-called __output projection layer (self.out_proj)__ to MultiHeadAttention after combining the heads, which is not present in the CausalAttention class. This layer is not strictly necessary (see the References section in appendix B for more details), but it is commonly used in many LLM architectures, which is why we added it here for completeness.\n",
    "- Even though MultiHeadAttention looks more complicated than MultiHeadAttentionWrapper, it is more efficient - we only need one matrix multiplication to compute the keys, for\n",
    "instance, keys = self.W_key(x) (the same is true for the queries and values).\n",
    "- MultiHeadAttentionWrapper needs to repeat this matrix multiplication (computationally one of the most expensive steps), for each attention head."
   ]
  },
  {
   "cell_type": "code",
   "execution_count": 58,
   "id": "97a04d66-c706-43ec-89b8-47d1f1b65767",
   "metadata": {},
   "outputs": [
    {
     "name": "stdout",
     "output_type": "stream",
     "text": [
      "tensor([[[0.3190, 0.4858],\n",
      "         [0.2943, 0.3897],\n",
      "         [0.2856, 0.3593],\n",
      "         [0.2693, 0.3873],\n",
      "         [0.2639, 0.3928],\n",
      "         [0.2575, 0.4028]],\n",
      "\n",
      "        [[0.3190, 0.4858],\n",
      "         [0.2943, 0.3897],\n",
      "         [0.2856, 0.3593],\n",
      "         [0.2693, 0.3873],\n",
      "         [0.2639, 0.3928],\n",
      "         [0.2575, 0.4028]]], grad_fn=<ViewBackward0>)\n",
      "context_vecs.shape: torch.Size([2, 6, 2])\n"
     ]
    }
   ],
   "source": [
    "torch.manual_seed(123)\n",
    "batch_size, context_length, d_in = batch.shape\n",
    "d_out                            = 2\n",
    "mha                              = MultiHeadAttention(d_in, d_out, context_length, 0.0, num_heads=2)\n",
    "\n",
    "context_vecs = mha(batch)\n",
    "print(context_vecs)\n",
    "print(\"context_vecs.shape:\", context_vecs.shape)"
   ]
  },
  {
   "cell_type": "markdown",
   "id": "78b800be-143d-41a2-a287-ac269e7c5ad3",
   "metadata": {},
   "source": [
    "- In this section we built a __MultiHeadAttention__ class. While the code is functional, we used small embedding sizes and numbers of attention heads to keep the outputs\n",
    "readable. The smallest GPT-2 model (117 million parameters) has 12 attention heads and a context vector embedding size of 768. The largest GPT-2 model (1.5 billion parameters) has 25 attention heads and a context vector embedding size of 1,600.\n",
    "- Note that the embedding sizes of the token inputs and context embeddings are the same in GPT models (d_in = d_out)."
   ]
  },
  {
   "cell_type": "markdown",
   "id": "b260de4e-cfe0-4bd6-aac1-c6e18e90a34f",
   "metadata": {},
   "source": [
    "# 4 Implementing a GPT model from Scratch To Generate Text\n"
   ]
  },
  {
   "cell_type": "markdown",
   "id": "5ea9d9c5-9b26-4afa-971f-cb0373c958aa",
   "metadata": {},
   "source": [
    "## 4.1 Coding an LLM architecture\n",
    "\n",
    "![fig4-2](px/fig4-2.png)\n",
    "\n",
    "### GPT-2 VS. GPT-3\n",
    "- We are focusing on GPT-2 because OpenAI has made the weights of the pretrained model publicly available - we will load them in chapter 6.\n",
    "- GPT-3 is a similar architecture, scaled from 1.5B params (GPT-2) to 175B params & trained on more data. As of this writing, the weights for GPT-3 are not publicly available.\n",
    "- GPT-2 is also a better choice for learning how to implement LLMs, as it can be run on a single laptop. GPT-3 requires a GPU cluster for training and inference.\n",
    "- According to Lambda Labs, it would take 355 years to train GPT-3 on a single V100 datacenter GPU and 665 years on a consumer RTX 8000 GPU."
   ]
  },
  {
   "cell_type": "code",
   "execution_count": 59,
   "id": "b6b422c0-fe7c-44bc-9014-5aca8e80e3b4",
   "metadata": {},
   "outputs": [],
   "source": [
    "# GPT-2 model configuration (dict)\n",
    "GPT_CONFIG_124M = {\n",
    "    \"vocab_size\": 50257, # Vocabulary size\n",
    "    \"context_length\": 1024, # Context length\n",
    "    \"emb_dim\": 768, # Embedding dimension\n",
    "    \"n_heads\": 12, # Number of attention heads\n",
    "    \"n_layers\": 12, # Number of layers\n",
    "    \"drop_rate\": 0.1, # Dropout rate\n",
    "    \"qkv_bias\": False # Query-Key-Value bias\n",
    "}"
   ]
  },
  {
   "cell_type": "markdown",
   "id": "febd5710-9bfd-4c3b-b8e0-0ee67408015f",
   "metadata": {},
   "source": [
    "- Start by implementing a GPT placeholder architecture (DummyGPTModel)\n",
    "- It defines a simple GPT-like model using PyTorch's __nn.Module__. It consists of token and positional embeddings, dropout, a series of transformer blocks\n",
    "(DummyTransformerBlock), a final layer normalization (DummyLayerNorm), and a linear output layer (out_head).\n",
    "- The configuration is passed in via a Python dictionary.\n",
    "- The forward method describes the data flow through the model: it computes token and positional embeddings for the inputs, applies dropout, processes the data through the\n",
    "transformer blocks, applies normalization, and finally produces logits with the linear output layer.\n",
    "- We are using placeholders (DummyLayerNorm and DummyTransformerBlock) for the transformer block and layer normalization for now."
   ]
  },
  {
   "cell_type": "code",
   "execution_count": 60,
   "id": "17860d1c-45a9-4d00-8aed-937b73a91c86",
   "metadata": {},
   "outputs": [],
   "source": [
    "import torch\n",
    "import torch.nn as nn\n",
    "\n",
    "class DummyGPTModel(nn.Module):\n",
    "    def __init__(self, cfg):\n",
    "        super().__init__()\n",
    "        self.tok_emb    = nn.Embedding(cfg[\"vocab_size\"],     cfg[\"emb_dim\"])\n",
    "        self.pos_emb    = nn.Embedding(cfg[\"context_length\"], cfg[\"emb_dim\"])\n",
    "        self.drop_emb   = nn.Dropout(cfg[\"drop_rate\"])\n",
    "\n",
    "        #A Uses a placeholder for TransformerBlock\n",
    "        self.trf_blocks = nn.Sequential(\n",
    "            *[DummyTransformerBlock(cfg)\n",
    "            for _ in range(cfg[\"n_layers\"])])\n",
    "\n",
    "        #B Uses a placeholder for LayerNorm\n",
    "        self.final_norm = DummyLayerNorm(cfg[\"emb_dim\"])\n",
    "        \n",
    "        self.out_head = nn.Linear(\n",
    "            cfg[\"emb_dim\"], cfg[\"vocab_size\"], bias=False)\n",
    "\n",
    "    def forward(self, in_idx):\n",
    "        batch_size, seq_len = in_idx.shape\n",
    "        tok_embeds          = self.tok_emb(in_idx)\n",
    "        pos_embeds          = self.pos_emb(torch.arange(seq_len, device=in_idx.device))\n",
    "        x                   = tok_embeds + pos_embeds\n",
    "        x                   = self.drop_emb(x)\n",
    "        x                   = self.trf_blocks(x)\n",
    "        x                   = self.final_norm(x)\n",
    "        logits              = self.out_head(x)\n",
    "        return logits\n",
    "\n",
    "#C A simple placeholder class that will be replaced by a real TransformerBlock later\n",
    "class DummyTransformerBlock(nn.Module):\n",
    "    def __init__(self, cfg):\n",
    "        super().__init__()\n",
    "\n",
    "    #D does nothing - just returns input.\n",
    "    def forward(self, x):\n",
    "        return x\n",
    "\n",
    "#E placeholder - will be replaced by a real TransformerBlock later\n",
    "class DummyLayerNorm(nn.Module):\n",
    "    def __init__(self, normalized_shape, eps=1e-5): #The parameters here are just to mimic the LayerNorm interface.\n",
    "        super().__init__()\n",
    "    \n",
    "    def forward(self, x):\n",
    "        return x\n"
   ]
  },
  {
   "cell_type": "markdown",
   "id": "cf17c928-bddc-4510-86c2-4a5981a432e8",
   "metadata": {},
   "source": [
    "![fig4-4](px/fig4-4.png)\n",
    "\n",
    "- Tokenize a batch of two text inputs for the GPT model using the tiktoken tokenizer introduced in chapter 2."
   ]
  },
  {
   "cell_type": "code",
   "execution_count": 61,
   "id": "91c56050-7520-4d14-823f-e325519d2607",
   "metadata": {},
   "outputs": [
    {
     "name": "stdout",
     "output_type": "stream",
     "text": [
      "tensor([[6109, 3626, 6100,  345],\n",
      "        [6109, 1110, 6622,  257]])\n"
     ]
    }
   ],
   "source": [
    "import tiktoken\n",
    "tokenizer = tiktoken.get_encoding(\"gpt2\")\n",
    "batch = []\n",
    "txt1 = \"Every effort moves you\"\n",
    "txt2 = \"Every day holds a\"\n",
    "batch.append(torch.tensor(tokenizer.encode(txt1)))\n",
    "batch.append(torch.tensor(tokenizer.encode(txt2)))\n",
    "batch = torch.stack(batch, dim=0)\n",
    "print(batch)"
   ]
  },
  {
   "cell_type": "markdown",
   "id": "d1c0b7fd-e859-4e5f-87d1-9e2aaf1e0029",
   "metadata": {},
   "source": [
    "- Next, initialize a new 124M parameter DummyGPTModel instance and feed it the tokenized batch. The outputs are commonly known as \"logits\"."
   ]
  },
  {
   "cell_type": "code",
   "execution_count": 62,
   "id": "6fcee887-81c8-4162-bdf2-03ee4b056187",
   "metadata": {},
   "outputs": [
    {
     "name": "stdout",
     "output_type": "stream",
     "text": [
      "Output shape: torch.Size([2, 4, 50257])\n",
      "tensor([[[-0.9289,  0.2748, -0.7557,  ..., -1.6070,  0.2702, -0.5888],\n",
      "         [-0.4476,  0.1726,  0.5354,  ..., -0.3932,  1.5285,  0.8557],\n",
      "         [ 0.5680,  1.6053, -0.2155,  ...,  1.1624,  0.1380,  0.7425],\n",
      "         [ 0.0447,  2.4787, -0.8843,  ...,  1.3219, -0.0864, -0.5856]],\n",
      "\n",
      "        [[-1.5474, -0.0542, -1.0571,  ..., -1.8061, -0.4494, -0.6747],\n",
      "         [-0.8422,  0.8243, -0.1098,  ..., -0.1434,  0.2079,  1.2046],\n",
      "         [ 0.1355,  1.1858, -0.1453,  ...,  0.0869, -0.1590,  0.1552],\n",
      "         [ 0.1666, -0.8138,  0.2307,  ...,  2.5035, -0.3055, -0.3083]]],\n",
      "       grad_fn=<UnsafeViewBackward0>)\n"
     ]
    }
   ],
   "source": [
    "torch.manual_seed(123)\n",
    "model = DummyGPTModel(GPT_CONFIG_124M)\n",
    "logits = model(batch)\n",
    "print(\"Output shape:\", logits.shape)\n",
    "print(logits)"
   ]
  },
  {
   "cell_type": "markdown",
   "id": "98e08a59-586b-4fa9-b723-590a7e93db77",
   "metadata": {},
   "source": [
    "- The output tensor has two rows corresponding to the two text samples.\n",
    "- Each text sample has four tokens; each token is a 50,257-dimensional vector (matching the size of the tokenizer’s vocabulary)."
   ]
  },
  {
   "cell_type": "markdown",
   "id": "bccd1d1c-0633-4266-b7eb-bd84aa9da69a",
   "metadata": {},
   "source": [
    "## 4.2 Normalizing activations with layer normalization (LN)\n",
    "- Training is subject to vanishing or exploding gradient problems. They lead to unstable training dynamics and make it difficult for the network to effectively adjust its weights, which means the learning process struggles to find a set of parameters (weights) that minimizes the loss function. \n",
    "- Layer normalization adjusts the activations (outputs) of a layer to have a __mean of 0 and a variance of 1__, (aka unit variance). It speeds up the convergence to effective weights and ensures consistent, reliable training. LN is typically applied before and after the multi-head attention module and before the final output layer.\n",
    "\n",
    "![fig4-5](px/fig4-5.png)"
   ]
  },
  {
   "cell_type": "code",
   "execution_count": 63,
   "id": "073e64f8-9e0d-4431-8e7e-23fa11a6b6c8",
   "metadata": {},
   "outputs": [
    {
     "name": "stdout",
     "output_type": "stream",
     "text": [
      "tensor([[0.2260, 0.3470, 0.0000, 0.2216, 0.0000, 0.0000],\n",
      "        [0.2133, 0.2394, 0.0000, 0.5198, 0.3297, 0.0000]],\n",
      "       grad_fn=<ReluBackward0>)\n"
     ]
    }
   ],
   "source": [
    "torch.manual_seed(123)\n",
    "batch_example = torch.randn(2, 5) # create two training examples with five dimensions each\n",
    "layer = nn.Sequential(nn.Linear(5, 6), nn.ReLU())\n",
    "out = layer(batch_example)\n",
    "print(out)"
   ]
  },
  {
   "cell_type": "markdown",
   "id": "44cf2e2f-d18b-4e8b-bdf0-acc6df1e458a",
   "metadata": {},
   "source": [
    "- The consists of a Linear layer followed by a __nonlinear activation function, ReLU__ (short for rectified linear unit), which is a standard activation function.  ReLUs threshold negative inputs to 0, ensuring that a layer outputs only positive values, which explains why the resulting layer output does not contain\n",
    "any negative values. (we will use another, more sophisticated activation function in GPT, which we will introduce in the next section.)"
   ]
  },
  {
   "cell_type": "code",
   "execution_count": 64,
   "id": "5e8d8fc3-7292-4432-a956-22eea437d793",
   "metadata": {},
   "outputs": [
    {
     "name": "stdout",
     "output_type": "stream",
     "text": [
      "Mean:\n",
      " tensor([[0.1324],\n",
      "        [0.2170]], grad_fn=<MeanBackward1>)\n",
      "Variance:\n",
      " tensor([[0.0231],\n",
      "        [0.0398]], grad_fn=<VarBackward0>)\n"
     ]
    }
   ],
   "source": [
    "mean = out.mean(dim=-1, keepdim=True)\n",
    "var = out.var(dim=-1, keepdim=True)\n",
    "print(\"Mean:\\n\", mean)\n",
    "print(\"Variance:\\n\", var)"
   ]
  },
  {
   "cell_type": "markdown",
   "id": "c2f0d87b-bacc-4425-a8a0-2c40dc8d8023",
   "metadata": {},
   "source": [
    "- __keepdim=True__ in operations like mean or variance calculation ensures the output tensor retains the __same number of dimensions as the input tensor__, even though the operation\n",
    "reduces the tensor along the dimension specified via dim. Without keepdim=True, the returned mean tensor would be a two-dimensional vector [0.1324, 0.2170] instead of a 2 × 1-\n",
    "dimensional matrix [[0.1324], [0.2170]].\n",
    "\n",
    "![fig4-6](px/fig4-6.png)\n",
    "\n",
    "- For a 2D tensor (like a matrix), using dim=-1 for operations such as mean or variance calculation __is the same as using dim=1__. This is because __-1 refers to the tensor’s\n",
    "last dimension__, (columns in a 2D tensor).\n",
    "- Later, when adding layer normalization to the GPT model, which produces 3D tensors with shape [batch_size, num_tokens, embedding_size], we can still use dim=-1 for normalization across the last dimension, avoiding a change from dim=1 to dim=2.\n",
    "- Next: apply LN to the layer outputs we obtained earlier by subtracting the mean and dividing by the square root of the variance (also known as standard deviation). This results in means near zero, and variances of one."
   ]
  },
  {
   "cell_type": "code",
   "execution_count": 65,
   "id": "18bb7862-81ac-4db2-a7f6-40d0c559d6f6",
   "metadata": {},
   "outputs": [
    {
     "name": "stdout",
     "output_type": "stream",
     "text": [
      "Normalized layer outputs:\n",
      " tensor([[ 0.6159,  1.4126, -0.8719,  0.5872, -0.8719, -0.8719],\n",
      "        [-0.0189,  0.1121, -1.0876,  1.5173,  0.5647, -1.0876]],\n",
      "       grad_fn=<DivBackward0>)\n",
      "Mean:\n",
      " tensor([[9.9341e-09],\n",
      "        [1.9868e-08]], grad_fn=<MeanBackward1>)\n",
      "Variance:\n",
      " tensor([[1.0000],\n",
      "        [1.0000]], grad_fn=<VarBackward0>)\n"
     ]
    }
   ],
   "source": [
    "out_norm = (out - mean) / torch.sqrt(var)\n",
    "mean = out_norm.mean(dim=-1, keepdim=True)\n",
    "var = out_norm.var(dim=-1, keepdim=True)\n",
    "print(\"Normalized layer outputs:\\n\", out_norm)\n",
    "print(\"Mean:\\n\", mean)\n",
    "print(\"Variance:\\n\", var)"
   ]
  },
  {
   "cell_type": "markdown",
   "id": "26e83dde-b1fa-4ed0-b324-8136f316640d",
   "metadata": {},
   "source": [
    "- (repeating the above with scientific notation disabled):"
   ]
  },
  {
   "cell_type": "code",
   "execution_count": 66,
   "id": "4c6e8afa-d617-4e39-bc1c-5c4992c4892b",
   "metadata": {},
   "outputs": [
    {
     "name": "stdout",
     "output_type": "stream",
     "text": [
      "Mean:\n",
      " tensor([[    0.0000],\n",
      "        [    0.0000]], grad_fn=<MeanBackward1>)\n",
      "Variance:\n",
      " tensor([[1.0000],\n",
      "        [1.0000]], grad_fn=<VarBackward0>)\n"
     ]
    }
   ],
   "source": [
    "torch.set_printoptions(sci_mode=False)\n",
    "print(\"Mean:\\n\", mean)\n",
    "print(\"Variance:\\n\", var)"
   ]
  },
  {
   "cell_type": "markdown",
   "id": "9e1b5617-18e8-4af2-aabe-2f46691f12c1",
   "metadata": {},
   "source": [
    "- Layer normalization class definition.\n",
    "- This design operates on the last dimension of the input tensor x = embedding dimension (emb_dim).\n",
    "- __eps__ is a small constant (epsilon) added to the variance to prevent division by zero during normalization.\n",
    "- __scale_ and __shift__ are trainable parameters (of the same dimension as the input) that the LLM automatically adjusts during training if it is determined that doing so would improve the model’s performance on its training task. This allows the model to learn appropriate scaling and shifting that best suit the data it is processing."
   ]
  },
  {
   "cell_type": "code",
   "execution_count": 67,
   "id": "095f24f9-abaa-4e33-9c4d-13d51e51bef5",
   "metadata": {},
   "outputs": [],
   "source": [
    "class LayerNorm(nn.Module):\n",
    "    def __init__(self, emb_dim):\n",
    "        super().__init__()\n",
    "        self.eps   = 1e-5\n",
    "        self.scale = nn.Parameter(torch.ones(emb_dim))\n",
    "        self.shift = nn.Parameter(torch.zeros(emb_dim))\n",
    "\n",
    "    def forward(self, x):\n",
    "        mean   = x.mean(dim=-1, keepdim=True)\n",
    "        var    =  x.var(dim=-1, keepdim=True, unbiased=False)\n",
    "        norm_x = (x - mean) / torch.sqrt(var + self.eps)\n",
    "        return self.scale * norm_x + self.shift"
   ]
  },
  {
   "cell_type": "markdown",
   "id": "66938db3-a76f-44c3-ae6b-cdfe08d68624",
   "metadata": {},
   "source": [
    "### BIASED VARIANCE\n",
    "- In our variance calculation method, we set unbiased=False. In the variance calculation we divide by the number of inputs (n). This approach does not apply\n",
    "__Bessel’s correction__, which typically uses n – 1 instead of n in the denominator to adjust for bias in sample variance estimation. This results in a \"biased estimate\" of the variance.\n",
    "- For LLMs, where the embedding dimension n is large, the difference between using n and n – 1 is practically negligible. This approach ensures compatibility with the GPT-2 model’s normalization layers. It also reflects TensorFlow’s default behavior, which was used to implement the original GPT-2 model. Using a similar setting ensures our method is compatible with the pretrained weights we will load in chapter 6."
   ]
  },
  {
   "cell_type": "code",
   "execution_count": 68,
   "id": "1eea1846-7ffe-4f94-b8ab-ef73d32cd8a2",
   "metadata": {},
   "outputs": [
    {
     "name": "stdout",
     "output_type": "stream",
     "text": [
      "Mean:\n",
      " tensor([[    -0.0000],\n",
      "        [     0.0000]], grad_fn=<MeanBackward1>)\n",
      "Variance:\n",
      " tensor([[1.0000],\n",
      "        [1.0000]], grad_fn=<VarBackward0>)\n"
     ]
    }
   ],
   "source": [
    "# apply LN to our batch input\n",
    "ln     = LayerNorm(emb_dim=5)\n",
    "out_ln = ln(batch_example)\n",
    "mean   = out_ln.mean(dim=-1, keepdim=True)\n",
    "var    = out_ln.var(dim=-1, unbiased=False, keepdim=True)\n",
    "print(\"Mean:\\n\", mean)\n",
    "print(\"Variance:\\n\", var)"
   ]
  },
  {
   "cell_type": "markdown",
   "id": "00b7c727-8d2b-4d41-9af9-1631f8a99d05",
   "metadata": {},
   "source": [
    "### Progress thus far:\n",
    "![fig4-7](px/fig4-7.png)\n",
    "\n",
    "### LAYER NORMALIZATION VS. BATCH NORMALIZATION\n",
    "- batch normalization is a common normalization method for neural networks. Unlike batch normalization, which normalizes across the batch dimension, __LN normalizes across the feature dimension__.\n",
    "- LLMs usually need significant computational resources - the hardware or use case can dictate the batch size during training or inference. Since layer normalization normalizes each input independently of the batch size, it offers more flexibility and stability in these scenarios. This is particularly beneficial for distributed training or when deploying models in environments where resources are constrained."
   ]
  },
  {
   "cell_type": "markdown",
   "id": "a46b1476-4b3a-475f-97df-bb9533fbe666",
   "metadata": {},
   "source": [
    "## 4.3 - feed forward networks with GELU activations\n",
    "- In this section, we implement a neural network submodule that is used as part of the transformer block.\n",
    "- Start by designing the GELU activation function. Historically, ReLU has been commonly used due to its simplicity and effectiveness.\n",
    "- Several other activation functions are also often used:\n",
    "    - __GELU__ (Gaussian error linear unit) and __SwiGLU__ (Swish-gated linear unit).\n",
    "- GELU and SwiGLU use Gaussian and sigmoid-gated linear units, respectively. They offer improved performance.\n",
    "- GELU can be implemented in several ways; the exact version is defined as GELU(x) = xΦ(x), where Φ(x) is the cumulative distribution function of the standard Gaussian\n",
    "distribution. In practice, however, it’s common to implement a computationally cheaper approximation (the original GPT-2 model was also trained with this approximation):\n",
    "![GELU](px/GELU.png)"
   ]
  },
  {
   "cell_type": "code",
   "execution_count": 69,
   "id": "0686c135-12a1-4a73-ace3-e93c55c134d3",
   "metadata": {},
   "outputs": [],
   "source": [
    "class GELU(nn.Module):\n",
    "    def __init__(self):\n",
    "        super().__init__()\n",
    "    \n",
    "    def forward(self, x):\n",
    "        return 0.5 * x * (1 + torch.tanh(\n",
    "            torch.sqrt(torch.tensor(2.0 / torch.pi)) * (x + 0.044715 * torch.pow(x, 3))))"
   ]
  },
  {
   "cell_type": "code",
   "execution_count": 70,
   "id": "e0778a30-c544-41a7-8eef-17313b66bc8a",
   "metadata": {},
   "outputs": [
    {
     "data": {
      "image/png": "[encoded data removed]",
      "text/plain": [
       "<Figure size 800x300 with 2 Axes>"
      ]
     },
     "metadata": {},
     "output_type": "display_data"
    }
   ],
   "source": [
    "# plot ReLU vs GELU\n",
    "import matplotlib.pyplot as plt\n",
    "\n",
    "gelu, relu     = GELU(), nn.ReLU()\n",
    "x              = torch.linspace(-3, 3, 100) #A\n",
    "y_gelu, y_relu = gelu(x), relu(x)\n",
    "\n",
    "plt.figure(figsize=(8, 3))\n",
    "for i, (y, label) in enumerate(zip([y_gelu, y_relu], [\"GELU\", \"ReLU\"]), 1):\n",
    "    plt.subplot(1, 2, i)\n",
    "    plt.plot(x, y)\n",
    "    plt.title(f\"{label} activation function\")\n",
    "    plt.xlabel(\"x\")\n",
    "    plt.ylabel(f\"{label}(x)\")\n",
    "    plt.grid(True)\n",
    "    \n",
    "plt.tight_layout()\n",
    "plt.show()"
   ]
  },
  {
   "cell_type": "markdown",
   "id": "9173ece8-37e2-495c-981c-a3e40d1a8afa",
   "metadata": {},
   "source": [
    "- The smoothness of GELU can lead to better optimization properties during training - it allows for more nuanced adjustments to the model’s parameters. ReLU has a sharp corner at zero, which can sometimes make optimization harder, especially in networks that are very deep or have complex architectures.\n",
    "- GELU returns a small, non-zero output for negative values. This means neurons that receive negative input can still contribute to the learning process, albeit to a lesser extent than positive inputs.\n",
    "- Next: use GELU to build the small neural network module, FeedForward, that we will be using in the LLM’s transformer block later."
   ]
  },
  {
   "cell_type": "code",
   "execution_count": 71,
   "id": "7f5e1523-09a0-4d87-a8a7-75aba6bf6830",
   "metadata": {},
   "outputs": [],
   "source": [
    "class FeedForward(nn.Module):\n",
    "    def __init__(self, cfg):\n",
    "        super().__init__()\n",
    "        self.layers = nn.Sequential(\n",
    "            nn.Linear(cfg[\"emb_dim\"], 4 * cfg[\"emb_dim\"]),\n",
    "            GELU(),\n",
    "            nn.Linear(4 * cfg[\"emb_dim\"], cfg[\"emb_dim\"]),\n",
    "        )\n",
    "\n",
    "    def forward(self, x):\n",
    "        return self.layers(x)"
   ]
  },
  {
   "cell_type": "markdown",
   "id": "b76ccc52-9a93-43db-b552-036f6e8cc775",
   "metadata": {},
   "source": [
    "- __FeedForward__ contains two Linear layers and a GELU activation function. In the 124M parameter GPT model, it receives input batches with tokens that have an embedding size of 768 each via the GPT_CONFIG_124M dictionary where GPT_CONFIG_124M[\"emb_dim\"] = 768.\n",
    "\n",
    "![fig4-9](px/fig4-9.png)\n",
    "\n",
    "- Below: build a FeedForward module with a token embedding size of 768 and feed it a batch input with two samples and three tokens each."
   ]
  },
  {
   "cell_type": "code",
   "execution_count": 72,
   "id": "2379b345-c1c3-419d-8a55-a6ee9a574c6c",
   "metadata": {},
   "outputs": [
    {
     "name": "stdout",
     "output_type": "stream",
     "text": [
      "torch.Size([2, 3, 768])\n"
     ]
    }
   ],
   "source": [
    "ffn = FeedForward(GPT_CONFIG_124M)\n",
    "x = torch.rand(2, 3, 768)\n",
    "out = ffn(x)\n",
    "print(out.shape)"
   ]
  },
  {
   "cell_type": "markdown",
   "id": "a80669ee-a97c-4f29-b4ed-8203f3625441",
   "metadata": {},
   "source": [
    "- although the input and output dimensions of The FeedForward module are the same, it internally __expands the embedding dimension into a higher-\n",
    "dimensional space through the first linear layer__. This is followed by a nonlinear GELU activation and then a __contraction__ back to the original dimension. This design enables exploration of a richer feature space.\n",
    "\n",
    "![fig4-10](px/fig4-10.png)\n",
    "\n",
    "- The uniformity in input and output dimensions also simplifies the architecture by __enabling the stacking of multiple layers__, as we will do later, without the need to adjust dimensions between them, thus making the model more scalable."
   ]
  },
  {
   "cell_type": "markdown",
   "id": "41084fe2-b5fd-47bc-8eb1-6141b2d5f914",
   "metadata": {},
   "source": [
    "## 4.4 Adding shortcut connections\n",
    "- Originally, shortcut connections (aka \"skip\" or \"residual\" connectons) were proposed for computer vision applications to mitigate the challenge of __vanishing gradients__ (the issue where gradients (which guide weight updates during training) become progressively smaller as they propagate backward through the layers, making it difficult to\n",
    "effectively train earlier layers.\n",
    "\n",
    "![fig4-12](px/fig4-12.png)\n",
    "\n",
    "- Shortcut connections create alternative, shorter paths for the gradient to flow through the network by skipping one or more layers, which is achieved by adding the output of one layer to the output of a later layer. This is why these connections are also known as skip connections. They play a crucial role in preserving the flow of gradients during the backward pass in training."
   ]
  },
  {
   "cell_type": "code",
   "execution_count": 73,
   "id": "d883ef5a-0672-44cc-818d-120431a2154c",
   "metadata": {},
   "outputs": [],
   "source": [
    "class ExampleDeepNeuralNetwork(nn.Module):\n",
    "    def __init__(self, layer_sizes, use_shortcut):\n",
    "        super().__init__()\n",
    "        self.use_shortcut = use_shortcut\n",
    "        self.layers       = nn.ModuleList([\n",
    "            nn.Sequential(nn.Linear(layer_sizes[0], layer_sizes[1]), GELU()),\n",
    "            nn.Sequential(nn.Linear(layer_sizes[1], layer_sizes[2]), GELU()),\n",
    "            nn.Sequential(nn.Linear(layer_sizes[2], layer_sizes[3]), GELU()),\n",
    "            nn.Sequential(nn.Linear(layer_sizes[3], layer_sizes[4]), GELU()),\n",
    "            nn.Sequential(nn.Linear(layer_sizes[4], layer_sizes[5]), GELU())\n",
    "        ])\n",
    "        \n",
    "    def forward(self, x):\n",
    "        for layer in self.layers:\n",
    "            layer_output = layer(x) # get output of current layer\n",
    "            if self.use_shortcut and x.shape == layer_output.shape: # can shortcut be applied?\n",
    "                x = x + layer_output\n",
    "            else:\n",
    "                x = layer_output\n",
    "        return x"
   ]
  },
  {
   "cell_type": "markdown",
   "id": "c2b10cbd-48fc-4f3d-abbc-bdd2bc99bcbc",
   "metadata": {},
   "source": [
    "- Build a net __without__ shortcut connections. Each layer is designed to accept an example with three inputs & returns three outputs. The last layer returns a single output value."
   ]
  },
  {
   "cell_type": "code",
   "execution_count": 74,
   "id": "388c3cdc-3c41-4f95-8b5c-f4703c26fa84",
   "metadata": {},
   "outputs": [],
   "source": [
    "layer_sizes = [3, 3, 3, 3, 3, 1]\n",
    "sample_input = torch.tensor([[1., 0., -1.]])\n",
    "torch.manual_seed(123)\n",
    "model_without_shortcut = ExampleDeepNeuralNetwork(\n",
    "    layer_sizes, use_shortcut=False)"
   ]
  },
  {
   "cell_type": "markdown",
   "id": "43bb23d4-2276-4249-86a0-c75db0c83c7d",
   "metadata": {},
   "source": [
    "- Design a function to find backward pass gradients:"
   ]
  },
  {
   "cell_type": "code",
   "execution_count": 75,
   "id": "dbb4396a-7df5-472f-b220-5d372a15e26e",
   "metadata": {},
   "outputs": [],
   "source": [
    "def print_gradients(model, x):\n",
    "    \n",
    "    # Forward pass\n",
    "    output = model(x)\n",
    "    target = torch.tensor([[0.]])\n",
    "    \n",
    "    # Calculate loss based on how close the target and output are\n",
    "    loss = nn.MSELoss()\n",
    "    loss = loss(output, target)\n",
    "    \n",
    "    # Backward pass to calculate the gradients\n",
    "    loss.backward()\n",
    "    for name, param in model.named_parameters():\n",
    "        if 'weight' in name:\n",
    "            # Print the mean absolute gradient of the weights\n",
    "            print(f\"{name} has gradient mean of {param.grad.abs().mean().item()}\")"
   ]
  },
  {
   "cell_type": "markdown",
   "id": "4945b5ac-9a93-4796-bb51-f8391e9d8536",
   "metadata": {},
   "source": [
    "- In the preceding code, we specify a loss function that computes how close the model output and a user-specified target (here, for simplicity, the value 0) are. Then, when calling loss.backward(), PyTorch computes the loss gradient for each layer in the model.\n",
    "- We can iterate through the weight parameters via __model.named_parameters()__.\n",
    "- Suppose we have a 3×3 weight matrix for a given layer. This layer will have 3×3 gradient values, and we print the mean absolute gradient of these 3×3 gradient values to obtain a single gradient value per layer to compare the gradients between layers more easily.\n",
    "- PyTorch's __.backward()__ method computes loss gradients, which are required during model training, without implementing the math for the gradient calculation ourselves.\n",
    "- Below: apply __print_gradients__ to the model without skip connections:"
   ]
  },
  {
   "cell_type": "code",
   "execution_count": 76,
   "id": "e2a02cf7-4a90-4efe-a239-6ccf9a93cf05",
   "metadata": {},
   "outputs": [
    {
     "name": "stdout",
     "output_type": "stream",
     "text": [
      "layers.0.0.weight has gradient mean of 0.00020173584925942123\n",
      "layers.1.0.weight has gradient mean of 0.00012011159560643137\n",
      "layers.2.0.weight has gradient mean of 0.0007152040489017963\n",
      "layers.3.0.weight has gradient mean of 0.0013988736318424344\n",
      "layers.4.0.weight has gradient mean of 0.005049645435065031\n"
     ]
    }
   ],
   "source": [
    "print_gradients(model_without_shortcut, sample_input)"
   ]
  },
  {
   "cell_type": "markdown",
   "id": "6a3007d5-2ec9-4259-b22f-6d9eb1425c35",
   "metadata": {},
   "source": [
    "- apply model __with__ skip connections for comparison:"
   ]
  },
  {
   "cell_type": "code",
   "execution_count": 77,
   "id": "33121462-2033-4d2b-828e-37d38c47f05e",
   "metadata": {},
   "outputs": [
    {
     "name": "stdout",
     "output_type": "stream",
     "text": [
      "layers.0.0.weight has gradient mean of 0.22169791162014008\n",
      "layers.1.0.weight has gradient mean of 0.20694105327129364\n",
      "layers.2.0.weight has gradient mean of 0.32896995544433594\n",
      "layers.3.0.weight has gradient mean of 0.2665732204914093\n",
      "layers.4.0.weight has gradient mean of 1.3258540630340576\n"
     ]
    }
   ],
   "source": [
    "torch.manual_seed(123)\n",
    "model_with_shortcut = ExampleDeepNeuralNetwork(\n",
    "    layer_sizes, use_shortcut=True)\n",
    "print_gradients(model_with_shortcut, sample_input)"
   ]
  },
  {
   "cell_type": "markdown",
   "id": "c8d9a95b-dcd0-4a9c-bf79-0c51c144f48a",
   "metadata": {},
   "source": [
    "- Notice the last layer (layers.4) still has a larger gradient than the other\n",
    "layers. However, the __gradient stabilizes__ as we progress toward the first layer (layers.0) and doesn’t shrink to a vanishingly small value."
   ]
  },
  {
   "cell_type": "markdown",
   "id": "f1cddb97-e69e-4418-9de4-267c6f594811",
   "metadata": {},
   "source": [
    "## 4.5 transformer blocks\n",
    "- The transformer block, which is repeated a dozen times in the 124M parameter\n",
    "GPT-2 architecture, combines several concepts: multi-head attention,\n",
    "layer normalization, dropout, feed forward layers, and GELU activations.\n",
    "\n",
    "![fig4-13](px/fig4-13.png)\n",
    "\n",
    "- When a transformer processes an input sequence, each element in the sequence is represented by a fixed-size vector (in this case, 768 dimensions). The operations are designed to transform these vectors in a way that preserves their dimensionality.\n",
    "- The __self-attention__ mechanism in the multi-head attention block __finds relationships between elements__ while the feed forward network modifies the data individually at each position."
   ]
  },
  {
   "cell_type": "code",
   "execution_count": 78,
   "id": "843a980a-2350-468b-bdac-9d884dfff4a7",
   "metadata": {},
   "outputs": [],
   "source": [
    "class TransformerBlock(nn.Module):\n",
    "    def __init__(self, cfg):\n",
    "        super().__init__()\n",
    "        self.att = MultiHeadAttention(\n",
    "            d_in=          cfg[\"emb_dim\"],\n",
    "            d_out=         cfg[\"emb_dim\"],\n",
    "            context_length=cfg[\"context_length\"],\n",
    "            num_heads=     cfg[\"n_heads\"],\n",
    "            dropout=       cfg[\"drop_rate\"],\n",
    "            qkv_bias=      cfg[\"qkv_bias\"])\n",
    "        \n",
    "        self.ff            = FeedForward(cfg)\n",
    "        self.norm1         = LayerNorm(cfg[\"emb_dim\"])\n",
    "        self.norm2         = LayerNorm(cfg[\"emb_dim\"])\n",
    "        self.drop_shortcut = nn.Dropout(cfg[\"drop_rate\"])\n",
    "\n",
    "    def forward(self, x):\n",
    "        shortcut = x # shortcut for attn block\n",
    "        x = self.norm1(x)\n",
    "        x = self.att(x)\n",
    "        x = self.drop_shortcut(x)\n",
    "        x = x + shortcut # Add the original input back\n",
    "        \n",
    "        shortcut = x # shortcut for feed fwd block\n",
    "        x        = self.norm2(x)\n",
    "        x        = self.ff(x)\n",
    "        x        = self.drop_shortcut(x)\n",
    "        x        = x + shortcut # add back original input\n",
    "        return x"
   ]
  },
  {
   "cell_type": "markdown",
   "id": "ff056fff-a4d7-4c6a-8c5e-1317dead304a",
   "metadata": {},
   "source": [
    "- This defines a TransformerBlock class that includes a multi-head attention\n",
    "mechanism (__MultiHeadAttention__) and a feed forward network (__FeedForward__).\n",
    "- Layer normalization (__LayerNorm__) is applied before each of these two components, and dropout is applied afterwards to regularize the model and prevent overfitting. This is also known as Pre-LayerNorm.\n",
    "- Older architectures, such as the original transformer model, applied layer normalization after the self-attention and feed forward networks instead, known as Post-LayerNorm, which often leads to worse training dynamics.\n",
    "- The class also implements the __forward pass__, where each component is followed by a shortcut connection that adds the input of the block to its output.\n",
    "- Below: instantiate a transformer block and feed it some sample data."
   ]
  },
  {
   "cell_type": "code",
   "execution_count": 79,
   "id": "d7d2fc74-a631-461e-a1ba-de0cfd4c14c1",
   "metadata": {},
   "outputs": [
    {
     "name": "stdout",
     "output_type": "stream",
     "text": [
      "Input shape: torch.Size([2, 4, 768])\n",
      "Output shape: torch.Size([2, 4, 768])\n"
     ]
    }
   ],
   "source": [
    "torch.manual_seed(123)\n",
    "x      = torch.rand(2, 4, 768)\n",
    "block  = TransformerBlock(GPT_CONFIG_124M)\n",
    "output = block(x)\n",
    "print(\"Input shape:\", x.shape)\n",
    "print(\"Output shape:\", output.shape)"
   ]
  },
  {
   "cell_type": "markdown",
   "id": "b0a19218-9947-4032-8120-6d5910c8a2ab",
   "metadata": {},
   "source": [
    "- The preservation of shape throughout the transformer block is crucial. It enables uses across a wide range of sequence-to-sequence tasks, where each output vector directly corresponds to an input vector.\n",
    "- The output is a context vector that __holds information from the entire input sequence__. This means that while the length and feature size remain unchanged, the content of each output vector is re-encoded to integrate\n",
    "contextual information from across the entire input sequence."
   ]
  },
  {
   "cell_type": "markdown",
   "id": "47eba29a-d9f1-4fbc-b5e4-c562e028905b",
   "metadata": {},
   "source": [
    "## 4.6 Coding the GPT model\n",
    "- We started with aN overview of a GPT architecture (\"DummyGPTModel\"). We showed the inputs and outputs, but its building blocks remained a black box using placeholder __DummyTransformerBlock__ and __DummyLayerNorm__ classes.\n",
    "\n",
    "![fig4-15](px/fig4-15.png)\n",
    "\n",
    "- Note how the transformer block is repeated many times throughout the model. - It’s repeated 12 times (specified by __n_layers__ in the config) in GPT-2 (124M params), and 36 times in GPT-2 with 1542M params.\n",
    "- The output from the final transformer block is fed to a final layer normalization step before reaching the linear output layer. This layer maps the transformer’s output to a high-dimensional space (in this case, 50,257 dimensions, corresponding to the model’s vocabulary size) to predict the next token in the sequence."
   ]
  },
  {
   "cell_type": "code",
   "execution_count": 80,
   "id": "99015e18-0533-4f8a-a84a-e9201e957acb",
   "metadata": {},
   "outputs": [],
   "source": [
    "class GPTModel(nn.Module):\n",
    "    def __init__(self, cfg):\n",
    "        super().__init__()\n",
    "        self.tok_emb    = nn.Embedding(cfg[\"vocab_size\"],     cfg[\"emb_dim\"])\n",
    "        self.pos_emb    = nn.Embedding(cfg[\"context_length\"], cfg[\"emb_dim\"])\n",
    "        self.drop_emb   = nn.Dropout(cfg[\"drop_rate\"])\n",
    "        self.trf_blocks = nn.Sequential(\n",
    "            *[TransformerBlock(cfg) for _ in range(cfg[\"n_layers\"])])\n",
    "        \n",
    "        self.final_norm = LayerNorm(cfg[\"emb_dim\"])\n",
    "        self.out_head = nn.Linear(\n",
    "            cfg[\"emb_dim\"], cfg[\"vocab_size\"], bias=False)\n",
    "    \n",
    "    def forward(self, in_idx):\n",
    "        batch_size, seq_len = in_idx.shape\n",
    "        tok_embeds          = self.tok_emb(in_idx)\n",
    "        # device setting allows us to choose CPU or GPU\n",
    "        pos_embeds          = self.pos_emb(\n",
    "            torch.arange(seq_len, device=in_idx.device))\n",
    "        \n",
    "        x = tok_embeds + pos_embeds\n",
    "        x = self.drop_emb(x)\n",
    "        x = self.trf_blocks(x)\n",
    "        x = self.final_norm(x)\n",
    "        logits = self.out_head(x)\n",
    "        return logits"
   ]
  },
  {
   "cell_type": "markdown",
   "id": "f0596238-1bce-4670-9654-80ee704e5b73",
   "metadata": {},
   "source": [
    "- Thanks to the TransformerBlock class, the GPTModel class is compact.\n",
    "- __init__ initializes the token and positional embedding layers using the config dict. The embedding layers convert input token indices into dense vectors and adding positional information (see chapter 2).\n",
    "- Next, __init__ creates a sequential stack of TransformerBlock modules equal to the number of layers specified in cfg.\n",
    "- Then a __LayerNorm__ layer is built. It standardizes the outputs from the transformer blocks to stabilize learning.\n",
    "- Finally, a __linear output head__ without bias is defined. It projects the transformer’s output into the vocabulary space of the tokenizer to generate logits for each token in the vocabulary.\n",
    "- __forward__ does the following:\n",
    "    1. computes their embeddings of a batch of input token indices\n",
    "    2. applies the positional embeddings\n",
    "    3. passes the sequence through the transformer blocks\n",
    "    4. normalizes the final output\n",
    "    5. computes the logits (the next token’s unnormalized probabilities)\n",
    "- We will convert these logits into tokens and text outputs in the next section.\n",
    "- Below: initialize the 124M param GPT model using the config dict."
   ]
  },
  {
   "cell_type": "code",
   "execution_count": 81,
   "id": "de322d71-969e-48cb-91a6-e36ee2592e93",
   "metadata": {},
   "outputs": [
    {
     "name": "stdout",
     "output_type": "stream",
     "text": [
      "Input batch:\n",
      " tensor([[6109, 3626, 6100,  345],\n",
      "        [6109, 1110, 6622,  257]])\n",
      "\n",
      "Output shape: torch.Size([2, 4, 50257])\n",
      "tensor([[[ 0.1381,  0.0077, -0.1963,  ..., -0.0222, -0.1060,  0.1717],\n",
      "         [ 0.3865, -0.8408, -0.6564,  ..., -0.5163,  0.2369, -0.3357],\n",
      "         [ 0.6989, -0.1829, -0.1631,  ...,  0.1472, -0.6504, -0.0056],\n",
      "         [-0.4290,  0.1669, -0.1258,  ...,  1.1579,  0.5303, -0.5549]],\n",
      "\n",
      "        [[ 0.1094, -0.2894, -0.1467,  ..., -0.0557,  0.2911, -0.2824],\n",
      "         [ 0.0882, -0.3552, -0.3527,  ...,  1.2930,  0.0053,  0.1898],\n",
      "         [ 0.6091,  0.4702, -0.4094,  ...,  0.7688,  0.3787, -0.1974],\n",
      "         [-0.0612, -0.0737,  0.4751,  ...,  1.2463, -0.3834,  0.0609]]],\n",
      "       grad_fn=<UnsafeViewBackward0>)\n"
     ]
    }
   ],
   "source": [
    "torch.manual_seed(123)\n",
    "model = GPTModel(GPT_CONFIG_124M)\n",
    "out = model(batch)\n",
    "print(\"Input batch:\\n\", batch)\n",
    "print(\"\\nOutput shape:\", out.shape)\n",
    "print(out)"
   ]
  },
  {
   "cell_type": "markdown",
   "id": "5ba3c55e-2446-4264-a173-055ca11f7cc6",
   "metadata": {},
   "source": [
    "- As we can see, the output tensor has the shape [2, 4, 50257]. (we passed two input texts with four tokens each.) The last dimension, 50,257, corresponds to the vocabulary size of the tokenizer.\n",
    "- let’s analyze the size of the model architecture.\n",
    "- __numel()__ (“number of elements”) will help."
   ]
  },
  {
   "cell_type": "code",
   "execution_count": 82,
   "id": "4aa71517-419e-46a2-bb6b-e255b70de96e",
   "metadata": {},
   "outputs": [
    {
     "name": "stdout",
     "output_type": "stream",
     "text": [
      "Total number of parameters: 163,009,536\n"
     ]
    }
   ],
   "source": [
    "total_params = sum(p.numel() for p in model.parameters())\n",
    "print(f\"Total number of parameters: {total_params:,}\")"
   ]
  },
  {
   "cell_type": "markdown",
   "id": "1840aac8-d45c-4338-811d-7b6a2ea5e0e8",
   "metadata": {},
   "source": [
    "- Why is the actual number of parameters 163M, not 124M?\n",
    "- The reason is a concept called __weight tying__ used in the original GPT-2 architecture. It means the architecture is __reusing the weights__ from the token embedding layer in its output layer.\n",
    "- To understand what this means, let’s take a look at the shapes of the token\n",
    "embedding layer and linear output layer that we initialized:"
   ]
  },
  {
   "cell_type": "code",
   "execution_count": 83,
   "id": "d1131159-8e4d-4cc9-9a22-4f5ea6977c4a",
   "metadata": {},
   "outputs": [
    {
     "name": "stdout",
     "output_type": "stream",
     "text": [
      "Token embedding layer shape: torch.Size([50257, 768])\n",
      "Output layer shape: torch.Size([50257, 768])\n"
     ]
    }
   ],
   "source": [
    "print(\"Token embedding layer shape:\", model.tok_emb.weight.shape)\n",
    "print(\"Output layer shape:\", model.out_head.weight.shape)"
   ]
  },
  {
   "cell_type": "markdown",
   "id": "6b50de82-3671-436f-9818-1ec62cf1dc36",
   "metadata": {},
   "source": [
    "- The token embedding and output layers are very large due to the number of rows (50,257) in\n",
    "the tokenizer’s vocabulary. Let’s remove the output layer parameter count from the total GPT-2 model count according to the weight tying:"
   ]
  },
  {
   "cell_type": "code",
   "execution_count": 84,
   "id": "16116cd0-8c84-4f7a-995b-39db5838f846",
   "metadata": {},
   "outputs": [
    {
     "name": "stdout",
     "output_type": "stream",
     "text": [
      "Number of trainable parameters considering weight tying: 124,412,160\n"
     ]
    }
   ],
   "source": [
    "total_params_gpt2 = (\n",
    "    total_params - sum(p.numel()\n",
    "    for p in model.out_head.parameters()))\n",
    "print(f\"Number of trainable parameters \"\n",
    "f\"considering weight tying: {total_params_gpt2:,}\")"
   ]
  },
  {
   "cell_type": "markdown",
   "id": "cb574ff3-2db4-4759-bfb6-2ac4f6eb90ef",
   "metadata": {},
   "source": [
    "- Now the model has 124M parameters - matching the original size.\n",
    "- __Weight tying reduces memory footprint and computational complexity__.\n",
    "- However, in my experience, using separate token embedding and output layers results in better training and model performance; hence, we use separate layers in our GPTModel implementation.\n",
    "- The same is true for modern LLMs. However, we will revisit and implement the weight tying concept later."
   ]
  },
  {
   "cell_type": "markdown",
   "id": "6e676d59-9a18-4700-abb4-c97bcbe41df0",
   "metadata": {},
   "source": [
    "- Find the memory requirements of the 163M parameters in our GPTModel\n",
    "object:"
   ]
  },
  {
   "cell_type": "code",
   "execution_count": 85,
   "id": "946b75d1-3983-41ca-8bc7-8d50df759fe2",
   "metadata": {},
   "outputs": [
    {
     "name": "stdout",
     "output_type": "stream",
     "text": [
      "Total size of the model: 621.83 MB\n"
     ]
    }
   ],
   "source": [
    "# assumes using float32 = 4 bytes per parameter\n",
    "total_size_bytes = total_params * 4\n",
    "total_size_mb = total_size_bytes / (1024 * 1024)\n",
    "print(f\"Total size of the model: {total_size_mb:.2f} MB\")"
   ]
  },
  {
   "cell_type": "markdown",
   "id": "ae18da72-9024-49d0-a36d-95f809d26367",
   "metadata": {},
   "source": [
    "## 4.7 Generating text\n",
    "\n",
    "![fig4-16](px/fig4-16.png)\n",
    "\n",
    "- With each iteration, the input context grows & allows the model to generate appropriate text. By the sixth iteration, the model has constructed a complete sentence: “Hello, I am a model ready to help.”\n",
    "- In the previous section, we saw that our current GPTModel implementation outputs tensors with shape [batch_size, num_token, vocab_size]. So how does a GPT model go from these output tensors to the generated text?\n",
    "- In each step, __the model outputs a matrix with vectors representing potential next tokens__. The vector corresponding to the next token is extracted and converted into a probability distribution via softmax function.\n",
    "- Within the vector containing the resulting probability scores, __the index of the highest value is located, which translates to the token ID__. This token ID is then decoded back into text, producing the next token in the sequence.\n",
    "- Finally, this token is __appended to the previous inputs__, forming a new sequence for the next iteration."
   ]
  },
  {
   "cell_type": "code",
   "execution_count": 86,
   "id": "5b297c98-ebbb-497d-a9c4-59f5d7f94b6a",
   "metadata": {},
   "outputs": [],
   "source": [
    "def generate_text_simple(\n",
    "    model, idx, # array of (batch, n_tokens) indices in current context\n",
    "    max_new_tokens, context_size):\n",
    "\n",
    "    for _ in range(max_new_tokens):\n",
    "\n",
    "        # crop current context if larger than supported context size\n",
    "        idx_cond = idx[:, -context_size:]\n",
    "        with torch.no_grad():\n",
    "            logits = model(idx_cond)\n",
    "\n",
    "        # focus on last time step, so (batch, n_token, vocab_size)\n",
    "        # becomes (batch, vocab_size)\n",
    "        logits = logits[:, -1, :]\n",
    "\n",
    "        # probas has shape (batch, vocab_size)\n",
    "        probas = torch.softmax(logits, dim=-1)\n",
    "\n",
    "        # idx_next has shape (batch,1)\n",
    "        idx_next = torch.argmax(probas, dim=-1, keepdim=True)\n",
    "\n",
    "        # appends sampled index to running sequence.\n",
    "        # idx has shape (batch, n_tokens+1)\n",
    "        idx = torch.cat((idx, idx_next), dim=1)\n",
    "\n",
    "    return idx"
   ]
  },
  {
   "cell_type": "markdown",
   "id": "eae185ea-30e7-41d1-9141-e7e72777b50a",
   "metadata": {},
   "source": [
    "- This function iterates for a specified number of new tokens to be generated,\n",
    "crops the current context to fit the model’s maximum context size, computes predictions, and then selects the next token based on the highest probability prediction.\n",
    "- We use softmax to convert logits into a probability distribution from which we identify the position with the highest value via __torch.argmax__. softmax is monotonic (it preserves the order of its inputs when transformed into outputs). So, in practice, the softmax step is redundant since the position with the highest score in the softmax output tensor is the same position in the logit tensor. In other words, __we could apply torch.argmax to the logits tensor directly and get identical results.\n",
    "- However, this illustrates the full process of transforming logits to probabilities, which can add additional intuition so that the model generates the most likely next\n",
    "token, which is known as __greedy decoding__."
   ]
  },
  {
   "cell_type": "code",
   "execution_count": 87,
   "id": "2f01511c-24f6-4aa4-9a79-f858f2da956a",
   "metadata": {},
   "outputs": [
    {
     "name": "stdout",
     "output_type": "stream",
     "text": [
      "encoded: [15496, 11, 314, 716]\n",
      "encoded_tensor.shape: torch.Size([1, 4])\n"
     ]
    }
   ],
   "source": [
    "start_context = \"Hello, I am\"\n",
    "encoded = tokenizer.encode(start_context)\n",
    "print(\"encoded:\", encoded)\n",
    "encoded_tensor = torch.tensor(encoded).unsqueeze(0) # adds batch dimension\n",
    "print(\"encoded_tensor.shape:\", encoded_tensor.shape)"
   ]
  },
  {
   "cell_type": "markdown",
   "id": "259f2b4c-56a9-4864-8cf6-64903481abe9",
   "metadata": {},
   "source": [
    "- Use __.eval() mode__ which disables random components like dropout, which are only used during training, and use the __generate_text_simple__ function on the encoded input\n",
    "tensor:"
   ]
  },
  {
   "cell_type": "code",
   "execution_count": 88,
   "id": "e6063c04-b116-4ea0-a41f-47f8a6d8cc61",
   "metadata": {},
   "outputs": [
    {
     "name": "stdout",
     "output_type": "stream",
     "text": [
      "Output: tensor([[15496,    11,   314,   716, 27018, 24086, 47843, 30961, 42348,  7267,\n",
      "         49706, 43231, 47062, 34657]])\n",
      "Output length: 14\n"
     ]
    }
   ],
   "source": [
    "model.eval() # disables dropout, since we aren't training\n",
    "out = generate_text_simple(\n",
    "    model=model,\n",
    "    idx=encoded_tensor,\n",
    "    max_new_tokens=10,\n",
    "    context_size=GPT_CONFIG_124M[\"context_length\"])\n",
    "print(\"Output:\", out)\n",
    "print(\"Output length:\", len(out[0]))"
   ]
  },
  {
   "cell_type": "markdown",
   "id": "16f79ec2-81e2-45b7-9840-a0e94c9cb130",
   "metadata": {},
   "source": [
    "- Convert the IDs back into text using __.decode__."
   ]
  },
  {
   "cell_type": "code",
   "execution_count": 89,
   "id": "154ab0d9-91cb-412f-b30c-e814c6fea471",
   "metadata": {},
   "outputs": [
    {
     "name": "stdout",
     "output_type": "stream",
     "text": [
      "Hello, I am Featureiman Byeswickattribute argue logger Normandy Compton analogous\n"
     ]
    }
   ],
   "source": [
    "decoded_text = tokenizer.decode(out.squeeze(0).tolist())\n",
    "print(decoded_text)"
   ]
  },
  {
   "cell_type": "markdown",
   "id": "55d05ddd-383e-4911-aa4a-40de555a28f9",
   "metadata": {},
   "source": [
    "- The model generated gibberish. What happened? The reason is that we haven’t trained it yet. So far, we have designed a GPT architecture and initialized a GPT model instance with __initial random weights__. We will tackle model training in the next chapter."
   ]
  },
  {
   "cell_type": "markdown",
   "id": "db7b4fbb-2322-42b0-89f2-6a7694a736bf",
   "metadata": {},
   "source": [
    "# 5 Pretraining on Unlabeled Data\n",
    "### WEIGHT PARAMETERS\n",
    "- Weights refer to trainable (learnable) parameters. In frameworks like PyTorch, weights are stored in __linear layers__; we used these to build a __multi-head attention__ module and\n",
    "the __GPTModel__ in chapter 4.\n",
    "- __torch.nn.Linear(...))__ let us access its weights via __new_layer.weight__.\n",
    "- PyTorch allows direct access to all a model’s trainable parameters, including\n",
    "weights and biases, via __model.parameters()__."
   ]
  },
  {
   "cell_type": "markdown",
   "id": "0ceecd9d-3ef2-4d6e-b2a9-436d85d50082",
   "metadata": {},
   "source": [
    "## 5.1 Evaluating generative text models"
   ]
  },
  {
   "cell_type": "markdown",
   "id": "611647df-fec7-46fd-8551-1afb36475619",
   "metadata": {},
   "source": [
    "### 5.1.1 Using GPT to generate text\n",
    "- Begin by initializing a GPT model using __GPTModel__ and __GPT_CONFIG_124M__."
   ]
  },
  {
   "cell_type": "code",
   "execution_count": 90,
   "id": "ee3b4c89-ba05-4289-bda1-d7e4bff15602",
   "metadata": {},
   "outputs": [
    {
     "data": {
      "text/plain": [
       "GPTModel(\n",
       "  (tok_emb): Embedding(50257, 768)\n",
       "  (pos_emb): Embedding(256, 768)\n",
       "  (drop_emb): Dropout(p=0.1, inplace=False)\n",
       "  (trf_blocks): Sequential(\n",
       "    (0): TransformerBlock(\n",
       "      (att): MultiHeadAttention(\n",
       "        (W_query): Linear(in_features=768, out_features=768, bias=False)\n",
       "        (W_key): Linear(in_features=768, out_features=768, bias=False)\n",
       "        (W_value): Linear(in_features=768, out_features=768, bias=False)\n",
       "        (out_proj): Linear(in_features=768, out_features=768, bias=True)\n",
       "        (dropout): Dropout(p=0.1, inplace=False)\n",
       "      )\n",
       "      (ff): FeedForward(\n",
       "        (layers): Sequential(\n",
       "          (0): Linear(in_features=768, out_features=3072, bias=True)\n",
       "          (1): GELU()\n",
       "          (2): Linear(in_features=3072, out_features=768, bias=True)\n",
       "        )\n",
       "      )\n",
       "      (norm1): LayerNorm()\n",
       "      (norm2): LayerNorm()\n",
       "      (drop_shortcut): Dropout(p=0.1, inplace=False)\n",
       "    )\n",
       "    (1): TransformerBlock(\n",
       "      (att): MultiHeadAttention(\n",
       "        (W_query): Linear(in_features=768, out_features=768, bias=False)\n",
       "        (W_key): Linear(in_features=768, out_features=768, bias=False)\n",
       "        (W_value): Linear(in_features=768, out_features=768, bias=False)\n",
       "        (out_proj): Linear(in_features=768, out_features=768, bias=True)\n",
       "        (dropout): Dropout(p=0.1, inplace=False)\n",
       "      )\n",
       "      (ff): FeedForward(\n",
       "        (layers): Sequential(\n",
       "          (0): Linear(in_features=768, out_features=3072, bias=True)\n",
       "          (1): GELU()\n",
       "          (2): Linear(in_features=3072, out_features=768, bias=True)\n",
       "        )\n",
       "      )\n",
       "      (norm1): LayerNorm()\n",
       "      (norm2): LayerNorm()\n",
       "      (drop_shortcut): Dropout(p=0.1, inplace=False)\n",
       "    )\n",
       "    (2): TransformerBlock(\n",
       "      (att): MultiHeadAttention(\n",
       "        (W_query): Linear(in_features=768, out_features=768, bias=False)\n",
       "        (W_key): Linear(in_features=768, out_features=768, bias=False)\n",
       "        (W_value): Linear(in_features=768, out_features=768, bias=False)\n",
       "        (out_proj): Linear(in_features=768, out_features=768, bias=True)\n",
       "        (dropout): Dropout(p=0.1, inplace=False)\n",
       "      )\n",
       "      (ff): FeedForward(\n",
       "        (layers): Sequential(\n",
       "          (0): Linear(in_features=768, out_features=3072, bias=True)\n",
       "          (1): GELU()\n",
       "          (2): Linear(in_features=3072, out_features=768, bias=True)\n",
       "        )\n",
       "      )\n",
       "      (norm1): LayerNorm()\n",
       "      (norm2): LayerNorm()\n",
       "      (drop_shortcut): Dropout(p=0.1, inplace=False)\n",
       "    )\n",
       "    (3): TransformerBlock(\n",
       "      (att): MultiHeadAttention(\n",
       "        (W_query): Linear(in_features=768, out_features=768, bias=False)\n",
       "        (W_key): Linear(in_features=768, out_features=768, bias=False)\n",
       "        (W_value): Linear(in_features=768, out_features=768, bias=False)\n",
       "        (out_proj): Linear(in_features=768, out_features=768, bias=True)\n",
       "        (dropout): Dropout(p=0.1, inplace=False)\n",
       "      )\n",
       "      (ff): FeedForward(\n",
       "        (layers): Sequential(\n",
       "          (0): Linear(in_features=768, out_features=3072, bias=True)\n",
       "          (1): GELU()\n",
       "          (2): Linear(in_features=3072, out_features=768, bias=True)\n",
       "        )\n",
       "      )\n",
       "      (norm1): LayerNorm()\n",
       "      (norm2): LayerNorm()\n",
       "      (drop_shortcut): Dropout(p=0.1, inplace=False)\n",
       "    )\n",
       "    (4): TransformerBlock(\n",
       "      (att): MultiHeadAttention(\n",
       "        (W_query): Linear(in_features=768, out_features=768, bias=False)\n",
       "        (W_key): Linear(in_features=768, out_features=768, bias=False)\n",
       "        (W_value): Linear(in_features=768, out_features=768, bias=False)\n",
       "        (out_proj): Linear(in_features=768, out_features=768, bias=True)\n",
       "        (dropout): Dropout(p=0.1, inplace=False)\n",
       "      )\n",
       "      (ff): FeedForward(\n",
       "        (layers): Sequential(\n",
       "          (0): Linear(in_features=768, out_features=3072, bias=True)\n",
       "          (1): GELU()\n",
       "          (2): Linear(in_features=3072, out_features=768, bias=True)\n",
       "        )\n",
       "      )\n",
       "      (norm1): LayerNorm()\n",
       "      (norm2): LayerNorm()\n",
       "      (drop_shortcut): Dropout(p=0.1, inplace=False)\n",
       "    )\n",
       "    (5): TransformerBlock(\n",
       "      (att): MultiHeadAttention(\n",
       "        (W_query): Linear(in_features=768, out_features=768, bias=False)\n",
       "        (W_key): Linear(in_features=768, out_features=768, bias=False)\n",
       "        (W_value): Linear(in_features=768, out_features=768, bias=False)\n",
       "        (out_proj): Linear(in_features=768, out_features=768, bias=True)\n",
       "        (dropout): Dropout(p=0.1, inplace=False)\n",
       "      )\n",
       "      (ff): FeedForward(\n",
       "        (layers): Sequential(\n",
       "          (0): Linear(in_features=768, out_features=3072, bias=True)\n",
       "          (1): GELU()\n",
       "          (2): Linear(in_features=3072, out_features=768, bias=True)\n",
       "        )\n",
       "      )\n",
       "      (norm1): LayerNorm()\n",
       "      (norm2): LayerNorm()\n",
       "      (drop_shortcut): Dropout(p=0.1, inplace=False)\n",
       "    )\n",
       "    (6): TransformerBlock(\n",
       "      (att): MultiHeadAttention(\n",
       "        (W_query): Linear(in_features=768, out_features=768, bias=False)\n",
       "        (W_key): Linear(in_features=768, out_features=768, bias=False)\n",
       "        (W_value): Linear(in_features=768, out_features=768, bias=False)\n",
       "        (out_proj): Linear(in_features=768, out_features=768, bias=True)\n",
       "        (dropout): Dropout(p=0.1, inplace=False)\n",
       "      )\n",
       "      (ff): FeedForward(\n",
       "        (layers): Sequential(\n",
       "          (0): Linear(in_features=768, out_features=3072, bias=True)\n",
       "          (1): GELU()\n",
       "          (2): Linear(in_features=3072, out_features=768, bias=True)\n",
       "        )\n",
       "      )\n",
       "      (norm1): LayerNorm()\n",
       "      (norm2): LayerNorm()\n",
       "      (drop_shortcut): Dropout(p=0.1, inplace=False)\n",
       "    )\n",
       "    (7): TransformerBlock(\n",
       "      (att): MultiHeadAttention(\n",
       "        (W_query): Linear(in_features=768, out_features=768, bias=False)\n",
       "        (W_key): Linear(in_features=768, out_features=768, bias=False)\n",
       "        (W_value): Linear(in_features=768, out_features=768, bias=False)\n",
       "        (out_proj): Linear(in_features=768, out_features=768, bias=True)\n",
       "        (dropout): Dropout(p=0.1, inplace=False)\n",
       "      )\n",
       "      (ff): FeedForward(\n",
       "        (layers): Sequential(\n",
       "          (0): Linear(in_features=768, out_features=3072, bias=True)\n",
       "          (1): GELU()\n",
       "          (2): Linear(in_features=3072, out_features=768, bias=True)\n",
       "        )\n",
       "      )\n",
       "      (norm1): LayerNorm()\n",
       "      (norm2): LayerNorm()\n",
       "      (drop_shortcut): Dropout(p=0.1, inplace=False)\n",
       "    )\n",
       "    (8): TransformerBlock(\n",
       "      (att): MultiHeadAttention(\n",
       "        (W_query): Linear(in_features=768, out_features=768, bias=False)\n",
       "        (W_key): Linear(in_features=768, out_features=768, bias=False)\n",
       "        (W_value): Linear(in_features=768, out_features=768, bias=False)\n",
       "        (out_proj): Linear(in_features=768, out_features=768, bias=True)\n",
       "        (dropout): Dropout(p=0.1, inplace=False)\n",
       "      )\n",
       "      (ff): FeedForward(\n",
       "        (layers): Sequential(\n",
       "          (0): Linear(in_features=768, out_features=3072, bias=True)\n",
       "          (1): GELU()\n",
       "          (2): Linear(in_features=3072, out_features=768, bias=True)\n",
       "        )\n",
       "      )\n",
       "      (norm1): LayerNorm()\n",
       "      (norm2): LayerNorm()\n",
       "      (drop_shortcut): Dropout(p=0.1, inplace=False)\n",
       "    )\n",
       "    (9): TransformerBlock(\n",
       "      (att): MultiHeadAttention(\n",
       "        (W_query): Linear(in_features=768, out_features=768, bias=False)\n",
       "        (W_key): Linear(in_features=768, out_features=768, bias=False)\n",
       "        (W_value): Linear(in_features=768, out_features=768, bias=False)\n",
       "        (out_proj): Linear(in_features=768, out_features=768, bias=True)\n",
       "        (dropout): Dropout(p=0.1, inplace=False)\n",
       "      )\n",
       "      (ff): FeedForward(\n",
       "        (layers): Sequential(\n",
       "          (0): Linear(in_features=768, out_features=3072, bias=True)\n",
       "          (1): GELU()\n",
       "          (2): Linear(in_features=3072, out_features=768, bias=True)\n",
       "        )\n",
       "      )\n",
       "      (norm1): LayerNorm()\n",
       "      (norm2): LayerNorm()\n",
       "      (drop_shortcut): Dropout(p=0.1, inplace=False)\n",
       "    )\n",
       "    (10): TransformerBlock(\n",
       "      (att): MultiHeadAttention(\n",
       "        (W_query): Linear(in_features=768, out_features=768, bias=False)\n",
       "        (W_key): Linear(in_features=768, out_features=768, bias=False)\n",
       "        (W_value): Linear(in_features=768, out_features=768, bias=False)\n",
       "        (out_proj): Linear(in_features=768, out_features=768, bias=True)\n",
       "        (dropout): Dropout(p=0.1, inplace=False)\n",
       "      )\n",
       "      (ff): FeedForward(\n",
       "        (layers): Sequential(\n",
       "          (0): Linear(in_features=768, out_features=3072, bias=True)\n",
       "          (1): GELU()\n",
       "          (2): Linear(in_features=3072, out_features=768, bias=True)\n",
       "        )\n",
       "      )\n",
       "      (norm1): LayerNorm()\n",
       "      (norm2): LayerNorm()\n",
       "      (drop_shortcut): Dropout(p=0.1, inplace=False)\n",
       "    )\n",
       "    (11): TransformerBlock(\n",
       "      (att): MultiHeadAttention(\n",
       "        (W_query): Linear(in_features=768, out_features=768, bias=False)\n",
       "        (W_key): Linear(in_features=768, out_features=768, bias=False)\n",
       "        (W_value): Linear(in_features=768, out_features=768, bias=False)\n",
       "        (out_proj): Linear(in_features=768, out_features=768, bias=True)\n",
       "        (dropout): Dropout(p=0.1, inplace=False)\n",
       "      )\n",
       "      (ff): FeedForward(\n",
       "        (layers): Sequential(\n",
       "          (0): Linear(in_features=768, out_features=3072, bias=True)\n",
       "          (1): GELU()\n",
       "          (2): Linear(in_features=3072, out_features=768, bias=True)\n",
       "        )\n",
       "      )\n",
       "      (norm1): LayerNorm()\n",
       "      (norm2): LayerNorm()\n",
       "      (drop_shortcut): Dropout(p=0.1, inplace=False)\n",
       "    )\n",
       "  )\n",
       "  (final_norm): LayerNorm()\n",
       "  (out_head): Linear(in_features=768, out_features=50257, bias=False)\n",
       ")"
      ]
     },
     "execution_count": 90,
     "metadata": {},
     "output_type": "execute_result"
    }
   ],
   "source": [
    "#import torch\n",
    "#from chapter04 import GPTModel\n",
    "GPT_CONFIG_124M = {\n",
    "    \"vocab_size\": 50257,\n",
    "    \"context_length\": 256, # shortened from 1024\n",
    "    \"emb_dim\": 768,\n",
    "    \"n_heads\": 12,\n",
    "    \"n_layers\": 12,\n",
    "    \"drop_rate\": 0.1, # common setting: 0\n",
    "    \"qkv_bias\": False\n",
    "}\n",
    "torch.manual_seed(123)\n",
    "model = GPTModel(GPT_CONFIG_124M)\n",
    "model.eval()"
   ]
  },
  {
   "cell_type": "markdown",
   "id": "53c8cd1d-5441-48e6-b365-4ecf62abbbbc",
   "metadata": {},
   "source": [
    "- The only adjustment we made compared to the previous chapter is reducing the context length (context_length) to 256 tokens. This reduces the computational demands of training the model, making it possible to carry out the training on a standard laptop.\n",
    "- Originally, GPT-2 with 124M params was configured to handle up to 1,024 tokens. After training we will update the context size & load pretrained weights to work with a model with a 1,024-token context length.\n",
    "- Using the __GPTmodel__ instance, we adopt __generate_text_simple__ and introduce __text_to_token_ids__ and __token_ids_to_text__.\n",
    "\n",
    "![fig5-3](px/fig5-3.png)\n",
    "\n",
    "- This illustrates a three-step text generation process using a GPT model.\n",
    "1) tokenizer converts input text into a series of token IDs (chap 2).\n",
    "2) model gets token IDs and generates corresponding logits (vectors of probability\n",
    "distribution for each token in the vocabulary (chap 4).\n",
    "3) ogits are converted back to token IDs - the tokenizer decodes them into human-readable text."
   ]
  },
  {
   "cell_type": "code",
   "execution_count": 91,
   "id": "17debd1a-c85f-4a93-b267-af9a4bf7bbc8",
   "metadata": {},
   "outputs": [
    {
     "name": "stdout",
     "output_type": "stream",
     "text": [
      "Output text:\n",
      " Every effort moves you rentingetic wasnم refres RexMeCHicular stren\n"
     ]
    }
   ],
   "source": [
    "import tiktoken\n",
    "#from chapter04 import generate_text_simple\n",
    "\n",
    "def text_to_token_ids(text, tokenizer):\n",
    "    encoded = tokenizer.encode(text, allowed_special={'<|endoftext|>'})\n",
    "    encoded_tensor = torch.tensor(encoded).unsqueeze(0)\n",
    "    # .unsqueeze(0) adds the batch dimension\n",
    "    return encoded_tensor\n",
    "\n",
    "def token_ids_to_text(token_ids, tokenizer):\n",
    "    flat = token_ids.squeeze(0) # Remove batch dimension\n",
    "    return tokenizer.decode(flat.tolist())\n",
    "\n",
    "start_context = \"Every effort moves you\"\n",
    "tokenizer     = tiktoken.get_encoding(\"gpt2\")\n",
    "token_ids     = generate_text_simple(\n",
    "    model=model, \n",
    "    idx=text_to_token_ids(start_context, tokenizer),\n",
    "    max_new_tokens=10,\n",
    "    context_size=GPT_CONFIG_124M[\"context_length\"]\n",
    ")\n",
    "\n",
    "print(\"Output text:\\n\", token_ids_to_text(token_ids, tokenizer))"
   ]
  },
  {
   "cell_type": "markdown",
   "id": "4f536541-5048-449b-9857-4d701e2fd46f",
   "metadata": {},
   "source": [
    "- It’s clear the model isn’t yet producing coherent text. To define what makes text “coherent” or “high quality,” we have to design a numerical method to evaluate the generated content. It's called a __loss_metric__."
   ]
  },
  {
   "cell_type": "markdown",
   "id": "317c2cc9-16e1-4b0a-924e-c64c71f4d12b",
   "metadata": {},
   "source": [
    "### 5.1.2 Calculating the text generation loss\n",
    "- Consider the two input examples, which have already been mapped to token IDs and matching targets (what we want the model to produce.)\n",
    "- Note: targets = inputs, shifted one position forward. Crucial for prediction training.\n",
    "- Feed the inputs into the model to find logits vectors. (2 x 3 tokens each.)\n",
    "- Apply softmax on logits - returns prob scores (probas)."
   ]
  },
  {
   "cell_type": "code",
   "execution_count": 92,
   "id": "b465ae0e-4d92-4a67-a9ab-edc2f11f7192",
   "metadata": {},
   "outputs": [],
   "source": [
    "inputs = torch.tensor([[16833, 3626, 6100], # [\"every effort moves\",\n",
    "                        [40, 1107, 588]]) # \"I really like\"]\n",
    "targets = torch.tensor([[3626, 6100, 345 ], # [\" effort moves you\",\n",
    "                        [588, 428, 11311]]) # \" really like chocolate\"]"
   ]
  },
  {
   "cell_type": "code",
   "execution_count": 93,
   "id": "c035ca01-3623-4778-8bea-ecaf8e169763",
   "metadata": {},
   "outputs": [
    {
     "name": "stdout",
     "output_type": "stream",
     "text": [
      "torch.Size([2, 3, 50257])\n"
     ]
    }
   ],
   "source": [
    "with torch.no_grad(): # disable gradient tracking (not training yet)\n",
    "    logits = model(inputs)\n",
    "probas = torch.softmax(logits, dim=-1) #prob of each token in vocabulary\n",
    "print(probas.shape)"
   ]
  },
  {
   "cell_type": "markdown",
   "id": "ea2c12f5-48bf-4c58-a74d-1f5af98ffc66",
   "metadata": {},
   "source": [
    "- 2 = two examples in the inputs = batch size.\n",
    "- 3 = number of tokens per input.\n",
    "- 50257 = embedding dimension = vocabulary size."
   ]
  },
  {
   "cell_type": "code",
   "execution_count": 94,
   "id": "bfc6eb2c-3e72-4351-a449-2fe04e53448c",
   "metadata": {},
   "outputs": [
    {
     "name": "stdout",
     "output_type": "stream",
     "text": [
      "Token IDs:\n",
      " tensor([[[16657],\n",
      "         [  339],\n",
      "         [42826]],\n",
      "\n",
      "        [[49906],\n",
      "         [29669],\n",
      "         [41751]]])\n"
     ]
    }
   ],
   "source": [
    "token_ids = torch.argmax(probas, dim=-1, keepdim=True)\n",
    "print(\"Token IDs:\\n\", token_ids)"
   ]
  },
  {
   "cell_type": "code",
   "execution_count": 95,
   "id": "bd027730-80a1-473a-9649-2e67415add3c",
   "metadata": {},
   "outputs": [
    {
     "name": "stdout",
     "output_type": "stream",
     "text": [
      "Targets batch 1:  effort moves you\n",
      "Outputs batch 1:  Armed heNetflix\n"
     ]
    }
   ],
   "source": [
    "# convert token IDs back to text - not yet trained, so we get random text back.\n",
    "print(f\"Targets batch 1: {token_ids_to_text(targets[0], tokenizer)}\")\n",
    "print(f\"Outputs batch 1:\"\n",
    "    f\" {token_ids_to_text(token_ids[0].flatten(), tokenizer)}\")"
   ]
  },
  {
   "cell_type": "markdown",
   "id": "417e7481-1a91-4045-8245-7a51428b6f15",
   "metadata": {},
   "source": [
    "![fig5-6](px/fig5-6.png)\n",
    "- Text evaluation measures “how far” the tokens are from the correct predictions (targets).\n",
    "Training functions use the distance to adjust model weights by increasing the softmax probability in the index positions corresponding to the correct target tokens. Softmax is also used to assess\n",
    "the model’s generated outputs: the higher the probability in the correct positions, the better.\n",
    "- The above figure displays __softmax values for a simple seven-token vocabulary__. This implies the starting random values will hover around 1/7 (~0.14). \n",
    "- Our GPT-2 model vocabulary has 50,257 tokens, so the initial probabilities will start at ~0.00002.\n",
    "- For each of the two input texts, print the initial softmax probability scores:"
   ]
  },
  {
   "cell_type": "code",
   "execution_count": 96,
   "id": "f1b5dc59-b7fd-4650-80aa-a8ee6b7cea72",
   "metadata": {},
   "outputs": [
    {
     "name": "stdout",
     "output_type": "stream",
     "text": [
      "Text 1: tensor([    0.0001,     0.0000,     0.0000])\n",
      "Text 2: tensor([    0.0000,     0.0000,     0.0000])\n"
     ]
    }
   ],
   "source": [
    "text_idx = 0\n",
    "target_probas_1 = probas[text_idx, [0, 1, 2], targets[text_idx]]\n",
    "print(\"Text 1:\", target_probas_1)\n",
    "text_idx = 1\n",
    "target_probas_2 = probas[text_idx, [0, 1, 2], targets[text_idx]]\n",
    "print(\"Text 2:\", target_probas_2)"
   ]
  },
  {
   "cell_type": "markdown",
   "id": "4cdf3845-4bed-42db-90ff-af776fe67758",
   "metadata": {},
   "source": [
    "### BACKPROPAGATION\n",
    "- How do we maximize the softmax values corresponding to target tokens? The weight update is done via\n",
    "__backpropagation__). It requires a loss (distance) function and the desired output.\n",
    "- Let's calculate the loss for the probability scores of _target_probas_1_ and _target_probas_2_.\n",
    "\n",
    "![fig5-7](px/fig5-7.png)"
   ]
  },
  {
   "cell_type": "code",
   "execution_count": 97,
   "id": "e0607d42-a3e2-484d-86a0-f57053d1fce4",
   "metadata": {},
   "outputs": [
    {
     "name": "stdout",
     "output_type": "stream",
     "text": [
      "tensor([ -9.5042, -10.3796, -11.3677, -10.1307, -10.9951, -12.2561])\n"
     ]
    }
   ],
   "source": [
    "log_probas = torch.log(torch.cat((target_probas_1, target_probas_2)))\n",
    "print(log_probas)"
   ]
  },
  {
   "cell_type": "markdown",
   "id": "553a29b9-a59f-441b-bf2e-4e252638ea80",
   "metadata": {},
   "source": [
    "- Working with logarithms is more manageable in optimization than handling the scores directly. Combine log probabilities into a single average score:"
   ]
  },
  {
   "cell_type": "code",
   "execution_count": 98,
   "id": "fa617763-5a41-485c-8400-f96126058ce8",
   "metadata": {},
   "outputs": [
    {
     "name": "stdout",
     "output_type": "stream",
     "text": [
      "tensor(-10.7722)\n"
     ]
    }
   ],
   "source": [
    "avg_log_probas = torch.mean(log_probas)\n",
    "print(avg_log_probas)"
   ]
  },
  {
   "cell_type": "markdown",
   "id": "cb073892-feed-4176-8833-94f38fe560c1",
   "metadata": {},
   "source": [
    "- The goal is to get the average log probability as close to 0 as possible. The common practice isn’t to push the average log probability up to 0 but to __bring the negative average log probability down to 0__. The negative average log probability is simply the average log probability multiplied by –1."
   ]
  },
  {
   "cell_type": "code",
   "execution_count": 99,
   "id": "7bb540a5-76ea-4e03-b3c8-6b91aff5e55b",
   "metadata": {},
   "outputs": [
    {
     "name": "stdout",
     "output_type": "stream",
     "text": [
      "tensor(10.7722)\n"
     ]
    }
   ],
   "source": [
    "neg_avg_log_probas = avg_log_probas * -1\n",
    "print(neg_avg_log_probas)"
   ]
  },
  {
   "cell_type": "markdown",
   "id": "ba54dc94-813d-4972-9b19-b09260da069a",
   "metadata": {},
   "source": [
    "- The term for this negative value, –10.7722, turning into 10.7722, is known as __cross entropy loss__. PyTorch already has a built-in cross_entropy function that takes care of all these six steps in figure 5.7 for us."
   ]
  },
  {
   "cell_type": "markdown",
   "id": "37e5f4ec-652d-4a52-a6cc-1b0e2966e652",
   "metadata": {},
   "source": [
    "### CROSS ENTROPY LOSS\n",
    "- Cross entropy loss __measures the difference between two probability distributions__ —typically, the\n",
    "__true distribution__ of labels (tokens) and the __predicted distribution__ from a model.\n",
    "- PyTorch's cross_entropy function computes this measure for __discrete outcomes__, which is similar to the __negative average log probability__ of the target tokens."
   ]
  },
  {
   "cell_type": "code",
   "execution_count": 100,
   "id": "c023fd40-1b08-47b6-bf95-79e07ec2b50f",
   "metadata": {},
   "outputs": [
    {
     "name": "stdout",
     "output_type": "stream",
     "text": [
      "Logits shape: torch.Size([2, 3, 50257])\n",
      "Targets shape: torch.Size([2, 3])\n"
     ]
    }
   ],
   "source": [
    "# review the shapes of the logits and target tensors\n",
    "print(\"Logits shape:\", logits.shape)\n",
    "print(\"Targets shape:\", targets.shape)"
   ]
  },
  {
   "cell_type": "markdown",
   "id": "1a87c9af-c352-4781-8707-3cd839cfcf85",
   "metadata": {},
   "source": [
    "- For PyTorch cross_entropy loss function: flatten tensors by combining them over the batch dimension:"
   ]
  },
  {
   "cell_type": "code",
   "execution_count": 101,
   "id": "c8b51c79-b47a-4cd1-8ebc-50c430537aec",
   "metadata": {},
   "outputs": [
    {
     "name": "stdout",
     "output_type": "stream",
     "text": [
      "Flattened logits: torch.Size([6, 50257])\n",
      "Flattened targets: torch.Size([6])\n"
     ]
    }
   ],
   "source": [
    "logits_flat  = logits.flatten(0, 1)\n",
    "targets_flat = targets.flatten()\n",
    "print(\"Flattened logits:\", logits_flat.shape)\n",
    "print(\"Flattened targets:\", targets_flat.shape)"
   ]
  },
  {
   "cell_type": "markdown",
   "id": "6533d037-ec53-4644-97c4-3bd9918659b0",
   "metadata": {},
   "source": [
    "- Remember: the targets are the token IDs we want the LLM to generate. The logits contain\n",
    "the __unscaled model outputs__ before they enter the softmax function to obtain probability scores.\n",
    "- Previously, we applied softmax, selected the probability scores corresponding to the target IDs, and computed the negative average log probabilities. PyTorch’s cross_entropy function will take care of all these steps for us:"
   ]
  },
  {
   "cell_type": "code",
   "execution_count": 102,
   "id": "c3f0fa18-9ed2-43a5-a8e5-dfb3cb913aab",
   "metadata": {},
   "outputs": [
    {
     "name": "stdout",
     "output_type": "stream",
     "text": [
      "tensor(10.7722)\n"
     ]
    }
   ],
   "source": [
    "loss = torch.nn.functional.cross_entropy(logits_flat, targets_flat)\n",
    "print(loss)"
   ]
  },
  {
   "cell_type": "markdown",
   "id": "7808bb06-75cb-4236-af66-ecdc8eac5188",
   "metadata": {},
   "source": [
    "### PERPLEXITY\n",
    "- Perplexity __measures how well the probability distribution predicted by the model matches\n",
    "the actual distribution of the words in the dataset__. Lower perplexity indicates that the model predictions are closer to the actual distribution.\n",
    "- Perplexity can be calculated as perplexity = torch.exp(loss), which returns tensor(47678.8633)\n",
    "when applied to the previously calculated loss.\n",
    "- Perplexity is more interpretable than the raw loss value because __it signifies the effective vocabulary size__ about which the model is uncertain at each step. In the given example, this would translate to the model being unsure about which among 47,678 words or tokens in the vocabulary to generate as the next token."
   ]
  },
  {
   "cell_type": "markdown",
   "id": "b013a254-0fb1-4458-9741-cc638899bd92",
   "metadata": {},
   "source": [
    "### 5.1.3 Calculating the training and validation set losses\n",
    "\n",
    "- To compute loss on training and validation datasets, we use again use “The Verdict” short story by Edith Wharton. Using a small dataset enables execution of code examples on a laptop computer in a matter of minutes, even without a high-end GPU.\n",
    "\n",
    "### THE COST OF PRETRAINING LLMS\n",
    "\n",
    "- Consider the training of the 7B parameter Llama 2 model, a relatively popular openly available LLM. It needed 184,320 GPU hours on expensive A100 GPUs, processing 2 trillion tokens. At the time of writing, running an 8 × A100 cloud server on AWS costs around $30 per hour. A rough estimate puts the total training cost of such an LLM at around $690,000 (calculated as 184,320 hours divided by 8, then multiplied by $30)."
   ]
  },
  {
   "cell_type": "code",
   "execution_count": 103,
   "id": "d989af57-460f-4801-8a4b-e27a315bb6a6",
   "metadata": {},
   "outputs": [
    {
     "name": "stdout",
     "output_type": "stream",
     "text": [
      "Characters: 20480\n",
      "Tokens: 5146\n"
     ]
    }
   ],
   "source": [
    "file_path = \"the-verdict.txt\"\n",
    "with open(file_path, \"r\", encoding=\"utf-8\") as file:\n",
    "    text_data = file.read()\n",
    "\n",
    "total_characters = len(text_data)\n",
    "total_tokens = len(tokenizer.encode(text_data))\n",
    "print(\"Characters:\", total_characters)\n",
    "print(\"Tokens:\", total_tokens)"
   ]
  },
  {
   "cell_type": "markdown",
   "id": "a032b75e-fe43-40a9-92b9-ce0a34e42d90",
   "metadata": {},
   "source": [
    "- Next, divide the dataset into a training and a validation set and use a data loader to prepare the batches for LLM training."
   ]
  },
  {
   "cell_type": "code",
   "execution_count": 104,
   "id": "92e5b53e-c8dd-4a93-b715-ce3c2cffbc3c",
   "metadata": {},
   "outputs": [],
   "source": [
    "train_ratio = 0.90\n",
    "split_idx  = int(train_ratio * len(text_data))\n",
    "train_data = text_data[:split_idx]\n",
    "val_data   = text_data[split_idx:]"
   ]
  },
  {
   "cell_type": "code",
   "execution_count": 105,
   "id": "1494c675-3ecd-4b77-a1e9-f349e789e440",
   "metadata": {},
   "outputs": [],
   "source": [
    "torch.manual_seed(123)\n",
    "\n",
    "train_loader = create_dataloader_v1(\n",
    "    train_data,\n",
    "    batch_size=2,\n",
    "    max_length=GPT_CONFIG_124M[\"context_length\"],\n",
    "    stride=GPT_CONFIG_124M[\"context_length\"],\n",
    "    drop_last=True,\n",
    "    shuffle=True,\n",
    "    num_workers=0)\n",
    "\n",
    "val_loader = create_dataloader_v1(\n",
    "    val_data,\n",
    "    batch_size=2,\n",
    "    max_length=GPT_CONFIG_124M[\"context_length\"],\n",
    "    stride=GPT_CONFIG_124M[\"context_length\"],\n",
    "    drop_last=False,\n",
    "    shuffle=False,\n",
    "    num_workers=0)"
   ]
  },
  {
   "cell_type": "markdown",
   "id": "ecc5567e-b6a6-4eb4-9ce7-f8546bf02c88",
   "metadata": {},
   "source": [
    "- We __used a small batch size__ to reduce the computations because we were working with a small dataset. In practice, training LLMs with batch sizes of 1,024 or larger is common. As an optional check, we can iterate through the data loaders to ensure that they were created correctly:"
   ]
  },
  {
   "cell_type": "code",
   "execution_count": 106,
   "id": "5e5a6c1a-52a5-4522-a3c4-dd3029aec0f6",
   "metadata": {},
   "outputs": [
    {
     "name": "stdout",
     "output_type": "stream",
     "text": [
      "Train loader:\n",
      "torch.Size([2, 256]) torch.Size([2, 256])\n",
      "torch.Size([2, 256]) torch.Size([2, 256])\n",
      "torch.Size([2, 256]) torch.Size([2, 256])\n",
      "torch.Size([2, 256]) torch.Size([2, 256])\n",
      "torch.Size([2, 256]) torch.Size([2, 256])\n",
      "torch.Size([2, 256]) torch.Size([2, 256])\n",
      "torch.Size([2, 256]) torch.Size([2, 256])\n",
      "torch.Size([2, 256]) torch.Size([2, 256])\n",
      "torch.Size([2, 256]) torch.Size([2, 256])\n",
      "\n",
      "Validation loader:\n",
      "torch.Size([2, 256]) torch.Size([2, 256])\n"
     ]
    }
   ],
   "source": [
    "print(\"Train loader:\")\n",
    "for x, y in train_loader:\n",
    "    print(x.shape, y.shape)\n",
    "    \n",
    "print(\"\\nValidation loader:\")\n",
    "for x, y in val_loader:\n",
    "    print(x.shape, y.shape)"
   ]
  },
  {
   "cell_type": "markdown",
   "id": "7c729222-2e19-4cfb-ac56-e02075ab0032",
   "metadata": {},
   "source": [
    "- We have __nine training set batches__ with two samples and 256 tokens each.\n",
    "- Since we allocated 10% of the data for validation, there is only one validation batch consisting of two input examples.\n",
    "- As expected, the input data (x) and target data (y) have the same shape (the batch size times the number of tokens in each batch) since the targets are the inputs shifted by one position, as discussed in chapter 2.\n",
    "- Next: design a utility function to find the cross entropy loss of a given batch returned via the training and validation loader:"
   ]
  },
  {
   "cell_type": "code",
   "execution_count": 107,
   "id": "abebec84-4de6-4352-9b26-4575e638d694",
   "metadata": {},
   "outputs": [],
   "source": [
    "def calc_loss_batch(input_batch, target_batch, model, device):\n",
    "    input_batch  = input_batch.to(device)\n",
    "    target_batch = target_batch.to(device)\n",
    "    logits       = model(input_batch)\n",
    "    loss         = torch.nn.functional.cross_entropy(\n",
    "        logits.flatten(0, 1), \n",
    "        target_batch.flatten())\n",
    "    return loss"
   ]
  },
  {
   "cell_type": "markdown",
   "id": "553fd942-7659-42bb-8a8e-f985e5e263f7",
   "metadata": {},
   "source": [
    "- We can now use __calc_loss_batch__ to compute the loss for a single batch."
   ]
  },
  {
   "cell_type": "code",
   "execution_count": 108,
   "id": "418f96cd-ba18-4b3a-a47a-11d096f86416",
   "metadata": {},
   "outputs": [],
   "source": [
    "def calc_loss_loader(data_loader, model, device, num_batches=None):\n",
    "    total_loss = 0.\n",
    "    if len(data_loader) == 0:\n",
    "        return float(\"nan\")\n",
    "    elif num_batches is None:\n",
    "\n",
    "        # iterates over all batches, if num_batches isn't specified.\n",
    "        num_batches = len(data_loader)\n",
    "    else:\n",
    "        # reduces #batches to match #batches in the loader, if #batches > #batches in the loader.\n",
    "        num_batches = min(num_batches, len(data_loader))\n",
    "        \n",
    "    for i, (input_batch, target_batch) in enumerate(data_loader):\n",
    "        if i < num_batches:\n",
    "            loss = calc_loss_batch(input_batch, target_batch, model, device)\n",
    "            total_loss += loss.item()\n",
    "        else:\n",
    "            break\n",
    "    return total_loss / num_batches # average loss across all batches"
   ]
  },
  {
   "cell_type": "code",
   "execution_count": 109,
   "id": "c36810b3-b5ec-4779-b96c-4b56a32500b0",
   "metadata": {},
   "outputs": [
    {
     "name": "stdout",
     "output_type": "stream",
     "text": [
      "Training loss: 10.987583584255642\n",
      "Validation loss: 10.983160018920898\n"
     ]
    }
   ],
   "source": [
    "device = torch.device(\"cuda\" if torch.cuda.is_available() else \"cpu\")\n",
    "model.to(device)\n",
    "\n",
    "with torch.no_grad(): # disable gradient tracking (not training yet)\n",
    "    train_loss = calc_loss_loader(train_loader, model, device)\n",
    "    val_loss   = calc_loss_loader(  val_loader, model, device)\n",
    "    \n",
    "print(\"Training loss:\", train_loss)\n",
    "print(\"Validation loss:\", val_loss)"
   ]
  },
  {
   "cell_type": "markdown",
   "id": "8d3b2d74-e9bb-4565-8565-be13022ce2a2",
   "metadata": {},
   "source": [
    "- The losses are high because the model has not been trained. For comparison, the\n",
    "loss approaches 0 if the model learns to generate the next tokens as they appear in the training and\n",
    "validation sets."
   ]
  },
  {
   "cell_type": "markdown",
   "id": "4066716f-b483-4a92-9a2a-2461c095b32c",
   "metadata": {},
   "source": [
    "## 5.2 Training an LLM\n",
    "![fig5-11](px/fig5-11.png)"
   ]
  },
  {
   "cell_type": "code",
   "execution_count": 110,
   "id": "e53270af-8d07-46d3-8f86-1be92833f4f0",
   "metadata": {},
   "outputs": [],
   "source": [
    "def train_model_simple(\n",
    "    model, train_loader, val_loader,\n",
    "    optimizer, device, num_epochs,\n",
    "    eval_freq, eval_iter, start_context, tokenizer):\n",
    "\n",
    "    train_losses, val_losses, track_tokens_seen = [], [], []\n",
    "    tokens_seen, global_step                    = 0, -1\n",
    "\n",
    "    for epoch in range(num_epochs):\n",
    "        model.train()\n",
    "        for input_batch, target_batch in train_loader:\n",
    "            optimizer.zero_grad()               # resets loss gradients from previous epoch\n",
    "            loss = calc_loss_batch(input_batch, target_batch, model, device)\n",
    "            loss.backward()                     # find loss gradient\n",
    "            optimizer.step()                    # update model weights using loss gradients\n",
    "            tokens_seen += input_batch.numel()\n",
    "            global_step += 1\n",
    "\n",
    "            if global_step % eval_freq == 0:    # optional evaluation step\n",
    "\n",
    "                train_loss, val_loss = evaluate_model(\n",
    "                    model, train_loader, val_loader, device, eval_iter)\n",
    "\n",
    "                train_losses.append(train_loss)\n",
    "                val_losses.append(val_loss)\n",
    "                track_tokens_seen.append(tokens_seen)\n",
    "\n",
    "                print(\n",
    "                    f\"Ep {epoch+1} (Step {global_step:06d}): \"\n",
    "                    f\"Train loss   {train_loss:.3f}, \"\n",
    "                    f\"Val loss     {val_loss:.3f}\"\n",
    "                )\n",
    "        generate_and_print_sample(model, tokenizer, device, start_context)\n",
    "    return train_losses, val_losses, track_tokens_seen"
   ]
  },
  {
   "cell_type": "markdown",
   "id": "133a8051-5d24-4eea-bcaa-8f3942cf4f70",
   "metadata": {},
   "source": [
    "- __evaluate_model__ corresponds to step 7 above. It prints the training & validation set losses after each model update so we can evaluate whether the training improves the model."
   ]
  },
  {
   "cell_type": "code",
   "execution_count": 111,
   "id": "c39f59c5-3b57-4eda-8764-142b1fdd39c8",
   "metadata": {},
   "outputs": [],
   "source": [
    "def evaluate_model(model, train_loader, val_loader, device, eval_iter):\n",
    "    model.eval() # dropout disabled during evaluation for stable results.\n",
    "    with torch.no_grad(): # gradient tracking disabled (not required during evaluation).\n",
    "        train_loss = calc_loss_loader(train_loader, model, device, num_batches=eval_iter)\n",
    "        val_loss   = calc_loss_loader(  val_loader, model, device, num_batches=eval_iter)\n",
    "    model.train()\n",
    "    return train_loss, val_loss"
   ]
  },
  {
   "cell_type": "markdown",
   "id": "4295b2a4-7e27-4301-acf3-66993f73c455",
   "metadata": {},
   "source": [
    "- __generate_and_print_sample__ tracks whether the model improves during training. It converts a text snippet (start_context) into token IDs & feeds it to the LLM to generate a text sample using __generate_text_simple__."
   ]
  },
  {
   "cell_type": "code",
   "execution_count": 112,
   "id": "75348f0b-a9bb-4837-8e49-f2119ed77c98",
   "metadata": {},
   "outputs": [],
   "source": [
    "def generate_and_print_sample(model, tokenizer, device, start_context):\n",
    "    model.eval()\n",
    "    context_size = model.pos_emb.weight.shape[0]\n",
    "    encoded      = text_to_token_ids(start_context, tokenizer).to(device)\n",
    "    with torch.no_grad():\n",
    "        token_ids = generate_text_simple(\n",
    "            model=model, \n",
    "            idx=encoded,\n",
    "            max_new_tokens=50, \n",
    "            context_size=context_size)\n",
    "        \n",
    "        decoded_text = token_ids_to_text(token_ids, tokenizer)\n",
    "        print(decoded_text.replace(\"\\n\", \" \"))\n",
    "    model.train()"
   ]
  },
  {
   "cell_type": "markdown",
   "id": "feb970e0-dc83-49d3-835d-3c3b58240230",
   "metadata": {},
   "source": [
    "### ADAMW\n",
    "- Adam optimizers are a popular choice for training deep neural networks. __AdamW__ is a variant of Adam that __improves the weight decay approach__ to minimize model complexity and prevent overfitting by penalizing larger weights. This allows AdamW to achieve more effective regularization and better generalization; thus, AdamW is frequently used in the training of LLMs."
   ]
  },
  {
   "cell_type": "code",
   "execution_count": 113,
   "id": "9cb5fa60-0afa-4eb0-9ad5-91eda7006db1",
   "metadata": {},
   "outputs": [
    {
     "name": "stderr",
     "output_type": "stream",
     "text": [
      "/home/bjpcjp/venv/lib/python3.12/site-packages/tqdm/auto.py:21: TqdmWarning: IProgress not found. Please update jupyter and ipywidgets. See https://ipywidgets.readthedocs.io/en/stable/user_install.html\n",
      "  from .autonotebook import tqdm as notebook_tqdm\n"
     ]
    },
    {
     "name": "stdout",
     "output_type": "stream",
     "text": [
      "Ep 1 (Step 000000): Train loss   9.830, Val loss     9.927\n",
      "Ep 1 (Step 000005): Train loss   8.133, Val loss     8.335\n",
      "Every effort moves you,,,,,,,,,,,,.                                     \n",
      "Ep 2 (Step 000010): Train loss   6.770, Val loss     7.048\n",
      "Ep 2 (Step 000015): Train loss   6.497, Val loss     6.573\n",
      "Every effort moves you, and,, and, and,,,,, and, and,,,,,,,,,,,,,, and,,,, and,, and,,,,, and,,,,,,\n",
      "Ep 3 (Step 000020): Train loss   5.579, Val loss     6.492\n",
      "Ep 3 (Step 000025): Train loss   4.732, Val loss     6.387\n",
      "Every effort moves you, and to the picture.                      \"I, and the of the of the's the honour, and, and I had been, and I\n",
      "Ep 4 (Step 000030): Train loss   5.284, Val loss     6.361\n",
      "Ep 4 (Step 000035): Train loss   3.855, Val loss     6.258\n",
      "Every effort moves you of the to the picture--as of the picture--as I had been \" it was his \" I was the     \"I was his I had been the his pictures--and it the picture and I had been the picture of\n",
      "Ep 5 (Step 000040): Train loss   3.667, Val loss     6.197\n",
      "Every effort moves you know the \"Oh, and he was not the fact by his last word.         \"I was.      \"Oh, I felt a little a little the    \n",
      "Ep 6 (Step 000045): Train loss   3.600, Val loss     6.140\n",
      "Ep 6 (Step 000050): Train loss   2.383, Val loss     6.111\n",
      "Every effort moves you know; and my dear, and he was not the fact with a little of the house of the fact of the fact, and.                       \n",
      "Ep 7 (Step 000055): Train loss   2.336, Val loss     6.137\n",
      "Ep 7 (Step 000060): Train loss   2.696, Val loss     6.179\n",
      "Every effort moves you know,\" was one of the picture for nothing--I told Mrs.  \"I looked--as of the fact, and I felt him--his back his head to the donkey. \"Oh, and_--because he had always _\n",
      "Ep 8 (Step 000065): Train loss   1.596, Val loss     6.176\n",
      "Ep 8 (Step 000070): Train loss   1.346, Val loss     6.178\n",
      "Every effort moves you?\" \"I didn't bear the picture--I told me.  \"I looked up, and went on groping and Mrs. I was back the head to look up at the honour being _mine_--because he was when I\n",
      "Ep 9 (Step 000075): Train loss   1.100, Val loss     6.278\n",
      "Ep 9 (Step 000080): Train loss   0.672, Val loss     6.283\n",
      "Every effort moves you?\"  \"Yes--quite insensible to the irony. She wanted him vindicated--and by me!\"  He laughed again, and threw back his head to look up at the sketch of the donkey. \"There were days when I\n",
      "Ep 10 (Step 000085): Train loss   0.531, Val loss     6.326\n",
      "Every effort moves you?\"  \"Yes--quite insensible to the irony. She wanted him vindicated--and by me!\"  He laughed again, and threw back his head to the donkey again. I saw that, and down the room, when I\n"
     ]
    }
   ],
   "source": [
    "torch.manual_seed(123)\n",
    "\n",
    "# takes ~5 mins to finish to typical MacBook\n",
    "\n",
    "model = GPTModel(GPT_CONFIG_124M)\n",
    "model.to(device)\n",
    "optimizer = torch.optim.AdamW(\n",
    "    model.parameters(),\n",
    "    lr=0.0004, \n",
    "    weight_decay=0.1)\n",
    "\n",
    "num_epochs = 10\n",
    "train_losses, val_losses, tokens_seen = train_model_simple(\n",
    "    model, train_loader, val_loader, optimizer, device,\n",
    "    num_epochs=num_epochs, \n",
    "    eval_freq=5, \n",
    "    eval_iter=1,\n",
    "    start_context=\"Every effort moves you\", \n",
    "    tokenizer=tokenizer)"
   ]
  },
  {
   "cell_type": "markdown",
   "id": "aeeb211e-96e1-4c27-989f-a4a59fef2f4d",
   "metadata": {},
   "source": [
    "- The training loss improves drastically. The language skills of the model also improved. In the beginning, the model is only able to append commas to the start context (Every effort moves you,,,,,,,,,,,,) or repeat the word and. By the end it can generate grammatically correct text.\n",
    "- Plot the training & validation losses:"
   ]
  },
  {
   "cell_type": "code",
   "execution_count": 114,
   "id": "1d651808-3e85-4d35-8a75-5832bbe8cd79",
   "metadata": {},
   "outputs": [
    {
     "data": {
      "image/png": "[encoded data removed]",
      "text/plain": [
       "<Figure size 500x300 with 2 Axes>"
      ]
     },
     "metadata": {},
     "output_type": "display_data"
    }
   ],
   "source": [
    "import matplotlib.pyplot as plt\n",
    "def plot_losses(epochs_seen, tokens_seen, train_losses, val_losses):\n",
    "    fig, ax1 = plt.subplots(figsize=(5, 3))\n",
    "    ax1.plot(epochs_seen, train_losses,               label=\"Training loss\")\n",
    "    ax1.plot(epochs_seen, val_losses, linestyle=\"-.\", label=\"Validation loss\")\n",
    "    ax1.set_xlabel(\"Epochs\")\n",
    "    ax1.set_ylabel(\"Loss\")\n",
    "    ax1.legend(loc=\"upper right\")\n",
    "    ax2 = ax1.twiny()                            # creates second x-axis; shares same y-axis\n",
    "    ax2.plot(tokens_seen, train_losses, alpha=0) # invisible plot for aligning ticks\n",
    "    ax2.set_xlabel(\"Tokens seen\")\n",
    "    fig.tight_layout()\n",
    "    plt.show()\n",
    "    \n",
    "epochs_tensor = torch.linspace(0, num_epochs, len(train_losses))\n",
    "plot_losses(epochs_tensor, tokens_seen, train_losses, val_losses)"
   ]
  },
  {
   "cell_type": "markdown",
   "id": "829b897b-f4ee-4d8f-9300-2009f876263a",
   "metadata": {},
   "source": [
    "- The training and validation losses improve during the first epoch, but diverge past the second epoch. This __divergence and the fact that the validation loss is much larger than the training loss indicate that the model is overfitting__ to the training data.\n",
    "- We can confirm that the model is memorizing the training data by searching for the generated text snippets. This is expected - we are using a very small training dataset and training the model for multiple epochs. __Usually, it’s common to train a model on a much larger dataset for only one epoch.__"
   ]
  },
  {
   "cell_type": "markdown",
   "id": "8d52f407-9100-4123-8bd3-9370456eec66",
   "metadata": {},
   "source": [
    "## 5.3 Decoding strategies to control randomness\n",
    "- Begin by transferring the model back from the GPU to the CPU since inference with a\n",
    "relatively small model does not require a GPU. Also, after training, we put the model into evaluation\n",
    "model to turn off random components such as dropout."
   ]
  },
  {
   "cell_type": "code",
   "execution_count": 115,
   "id": "669ad465-5a92-47eb-b52a-87426f99ea41",
   "metadata": {},
   "outputs": [
    {
     "data": {
      "text/plain": [
       "GPTModel(\n",
       "  (tok_emb): Embedding(50257, 768)\n",
       "  (pos_emb): Embedding(256, 768)\n",
       "  (drop_emb): Dropout(p=0.1, inplace=False)\n",
       "  (trf_blocks): Sequential(\n",
       "    (0): TransformerBlock(\n",
       "      (att): MultiHeadAttention(\n",
       "        (W_query): Linear(in_features=768, out_features=768, bias=False)\n",
       "        (W_key): Linear(in_features=768, out_features=768, bias=False)\n",
       "        (W_value): Linear(in_features=768, out_features=768, bias=False)\n",
       "        (out_proj): Linear(in_features=768, out_features=768, bias=True)\n",
       "        (dropout): Dropout(p=0.1, inplace=False)\n",
       "      )\n",
       "      (ff): FeedForward(\n",
       "        (layers): Sequential(\n",
       "          (0): Linear(in_features=768, out_features=3072, bias=True)\n",
       "          (1): GELU()\n",
       "          (2): Linear(in_features=3072, out_features=768, bias=True)\n",
       "        )\n",
       "      )\n",
       "      (norm1): LayerNorm()\n",
       "      (norm2): LayerNorm()\n",
       "      (drop_shortcut): Dropout(p=0.1, inplace=False)\n",
       "    )\n",
       "    (1): TransformerBlock(\n",
       "      (att): MultiHeadAttention(\n",
       "        (W_query): Linear(in_features=768, out_features=768, bias=False)\n",
       "        (W_key): Linear(in_features=768, out_features=768, bias=False)\n",
       "        (W_value): Linear(in_features=768, out_features=768, bias=False)\n",
       "        (out_proj): Linear(in_features=768, out_features=768, bias=True)\n",
       "        (dropout): Dropout(p=0.1, inplace=False)\n",
       "      )\n",
       "      (ff): FeedForward(\n",
       "        (layers): Sequential(\n",
       "          (0): Linear(in_features=768, out_features=3072, bias=True)\n",
       "          (1): GELU()\n",
       "          (2): Linear(in_features=3072, out_features=768, bias=True)\n",
       "        )\n",
       "      )\n",
       "      (norm1): LayerNorm()\n",
       "      (norm2): LayerNorm()\n",
       "      (drop_shortcut): Dropout(p=0.1, inplace=False)\n",
       "    )\n",
       "    (2): TransformerBlock(\n",
       "      (att): MultiHeadAttention(\n",
       "        (W_query): Linear(in_features=768, out_features=768, bias=False)\n",
       "        (W_key): Linear(in_features=768, out_features=768, bias=False)\n",
       "        (W_value): Linear(in_features=768, out_features=768, bias=False)\n",
       "        (out_proj): Linear(in_features=768, out_features=768, bias=True)\n",
       "        (dropout): Dropout(p=0.1, inplace=False)\n",
       "      )\n",
       "      (ff): FeedForward(\n",
       "        (layers): Sequential(\n",
       "          (0): Linear(in_features=768, out_features=3072, bias=True)\n",
       "          (1): GELU()\n",
       "          (2): Linear(in_features=3072, out_features=768, bias=True)\n",
       "        )\n",
       "      )\n",
       "      (norm1): LayerNorm()\n",
       "      (norm2): LayerNorm()\n",
       "      (drop_shortcut): Dropout(p=0.1, inplace=False)\n",
       "    )\n",
       "    (3): TransformerBlock(\n",
       "      (att): MultiHeadAttention(\n",
       "        (W_query): Linear(in_features=768, out_features=768, bias=False)\n",
       "        (W_key): Linear(in_features=768, out_features=768, bias=False)\n",
       "        (W_value): Linear(in_features=768, out_features=768, bias=False)\n",
       "        (out_proj): Linear(in_features=768, out_features=768, bias=True)\n",
       "        (dropout): Dropout(p=0.1, inplace=False)\n",
       "      )\n",
       "      (ff): FeedForward(\n",
       "        (layers): Sequential(\n",
       "          (0): Linear(in_features=768, out_features=3072, bias=True)\n",
       "          (1): GELU()\n",
       "          (2): Linear(in_features=3072, out_features=768, bias=True)\n",
       "        )\n",
       "      )\n",
       "      (norm1): LayerNorm()\n",
       "      (norm2): LayerNorm()\n",
       "      (drop_shortcut): Dropout(p=0.1, inplace=False)\n",
       "    )\n",
       "    (4): TransformerBlock(\n",
       "      (att): MultiHeadAttention(\n",
       "        (W_query): Linear(in_features=768, out_features=768, bias=False)\n",
       "        (W_key): Linear(in_features=768, out_features=768, bias=False)\n",
       "        (W_value): Linear(in_features=768, out_features=768, bias=False)\n",
       "        (out_proj): Linear(in_features=768, out_features=768, bias=True)\n",
       "        (dropout): Dropout(p=0.1, inplace=False)\n",
       "      )\n",
       "      (ff): FeedForward(\n",
       "        (layers): Sequential(\n",
       "          (0): Linear(in_features=768, out_features=3072, bias=True)\n",
       "          (1): GELU()\n",
       "          (2): Linear(in_features=3072, out_features=768, bias=True)\n",
       "        )\n",
       "      )\n",
       "      (norm1): LayerNorm()\n",
       "      (norm2): LayerNorm()\n",
       "      (drop_shortcut): Dropout(p=0.1, inplace=False)\n",
       "    )\n",
       "    (5): TransformerBlock(\n",
       "      (att): MultiHeadAttention(\n",
       "        (W_query): Linear(in_features=768, out_features=768, bias=False)\n",
       "        (W_key): Linear(in_features=768, out_features=768, bias=False)\n",
       "        (W_value): Linear(in_features=768, out_features=768, bias=False)\n",
       "        (out_proj): Linear(in_features=768, out_features=768, bias=True)\n",
       "        (dropout): Dropout(p=0.1, inplace=False)\n",
       "      )\n",
       "      (ff): FeedForward(\n",
       "        (layers): Sequential(\n",
       "          (0): Linear(in_features=768, out_features=3072, bias=True)\n",
       "          (1): GELU()\n",
       "          (2): Linear(in_features=3072, out_features=768, bias=True)\n",
       "        )\n",
       "      )\n",
       "      (norm1): LayerNorm()\n",
       "      (norm2): LayerNorm()\n",
       "      (drop_shortcut): Dropout(p=0.1, inplace=False)\n",
       "    )\n",
       "    (6): TransformerBlock(\n",
       "      (att): MultiHeadAttention(\n",
       "        (W_query): Linear(in_features=768, out_features=768, bias=False)\n",
       "        (W_key): Linear(in_features=768, out_features=768, bias=False)\n",
       "        (W_value): Linear(in_features=768, out_features=768, bias=False)\n",
       "        (out_proj): Linear(in_features=768, out_features=768, bias=True)\n",
       "        (dropout): Dropout(p=0.1, inplace=False)\n",
       "      )\n",
       "      (ff): FeedForward(\n",
       "        (layers): Sequential(\n",
       "          (0): Linear(in_features=768, out_features=3072, bias=True)\n",
       "          (1): GELU()\n",
       "          (2): Linear(in_features=3072, out_features=768, bias=True)\n",
       "        )\n",
       "      )\n",
       "      (norm1): LayerNorm()\n",
       "      (norm2): LayerNorm()\n",
       "      (drop_shortcut): Dropout(p=0.1, inplace=False)\n",
       "    )\n",
       "    (7): TransformerBlock(\n",
       "      (att): MultiHeadAttention(\n",
       "        (W_query): Linear(in_features=768, out_features=768, bias=False)\n",
       "        (W_key): Linear(in_features=768, out_features=768, bias=False)\n",
       "        (W_value): Linear(in_features=768, out_features=768, bias=False)\n",
       "        (out_proj): Linear(in_features=768, out_features=768, bias=True)\n",
       "        (dropout): Dropout(p=0.1, inplace=False)\n",
       "      )\n",
       "      (ff): FeedForward(\n",
       "        (layers): Sequential(\n",
       "          (0): Linear(in_features=768, out_features=3072, bias=True)\n",
       "          (1): GELU()\n",
       "          (2): Linear(in_features=3072, out_features=768, bias=True)\n",
       "        )\n",
       "      )\n",
       "      (norm1): LayerNorm()\n",
       "      (norm2): LayerNorm()\n",
       "      (drop_shortcut): Dropout(p=0.1, inplace=False)\n",
       "    )\n",
       "    (8): TransformerBlock(\n",
       "      (att): MultiHeadAttention(\n",
       "        (W_query): Linear(in_features=768, out_features=768, bias=False)\n",
       "        (W_key): Linear(in_features=768, out_features=768, bias=False)\n",
       "        (W_value): Linear(in_features=768, out_features=768, bias=False)\n",
       "        (out_proj): Linear(in_features=768, out_features=768, bias=True)\n",
       "        (dropout): Dropout(p=0.1, inplace=False)\n",
       "      )\n",
       "      (ff): FeedForward(\n",
       "        (layers): Sequential(\n",
       "          (0): Linear(in_features=768, out_features=3072, bias=True)\n",
       "          (1): GELU()\n",
       "          (2): Linear(in_features=3072, out_features=768, bias=True)\n",
       "        )\n",
       "      )\n",
       "      (norm1): LayerNorm()\n",
       "      (norm2): LayerNorm()\n",
       "      (drop_shortcut): Dropout(p=0.1, inplace=False)\n",
       "    )\n",
       "    (9): TransformerBlock(\n",
       "      (att): MultiHeadAttention(\n",
       "        (W_query): Linear(in_features=768, out_features=768, bias=False)\n",
       "        (W_key): Linear(in_features=768, out_features=768, bias=False)\n",
       "        (W_value): Linear(in_features=768, out_features=768, bias=False)\n",
       "        (out_proj): Linear(in_features=768, out_features=768, bias=True)\n",
       "        (dropout): Dropout(p=0.1, inplace=False)\n",
       "      )\n",
       "      (ff): FeedForward(\n",
       "        (layers): Sequential(\n",
       "          (0): Linear(in_features=768, out_features=3072, bias=True)\n",
       "          (1): GELU()\n",
       "          (2): Linear(in_features=3072, out_features=768, bias=True)\n",
       "        )\n",
       "      )\n",
       "      (norm1): LayerNorm()\n",
       "      (norm2): LayerNorm()\n",
       "      (drop_shortcut): Dropout(p=0.1, inplace=False)\n",
       "    )\n",
       "    (10): TransformerBlock(\n",
       "      (att): MultiHeadAttention(\n",
       "        (W_query): Linear(in_features=768, out_features=768, bias=False)\n",
       "        (W_key): Linear(in_features=768, out_features=768, bias=False)\n",
       "        (W_value): Linear(in_features=768, out_features=768, bias=False)\n",
       "        (out_proj): Linear(in_features=768, out_features=768, bias=True)\n",
       "        (dropout): Dropout(p=0.1, inplace=False)\n",
       "      )\n",
       "      (ff): FeedForward(\n",
       "        (layers): Sequential(\n",
       "          (0): Linear(in_features=768, out_features=3072, bias=True)\n",
       "          (1): GELU()\n",
       "          (2): Linear(in_features=3072, out_features=768, bias=True)\n",
       "        )\n",
       "      )\n",
       "      (norm1): LayerNorm()\n",
       "      (norm2): LayerNorm()\n",
       "      (drop_shortcut): Dropout(p=0.1, inplace=False)\n",
       "    )\n",
       "    (11): TransformerBlock(\n",
       "      (att): MultiHeadAttention(\n",
       "        (W_query): Linear(in_features=768, out_features=768, bias=False)\n",
       "        (W_key): Linear(in_features=768, out_features=768, bias=False)\n",
       "        (W_value): Linear(in_features=768, out_features=768, bias=False)\n",
       "        (out_proj): Linear(in_features=768, out_features=768, bias=True)\n",
       "        (dropout): Dropout(p=0.1, inplace=False)\n",
       "      )\n",
       "      (ff): FeedForward(\n",
       "        (layers): Sequential(\n",
       "          (0): Linear(in_features=768, out_features=3072, bias=True)\n",
       "          (1): GELU()\n",
       "          (2): Linear(in_features=3072, out_features=768, bias=True)\n",
       "        )\n",
       "      )\n",
       "      (norm1): LayerNorm()\n",
       "      (norm2): LayerNorm()\n",
       "      (drop_shortcut): Dropout(p=0.1, inplace=False)\n",
       "    )\n",
       "  )\n",
       "  (final_norm): LayerNorm()\n",
       "  (out_head): Linear(in_features=768, out_features=50257, bias=False)\n",
       ")"
      ]
     },
     "execution_count": 115,
     "metadata": {},
     "output_type": "execute_result"
    }
   ],
   "source": [
    "model.to(\"cpu\")\n",
    "model.eval()"
   ]
  },
  {
   "cell_type": "markdown",
   "id": "f5919c06-26bc-4ff2-a4bb-2e8e085fdc17",
   "metadata": {},
   "source": [
    "- Plug the GPT model instance into __generate_text_simple__, which uses the LLM to generate one token at a time.\n",
    "\n",
    "- The generated token is selected at each generation step based on the largest probability score among all tokens in the vocabulary. This means the LLM will generate the same outputs even if we run  __generate_text_simple__ multiple times on the same start context (Every effort moves you)."
   ]
  },
  {
   "cell_type": "code",
   "execution_count": 116,
   "id": "3f5d321f-c14b-4d74-95fd-33524f498fea",
   "metadata": {},
   "outputs": [
    {
     "name": "stdout",
     "output_type": "stream",
     "text": [
      "Output text:\n",
      " Every effort moves you?\"\n",
      "\n",
      "\"Yes--quite insensible to the irony. She wanted him vindicated--and by me!\"\n",
      "\n",
      "\n"
     ]
    }
   ],
   "source": [
    "tokenizer = tiktoken.get_encoding(\"gpt2\")\n",
    "token_ids = generate_text_simple(\n",
    "    model         = model,\n",
    "    idx           = text_to_token_ids(\"Every effort moves you\", tokenizer),\n",
    "    max_new_tokens= 25,\n",
    "    context_size  = GPT_CONFIG_124M[\"context_length\"])\n",
    "\n",
    "print(\"Output text:\\n\", token_ids_to_text(token_ids, tokenizer))"
   ]
  },
  {
   "cell_type": "markdown",
   "id": "fb2247ff-340e-4db7-9131-4281831bde22",
   "metadata": {},
   "source": [
    "### 5.3.1 Temperature scaling (TS)\n",
    "- TS adds a probabilistic selection process to the next-token generation task.\n",
    "- Previously, __generate_text_simple__ always sampled the token with the highest probability as the next token using __torch.argmax__ (aka \"__greedy decoding__\").\n",
    "- We can replace argmax with a sampling function."
   ]
  },
  {
   "cell_type": "code",
   "execution_count": 117,
   "id": "f39a7372-2f40-44ab-ba35-f94a7ac7dbcf",
   "metadata": {},
   "outputs": [],
   "source": [
    "vocab = {\n",
    "\"closer\": 0,\n",
    "\"every\": 1,\n",
    "\"effort\": 2,\n",
    "\"forward\": 3,\n",
    "\"inches\": 4,\n",
    "\"moves\": 5,\n",
    "\"pizza\": 6,\n",
    "\"toward\": 7,\n",
    "\"you\": 8,\n",
    "}\n",
    "inverse_vocab = {v: k for k, v in vocab.items()}"
   ]
  },
  {
   "cell_type": "markdown",
   "id": "4c1c7264-e6c3-4054-b95e-3ab98213ef4e",
   "metadata": {},
   "source": [
    "- Assume the LLM is given \"every effort moves you\" and geneates the following next-token logits."
   ]
  },
  {
   "cell_type": "code",
   "execution_count": 118,
   "id": "0ecfc7d0-e1a4-48d6-9926-f6c80bad5d09",
   "metadata": {},
   "outputs": [],
   "source": [
    "next_token_logits = torch.tensor(\n",
    "[4.51, 0.89, -1.90, 6.75, 1.63, -1.62, -1.89, 6.28, 1.79]\n",
    ")"
   ]
  },
  {
   "cell_type": "markdown",
   "id": "d39aa144-5b56-48aa-b04c-45f8d81337af",
   "metadata": {},
   "source": [
    "- __generate_text_simple__ converts logits into probabilities via softmax function and gets the token ID corresponding to the generated token via __argmax__, which we can map back into text via the inverse vocabulary.\n",
    "- Since the largest logit value, and correspondingly the largest softmax score, is in the fourth position (index position 3 since Python uses 0 indexing), the generated word is 'forward'."
   ]
  },
  {
   "cell_type": "code",
   "execution_count": 119,
   "id": "aa2ac94f-7f3d-4b66-a72d-b0aa003a4883",
   "metadata": {},
   "outputs": [
    {
     "name": "stdout",
     "output_type": "stream",
     "text": [
      "forward\n"
     ]
    }
   ],
   "source": [
    "probas        = torch.softmax(next_token_logits, dim=0)\n",
    "next_token_id = torch.argmax(probas).item()\n",
    "\n",
    "print(inverse_vocab[next_token_id])"
   ]
  },
  {
   "cell_type": "markdown",
   "id": "dfc550ab-29dd-4e1d-a2b5-8631127fe45a",
   "metadata": {},
   "source": [
    "- Now replace argmax with PyTorch's __multinomial function__."
   ]
  },
  {
   "cell_type": "code",
   "execution_count": 120,
   "id": "65f456f5-19a0-4698-ae05-ff6094d03b01",
   "metadata": {},
   "outputs": [
    {
     "name": "stdout",
     "output_type": "stream",
     "text": [
      "toward\n"
     ]
    }
   ],
   "source": [
    "torch.manual_seed(123)\n",
    "next_token_id = torch.multinomial(probas, num_samples=1).item()\n",
    "print(inverse_vocab[next_token_id])"
   ]
  },
  {
   "cell_type": "markdown",
   "id": "43452228-fc05-4fc4-ac82-bf5ee347a650",
   "metadata": {},
   "source": [
    "- __multinomial__ samples the next token proportional to its probability score. In other words, \"forward\" is still the most likely token and will be selected by multinomial most of the time but not all the time. To illustrate this, let’s implement a function that repeats this sampling 1,000 times:"
   ]
  },
  {
   "cell_type": "code",
   "execution_count": 121,
   "id": "bf667105-a9f5-4a78-b52c-56b478a33bc1",
   "metadata": {},
   "outputs": [
    {
     "name": "stdout",
     "output_type": "stream",
     "text": [
      "71 x closer\n",
      "2 x every\n",
      "0 x effort\n",
      "544 x forward\n",
      "2 x inches\n",
      "1 x moves\n",
      "0 x pizza\n",
      "376 x toward\n",
      "4 x you\n"
     ]
    }
   ],
   "source": [
    "def print_sampled_tokens(probas):\n",
    "    torch.manual_seed(123)\n",
    "    sample = [torch.multinomial(probas, num_samples=1).item()\n",
    "        for i in range(1_000)]\n",
    "    sampled_ids = torch.bincount(torch.tensor(sample))\n",
    "    for i, freq in enumerate(sampled_ids):\n",
    "        print(f\"{freq} x {inverse_vocab[i]}\")\n",
    "print_sampled_tokens(probas)"
   ]
  },
  {
   "cell_type": "markdown",
   "id": "c1dcacf7-6a92-4584-8c99-82e1cb3ad73d",
   "metadata": {},
   "source": [
    "- We can control the distribution and selection process via temperature scaling. This is just a fancy description for dividing the logits by a number greater than 0.\n",
    "- Temperatures __greater than 1 return more uniformly distributed token probabilities__.\n",
    "- Temperatures __smaller than 1 return more confident (sharper or more peaky) distributions__."
   ]
  },
  {
   "cell_type": "code",
   "execution_count": 122,
   "id": "8cf55390-4b50-45d9-9e6b-2c8eb2473021",
   "metadata": {},
   "outputs": [],
   "source": [
    "def softmax_with_temperature(logits, temperature):\n",
    "    scaled_logits = logits / temperature\n",
    "    return torch.softmax(scaled_logits, dim=0)"
   ]
  },
  {
   "cell_type": "code",
   "execution_count": 123,
   "id": "2ffb7b37-7743-4264-a734-bbcf33f5da83",
   "metadata": {},
   "outputs": [
    {
     "data": {
      "image/png": "[encoded data removed]",
      "text/plain": [
       "<Figure size 500x300 with 1 Axes>"
      ]
     },
     "metadata": {},
     "output_type": "display_data"
    }
   ],
   "source": [
    "temperatures  = [1, 0.1, 5]\n",
    "scaled_probas = [softmax_with_temperature(next_token_logits, T)\n",
    "    for T in temperatures]\n",
    "x = torch.arange(len(vocab))\n",
    "bar_width = 0.15\n",
    "fig, ax = plt.subplots(figsize=(5, 3))\n",
    "\n",
    "for i, T in enumerate(temperatures):\n",
    "    rects = ax.bar(x + i * bar_width, scaled_probas[i],\n",
    "    bar_width, label=f'Temperature = {T}')\n",
    "\n",
    "ax.set_ylabel('Probability')\n",
    "ax.set_xticks(x)\n",
    "ax.set_xticklabels(vocab.keys(), rotation=90)\n",
    "ax.legend()\n",
    "plt.tight_layout()\n",
    "plt.show()"
   ]
  },
  {
   "cell_type": "markdown",
   "id": "49825895-1d0d-4d31-adfe-47ade3f71193",
   "metadata": {},
   "source": [
    "- A temperature of 1 divides the logits by 1 before passing them to the softmax function to compute\n",
    "the probability scores. (In other words, temperature of 1 is the same as not using any\n",
    "temperature scaling.)\n",
    "- In this case, the tokens are selected with a probability equal to the original softmax probability scores via PyTorch's multinomial sampling function.\n",
    "- For a temperature setting of 1, the token corresponding to “forward” would be selected about 60% of the time.\n",
    "- Applying small temperatures such as 0.1 returns \"sharper\" distributions - the multinomial function selects \"forward\") almost 100% of the time - approaching the behavior of the argmax function.\n",
    "- A temperature of 5 results in a __more uniform distribution__. This can add variety to the generated texts but can return nonsensical text."
   ]
  },
  {
   "cell_type": "markdown",
   "id": "57446c60-f050-4383-9355-24234cec2871",
   "metadata": {},
   "source": [
    "### 5.3.2 Top-k sampling\n",
    "- Temperature scaling can return nonsensical outputs. Top-k sampling, when combined with\n",
    "probabilistic sampling and temperature scaling, can improve  text generation results.\n",
    "- Top-k sampling __restricts the sampled tokens to the top-k most likely tokens__ & excludes all others.\n",
    "\n",
    "![fig5-15](px/fig5-15.png)"
   ]
  },
  {
   "cell_type": "code",
   "execution_count": 124,
   "id": "cb5d18a8-f525-4417-9d70-2694f89d1c6c",
   "metadata": {},
   "outputs": [
    {
     "name": "stdout",
     "output_type": "stream",
     "text": [
      "Top logits: tensor([6.7500, 6.2800, 4.5100])\n",
      "Top positions: tensor([3, 7, 0])\n"
     ]
    }
   ],
   "source": [
    "top_k = 3\n",
    "top_logits, top_pos = torch.topk(next_token_logits, top_k)\n",
    "print(\"Top logits:\", top_logits)\n",
    "print(\"Top positions:\", top_pos)"
   ]
  },
  {
   "cell_type": "code",
   "execution_count": 125,
   "id": "d3589683-833a-4a14-a24c-98ea34238803",
   "metadata": {},
   "outputs": [
    {
     "name": "stdout",
     "output_type": "stream",
     "text": [
      "tensor([4.5100,   -inf,   -inf, 6.7500,   -inf,   -inf,   -inf, 6.2800,   -inf])\n"
     ]
    }
   ],
   "source": [
    "# get next-token logits in this nine-token vocabulary\n",
    "new_logits = torch.where(\n",
    "    condition = next_token_logits < top_logits[-1],\n",
    "    input     = torch.tensor(float('-inf')),\n",
    "    other     = next_token_logits)\n",
    "print(new_logits)"
   ]
  },
  {
   "cell_type": "code",
   "execution_count": 126,
   "id": "090056be-9b64-43b4-9675-aa8250846735",
   "metadata": {},
   "outputs": [
    {
     "name": "stdout",
     "output_type": "stream",
     "text": [
      "tensor([0.0615, 0.0000, 0.0000, 0.5775, 0.0000, 0.0000, 0.0000, 0.3610, 0.0000])\n"
     ]
    }
   ],
   "source": [
    "# apply softmax to get next-token probabilities\n",
    "topk_probas = torch.softmax(new_logits, dim=0)\n",
    "print(topk_probas)"
   ]
  },
  {
   "cell_type": "markdown",
   "id": "a58970e6-2b96-4712-b921-219a0c663396",
   "metadata": {},
   "source": [
    "### 5.3.3 Modifying the text generation function\n",
    "- The previous two sections introduced temperature sampling and top-k sampling. Now modify the __generate_simple__ into a new __generate__ function."
   ]
  },
  {
   "cell_type": "code",
   "execution_count": 127,
   "id": "83cb8cff-79fb-4fec-afce-ac3450eed4aa",
   "metadata": {},
   "outputs": [],
   "source": [
    "def generate(model, idx, max_new_tokens, \n",
    "             context_size, \n",
    "             temperature=0.0, \n",
    "             top_k=None,\n",
    "             eos_id=None): # eos_id missing from book v7 code listing, but in github.\n",
    "    for _ in range(max_new_tokens):\n",
    "        idx_cond = idx[:, -context_size:]\n",
    "        with torch.no_grad():\n",
    "            logits = model(idx_cond)\n",
    "        \n",
    "        logits = logits[:, -1, :]\n",
    "        if top_k is not None:              # filter logits with top_k sampling\n",
    "            top_logits, _ = torch.topk(logits, top_k)\n",
    "            min_val       = top_logits[:, -1]\n",
    "            logits        = torch.where(\n",
    "                logits < min_val,\n",
    "                torch.tensor(float('-inf')).to(logits.device),\n",
    "                logits)\n",
    "\n",
    "        if temperature > 0.0:\n",
    "            logits   = logits / temperature\n",
    "            probs    = torch.softmax(logits, dim=-1)\n",
    "            idx_next = torch.multinomial(probs, num_samples=1)\n",
    "        else:\n",
    "            idx_next = torch.argmax(logits, dim=-1, keepdim=True)\n",
    "\n",
    "        if idx_next == eos_id:\n",
    "            break\n",
    "        idx = torch.cat((idx, idx_next), dim=1)\n",
    "    return idx"
   ]
  },
  {
   "cell_type": "code",
   "execution_count": 128,
   "id": "47578cee-5c7f-4583-a6d2-5adca2185e26",
   "metadata": {},
   "outputs": [
    {
     "name": "stdout",
     "output_type": "stream",
     "text": [
      "Output text:\n",
      " Every effort moves you know began to my surprise, a little it was the\n",
      "\"Ah enough\n"
     ]
    }
   ],
   "source": [
    "torch.manual_seed(123)\n",
    "token_ids = generate(\n",
    "    model          = model,\n",
    "    idx            = text_to_token_ids(\"Every effort moves you\", tokenizer),\n",
    "    max_new_tokens = 15,\n",
    "    context_size   = GPT_CONFIG_124M[\"context_length\"],\n",
    "    top_k          = 25,\n",
    "    temperature    = 1.4)\n",
    "\n",
    "print(\"Output text:\\n\", token_ids_to_text(token_ids, tokenizer))"
   ]
  },
  {
   "cell_type": "markdown",
   "id": "e8b35ddf-e686-4c49-af50-4c55a779c952",
   "metadata": {},
   "source": [
    "### 5.4 Loading and saving model weights in PyTorch\n",
    "- Pretraining even small LLMs is expensive. Thus, we want to save the LLM so that we don’t have to rerun the training every time we want to use it in a new session.\n",
    "- Saving a PyTorch model is straightforward. The recommended way is to save a model’s __state_dict__, a dictionary mapping each layer to its parameters, using __torch.save__.\n",
    "- After saving the model weights we can load them into a new GPTModel model instance."
   ]
  },
  {
   "cell_type": "code",
   "execution_count": 129,
   "id": "137281eb-816e-4c84-8a3d-dd4a402b54ea",
   "metadata": {},
   "outputs": [],
   "source": [
    "torch.save(model.state_dict(), \"my_model.pth\")"
   ]
  },
  {
   "cell_type": "code",
   "execution_count": 130,
   "id": "de38b4c4-8836-4569-b821-a3a07e0d0129",
   "metadata": {},
   "outputs": [
    {
     "data": {
      "text/plain": [
       "GPTModel(\n",
       "  (tok_emb): Embedding(50257, 768)\n",
       "  (pos_emb): Embedding(256, 768)\n",
       "  (drop_emb): Dropout(p=0.1, inplace=False)\n",
       "  (trf_blocks): Sequential(\n",
       "    (0): TransformerBlock(\n",
       "      (att): MultiHeadAttention(\n",
       "        (W_query): Linear(in_features=768, out_features=768, bias=False)\n",
       "        (W_key): Linear(in_features=768, out_features=768, bias=False)\n",
       "        (W_value): Linear(in_features=768, out_features=768, bias=False)\n",
       "        (out_proj): Linear(in_features=768, out_features=768, bias=True)\n",
       "        (dropout): Dropout(p=0.1, inplace=False)\n",
       "      )\n",
       "      (ff): FeedForward(\n",
       "        (layers): Sequential(\n",
       "          (0): Linear(in_features=768, out_features=3072, bias=True)\n",
       "          (1): GELU()\n",
       "          (2): Linear(in_features=3072, out_features=768, bias=True)\n",
       "        )\n",
       "      )\n",
       "      (norm1): LayerNorm()\n",
       "      (norm2): LayerNorm()\n",
       "      (drop_shortcut): Dropout(p=0.1, inplace=False)\n",
       "    )\n",
       "    (1): TransformerBlock(\n",
       "      (att): MultiHeadAttention(\n",
       "        (W_query): Linear(in_features=768, out_features=768, bias=False)\n",
       "        (W_key): Linear(in_features=768, out_features=768, bias=False)\n",
       "        (W_value): Linear(in_features=768, out_features=768, bias=False)\n",
       "        (out_proj): Linear(in_features=768, out_features=768, bias=True)\n",
       "        (dropout): Dropout(p=0.1, inplace=False)\n",
       "      )\n",
       "      (ff): FeedForward(\n",
       "        (layers): Sequential(\n",
       "          (0): Linear(in_features=768, out_features=3072, bias=True)\n",
       "          (1): GELU()\n",
       "          (2): Linear(in_features=3072, out_features=768, bias=True)\n",
       "        )\n",
       "      )\n",
       "      (norm1): LayerNorm()\n",
       "      (norm2): LayerNorm()\n",
       "      (drop_shortcut): Dropout(p=0.1, inplace=False)\n",
       "    )\n",
       "    (2): TransformerBlock(\n",
       "      (att): MultiHeadAttention(\n",
       "        (W_query): Linear(in_features=768, out_features=768, bias=False)\n",
       "        (W_key): Linear(in_features=768, out_features=768, bias=False)\n",
       "        (W_value): Linear(in_features=768, out_features=768, bias=False)\n",
       "        (out_proj): Linear(in_features=768, out_features=768, bias=True)\n",
       "        (dropout): Dropout(p=0.1, inplace=False)\n",
       "      )\n",
       "      (ff): FeedForward(\n",
       "        (layers): Sequential(\n",
       "          (0): Linear(in_features=768, out_features=3072, bias=True)\n",
       "          (1): GELU()\n",
       "          (2): Linear(in_features=3072, out_features=768, bias=True)\n",
       "        )\n",
       "      )\n",
       "      (norm1): LayerNorm()\n",
       "      (norm2): LayerNorm()\n",
       "      (drop_shortcut): Dropout(p=0.1, inplace=False)\n",
       "    )\n",
       "    (3): TransformerBlock(\n",
       "      (att): MultiHeadAttention(\n",
       "        (W_query): Linear(in_features=768, out_features=768, bias=False)\n",
       "        (W_key): Linear(in_features=768, out_features=768, bias=False)\n",
       "        (W_value): Linear(in_features=768, out_features=768, bias=False)\n",
       "        (out_proj): Linear(in_features=768, out_features=768, bias=True)\n",
       "        (dropout): Dropout(p=0.1, inplace=False)\n",
       "      )\n",
       "      (ff): FeedForward(\n",
       "        (layers): Sequential(\n",
       "          (0): Linear(in_features=768, out_features=3072, bias=True)\n",
       "          (1): GELU()\n",
       "          (2): Linear(in_features=3072, out_features=768, bias=True)\n",
       "        )\n",
       "      )\n",
       "      (norm1): LayerNorm()\n",
       "      (norm2): LayerNorm()\n",
       "      (drop_shortcut): Dropout(p=0.1, inplace=False)\n",
       "    )\n",
       "    (4): TransformerBlock(\n",
       "      (att): MultiHeadAttention(\n",
       "        (W_query): Linear(in_features=768, out_features=768, bias=False)\n",
       "        (W_key): Linear(in_features=768, out_features=768, bias=False)\n",
       "        (W_value): Linear(in_features=768, out_features=768, bias=False)\n",
       "        (out_proj): Linear(in_features=768, out_features=768, bias=True)\n",
       "        (dropout): Dropout(p=0.1, inplace=False)\n",
       "      )\n",
       "      (ff): FeedForward(\n",
       "        (layers): Sequential(\n",
       "          (0): Linear(in_features=768, out_features=3072, bias=True)\n",
       "          (1): GELU()\n",
       "          (2): Linear(in_features=3072, out_features=768, bias=True)\n",
       "        )\n",
       "      )\n",
       "      (norm1): LayerNorm()\n",
       "      (norm2): LayerNorm()\n",
       "      (drop_shortcut): Dropout(p=0.1, inplace=False)\n",
       "    )\n",
       "    (5): TransformerBlock(\n",
       "      (att): MultiHeadAttention(\n",
       "        (W_query): Linear(in_features=768, out_features=768, bias=False)\n",
       "        (W_key): Linear(in_features=768, out_features=768, bias=False)\n",
       "        (W_value): Linear(in_features=768, out_features=768, bias=False)\n",
       "        (out_proj): Linear(in_features=768, out_features=768, bias=True)\n",
       "        (dropout): Dropout(p=0.1, inplace=False)\n",
       "      )\n",
       "      (ff): FeedForward(\n",
       "        (layers): Sequential(\n",
       "          (0): Linear(in_features=768, out_features=3072, bias=True)\n",
       "          (1): GELU()\n",
       "          (2): Linear(in_features=3072, out_features=768, bias=True)\n",
       "        )\n",
       "      )\n",
       "      (norm1): LayerNorm()\n",
       "      (norm2): LayerNorm()\n",
       "      (drop_shortcut): Dropout(p=0.1, inplace=False)\n",
       "    )\n",
       "    (6): TransformerBlock(\n",
       "      (att): MultiHeadAttention(\n",
       "        (W_query): Linear(in_features=768, out_features=768, bias=False)\n",
       "        (W_key): Linear(in_features=768, out_features=768, bias=False)\n",
       "        (W_value): Linear(in_features=768, out_features=768, bias=False)\n",
       "        (out_proj): Linear(in_features=768, out_features=768, bias=True)\n",
       "        (dropout): Dropout(p=0.1, inplace=False)\n",
       "      )\n",
       "      (ff): FeedForward(\n",
       "        (layers): Sequential(\n",
       "          (0): Linear(in_features=768, out_features=3072, bias=True)\n",
       "          (1): GELU()\n",
       "          (2): Linear(in_features=3072, out_features=768, bias=True)\n",
       "        )\n",
       "      )\n",
       "      (norm1): LayerNorm()\n",
       "      (norm2): LayerNorm()\n",
       "      (drop_shortcut): Dropout(p=0.1, inplace=False)\n",
       "    )\n",
       "    (7): TransformerBlock(\n",
       "      (att): MultiHeadAttention(\n",
       "        (W_query): Linear(in_features=768, out_features=768, bias=False)\n",
       "        (W_key): Linear(in_features=768, out_features=768, bias=False)\n",
       "        (W_value): Linear(in_features=768, out_features=768, bias=False)\n",
       "        (out_proj): Linear(in_features=768, out_features=768, bias=True)\n",
       "        (dropout): Dropout(p=0.1, inplace=False)\n",
       "      )\n",
       "      (ff): FeedForward(\n",
       "        (layers): Sequential(\n",
       "          (0): Linear(in_features=768, out_features=3072, bias=True)\n",
       "          (1): GELU()\n",
       "          (2): Linear(in_features=3072, out_features=768, bias=True)\n",
       "        )\n",
       "      )\n",
       "      (norm1): LayerNorm()\n",
       "      (norm2): LayerNorm()\n",
       "      (drop_shortcut): Dropout(p=0.1, inplace=False)\n",
       "    )\n",
       "    (8): TransformerBlock(\n",
       "      (att): MultiHeadAttention(\n",
       "        (W_query): Linear(in_features=768, out_features=768, bias=False)\n",
       "        (W_key): Linear(in_features=768, out_features=768, bias=False)\n",
       "        (W_value): Linear(in_features=768, out_features=768, bias=False)\n",
       "        (out_proj): Linear(in_features=768, out_features=768, bias=True)\n",
       "        (dropout): Dropout(p=0.1, inplace=False)\n",
       "      )\n",
       "      (ff): FeedForward(\n",
       "        (layers): Sequential(\n",
       "          (0): Linear(in_features=768, out_features=3072, bias=True)\n",
       "          (1): GELU()\n",
       "          (2): Linear(in_features=3072, out_features=768, bias=True)\n",
       "        )\n",
       "      )\n",
       "      (norm1): LayerNorm()\n",
       "      (norm2): LayerNorm()\n",
       "      (drop_shortcut): Dropout(p=0.1, inplace=False)\n",
       "    )\n",
       "    (9): TransformerBlock(\n",
       "      (att): MultiHeadAttention(\n",
       "        (W_query): Linear(in_features=768, out_features=768, bias=False)\n",
       "        (W_key): Linear(in_features=768, out_features=768, bias=False)\n",
       "        (W_value): Linear(in_features=768, out_features=768, bias=False)\n",
       "        (out_proj): Linear(in_features=768, out_features=768, bias=True)\n",
       "        (dropout): Dropout(p=0.1, inplace=False)\n",
       "      )\n",
       "      (ff): FeedForward(\n",
       "        (layers): Sequential(\n",
       "          (0): Linear(in_features=768, out_features=3072, bias=True)\n",
       "          (1): GELU()\n",
       "          (2): Linear(in_features=3072, out_features=768, bias=True)\n",
       "        )\n",
       "      )\n",
       "      (norm1): LayerNorm()\n",
       "      (norm2): LayerNorm()\n",
       "      (drop_shortcut): Dropout(p=0.1, inplace=False)\n",
       "    )\n",
       "    (10): TransformerBlock(\n",
       "      (att): MultiHeadAttention(\n",
       "        (W_query): Linear(in_features=768, out_features=768, bias=False)\n",
       "        (W_key): Linear(in_features=768, out_features=768, bias=False)\n",
       "        (W_value): Linear(in_features=768, out_features=768, bias=False)\n",
       "        (out_proj): Linear(in_features=768, out_features=768, bias=True)\n",
       "        (dropout): Dropout(p=0.1, inplace=False)\n",
       "      )\n",
       "      (ff): FeedForward(\n",
       "        (layers): Sequential(\n",
       "          (0): Linear(in_features=768, out_features=3072, bias=True)\n",
       "          (1): GELU()\n",
       "          (2): Linear(in_features=3072, out_features=768, bias=True)\n",
       "        )\n",
       "      )\n",
       "      (norm1): LayerNorm()\n",
       "      (norm2): LayerNorm()\n",
       "      (drop_shortcut): Dropout(p=0.1, inplace=False)\n",
       "    )\n",
       "    (11): TransformerBlock(\n",
       "      (att): MultiHeadAttention(\n",
       "        (W_query): Linear(in_features=768, out_features=768, bias=False)\n",
       "        (W_key): Linear(in_features=768, out_features=768, bias=False)\n",
       "        (W_value): Linear(in_features=768, out_features=768, bias=False)\n",
       "        (out_proj): Linear(in_features=768, out_features=768, bias=True)\n",
       "        (dropout): Dropout(p=0.1, inplace=False)\n",
       "      )\n",
       "      (ff): FeedForward(\n",
       "        (layers): Sequential(\n",
       "          (0): Linear(in_features=768, out_features=3072, bias=True)\n",
       "          (1): GELU()\n",
       "          (2): Linear(in_features=3072, out_features=768, bias=True)\n",
       "        )\n",
       "      )\n",
       "      (norm1): LayerNorm()\n",
       "      (norm2): LayerNorm()\n",
       "      (drop_shortcut): Dropout(p=0.1, inplace=False)\n",
       "    )\n",
       "  )\n",
       "  (final_norm): LayerNorm()\n",
       "  (out_head): Linear(in_features=768, out_features=50257, bias=False)\n",
       ")"
      ]
     },
     "execution_count": 130,
     "metadata": {},
     "output_type": "execute_result"
    }
   ],
   "source": [
    "model = GPTModel(GPT_CONFIG_124M)\n",
    "model.load_state_dict(torch.load(\"my_model.pth\"))\n",
    "model.eval()"
   ]
  },
  {
   "cell_type": "markdown",
   "id": "61877241-4e8d-4c45-869b-a167d5b1b689",
   "metadata": {},
   "source": [
    "- Recall how dropout helps prevent overfitting by randomly “dropping out” of a layer’s neurons during training. We don’t want to lose any learned information during inference. __model.eval()__ switches the model to evaluation mode for inference, disabling the dropout layers of the model.\n",
    "- __If we plan to continue pretraining a model later__ — for example, using  __train_model_simple__\n",
    "— we should also save the optimizer state.\n",
    "- Adaptive optimizers such as __AdamW__ store additional parameters for each model weight. AdamW\n",
    "uses historical data to adjust learning rates for each model parameter dynamically. Without it, the\n",
    "optimizer resets, and the model may learn suboptimally or even fail to converge properly, which\n",
    "means it will lose the ability to generate coherent text. Using __torch.save__, we can save both the\n",
    "model and optimizer state_dict contents as follows."
   ]
  },
  {
   "cell_type": "code",
   "execution_count": 131,
   "id": "6ee69fee-de49-4bee-983e-f6ddccba272e",
   "metadata": {},
   "outputs": [],
   "source": [
    "torch.save({\n",
    "    \"model_state_dict\": model.state_dict(),\n",
    "    \"optimizer_state_dict\": optimizer.state_dict(),\n",
    "    },\n",
    "    \"model_and_optimizer.pth\")"
   ]
  },
  {
   "cell_type": "markdown",
   "id": "256d2567-3ff3-4c24-8d17-f39f4df767dc",
   "metadata": {},
   "source": [
    "- Then we can restore the model and optimizer states by loading the saved data via\n",
    "__torch.load__, then using __load_state_dict__."
   ]
  },
  {
   "cell_type": "code",
   "execution_count": 132,
   "id": "149231e1-bdf5-4834-909a-df71ab578949",
   "metadata": {},
   "outputs": [],
   "source": [
    "checkpoint = torch.load(\"model_and_optimizer.pth\")\n",
    "model      = GPTModel(GPT_CONFIG_124M)\n",
    "\n",
    "model.load_state_dict(checkpoint[\"model_state_dict\"])\n",
    "optimizer = torch.optim.AdamW(model.parameters(), lr=5e-4, weight_decay=0.1)\n",
    "optimizer.load_state_dict(checkpoint[\"optimizer_state_dict\"])\n",
    "model.train();"
   ]
  },
  {
   "cell_type": "markdown",
   "id": "7a86539a-5dab-4c4e-afb9-a93b44adab48",
   "metadata": {},
   "source": [
    "## 5.5 Loading pretrained weights from OpenAI\n",
    "- We trained a small GPT-2 model using a limited dataset. This allowed us to focus on the fundamentals without the need for extensive time and computational resources.\n",
    "- OpenAI shared the weights of their GPT-2 models, thus eliminating the need for retraining.\n",
    "- OpenAI originally saved the GPT-2 weights via TensorFlow, which we have to install to\n",
    "load the weights in Python. The following code will use a __progress bar tool called tqdm__ to\n",
    "track the download process, which we also have to install."
   ]
  },
  {
   "cell_type": "code",
   "execution_count": 133,
   "id": "cc1cdb24-8661-4438-9e8c-048438d600f8",
   "metadata": {},
   "outputs": [],
   "source": [
    "!pip install tensorflow>=2.15.0 tqdm>=4.66"
   ]
  },
  {
   "cell_type": "markdown",
   "id": "1e7f66fa-fd92-4c15-bdd1-513f1e7d782d",
   "metadata": {},
   "source": [
    "- The download code is relatively long, mostly boilerplate, and not very interesting. Download the gpt_download.py Python module directly from this chapter’s online repository:"
   ]
  },
  {
   "cell_type": "code",
   "execution_count": 134,
   "id": "c42c4c3f-aa2d-4bb8-b0ec-d90fe79fa3c3",
   "metadata": {},
   "outputs": [
    {
     "data": {
      "text/plain": [
       "('gpt_download.py', <http.client.HTTPMessage at 0x7c0e93b67d40>)"
      ]
     },
     "execution_count": 134,
     "metadata": {},
     "output_type": "execute_result"
    }
   ],
   "source": [
    "import urllib.request\n",
    "url = (\"https://raw.githubusercontent.com/rasbt/\"\n",
    "       \"LLMs-from-scratch/main/ch05/\"\n",
    "       \"01_main-chapter-code/gpt_download.py\"\n",
    ")\n",
    "filename = url.split('/')[-1]\n",
    "urllib.request.urlretrieve(url, filename)"
   ]
  },
  {
   "cell_type": "markdown",
   "id": "dcb8c656-6bcb-4c61-8726-68df13cc26e3",
   "metadata": {},
   "source": [
    "- Inspect the contents of this file to ensure that it was saved correctly and contains valid Python code.\n",
    "- Import the __download_and_load_gpt2__ function from the gpt_download.py file as follows, which will load the GPT-2 architecture settings (settings) and weight parameters (params) into our Python session:"
   ]
  },
  {
   "cell_type": "code",
   "execution_count": 135,
   "id": "3e454690-7381-4f71-9791-0926a5ab3a1f",
   "metadata": {},
   "outputs": [
    {
     "name": "stderr",
     "output_type": "stream",
     "text": [
      "2024-07-02 09:13:15.529254: I tensorflow/core/util/port.cc:113] oneDNN custom operations are on. You may see slightly different numerical results due to floating-point round-off errors from different computation orders. To turn them off, set the environment variable `TF_ENABLE_ONEDNN_OPTS=0`.\n",
      "2024-07-02 09:13:15.745602: E external/local_xla/xla/stream_executor/cuda/cuda_fft.cc:479] Unable to register cuFFT factory: Attempting to register factory for plugin cuFFT when one has already been registered\n",
      "2024-07-02 09:13:15.826039: E external/local_xla/xla/stream_executor/cuda/cuda_dnn.cc:10575] Unable to register cuDNN factory: Attempting to register factory for plugin cuDNN when one has already been registered\n",
      "2024-07-02 09:13:15.826652: E external/local_xla/xla/stream_executor/cuda/cuda_blas.cc:1442] Unable to register cuBLAS factory: Attempting to register factory for plugin cuBLAS when one has already been registered\n",
      "2024-07-02 09:13:15.963209: I tensorflow/core/platform/cpu_feature_guard.cc:210] This TensorFlow binary is optimized to use available CPU instructions in performance-critical operations.\n",
      "To enable the following instructions: AVX2 AVX_VNNI FMA, in other operations, rebuild TensorFlow with the appropriate compiler flags.\n",
      "2024-07-02 09:13:16.703789: W tensorflow/compiler/tf2tensorrt/utils/py_utils.cc:38] TF-TRT Warning: Could not find TensorRT\n"
     ]
    },
    {
     "name": "stdout",
     "output_type": "stream",
     "text": [
      "File already exists and is up-to-date: gpt2/124M/checkpoint\n",
      "File already exists and is up-to-date: gpt2/124M/encoder.json\n",
      "File already exists and is up-to-date: gpt2/124M/hparams.json\n",
      "File already exists and is up-to-date: gpt2/124M/model.ckpt.data-00000-of-00001\n",
      "File already exists and is up-to-date: gpt2/124M/model.ckpt.index\n",
      "File already exists and is up-to-date: gpt2/124M/model.ckpt.meta\n",
      "File already exists and is up-to-date: gpt2/124M/vocab.bpe\n"
     ]
    }
   ],
   "source": [
    "from gpt_download import download_and_load_gpt2\n",
    "settings, params = download_and_load_gpt2(\n",
    "    model_size=\"124M\", \n",
    "    models_dir=\"gpt2\")"
   ]
  },
  {
   "cell_type": "markdown",
   "id": "8557fda1-f193-4300-b532-3267285c0a56",
   "metadata": {},
   "source": [
    "- inspect the contents of settings and params. Both are Python dictionaries.\n",
    "- __settings__ stores the LLM architecture settings similarly to our manually defined GPT_CONFIG_124M settings. __params__ contains the actual weight tensors.\n",
    "- We only printed the dictionary keys because printing the weight contents would take up too much screen space. We can inspect these weight tensors by printing the whole dictionary via __print(params)__ or by selecting individual tensors via the respective dictionary keys, for example, the embedding layer weights.\n",
    "- We're using the weights of the smallest GPT-2 model via the download_and_load_gpt2(model_size=\"124M\", ...) setting. OpenAI also shares the weights of larger models: 355M, 774M, and 1558M. The overall architecture of these differently sized GPT models is the same, as illustrated in figure 5.17."
   ]
  },
  {
   "cell_type": "code",
   "execution_count": 136,
   "id": "20c90e9e-d391-4885-b831-cbac7825882a",
   "metadata": {},
   "outputs": [
    {
     "name": "stdout",
     "output_type": "stream",
     "text": [
      "Settings: {'n_vocab': 50257, 'n_ctx': 1024, 'n_embd': 768, 'n_head': 12, 'n_layer': 12}\n",
      "Parameter dictionary keys: dict_keys(['blocks', 'b', 'g', 'wpe', 'wte'])\n"
     ]
    }
   ],
   "source": [
    "print(\"Settings:\", settings)\n",
    "print(\"Parameter dictionary keys:\", params.keys())"
   ]
  },
  {
   "cell_type": "code",
   "execution_count": 137,
   "id": "5c0539ce-0555-4abc-bea6-041353f2f7c6",
   "metadata": {},
   "outputs": [
    {
     "name": "stdout",
     "output_type": "stream",
     "text": [
      "[[-0.11010301 -0.03926672  0.03310751 ... -0.1363697   0.01506208\n",
      "   0.04531523]\n",
      " [ 0.04034033 -0.04861503  0.04624869 ...  0.08605453  0.00253983\n",
      "   0.04318958]\n",
      " [-0.12746179  0.04793796  0.18410145 ...  0.08991534 -0.12972379\n",
      "  -0.08785918]\n",
      " ...\n",
      " [-0.04453601 -0.05483596  0.01225674 ...  0.10435229  0.09783269\n",
      "  -0.06952604]\n",
      " [ 0.1860082   0.01665728  0.04611587 ... -0.09625227  0.07847701\n",
      "  -0.02245961]\n",
      " [ 0.05135201 -0.02768905  0.0499369  ...  0.00704835  0.15519823\n",
      "   0.12067825]]\n",
      "Token embedding weight tensor dimensions: (50257, 768)\n"
     ]
    }
   ],
   "source": [
    "print(params[\"wte\"])\n",
    "print(\"Token embedding weight tensor dimensions:\", params[\"wte\"].shape)"
   ]
  },
  {
   "cell_type": "markdown",
   "id": "9c6c7f7d-2576-4049-b811-b537f2e97ce3",
   "metadata": {},
   "source": [
    "![fig5-17](px/fig5-17.png)\n",
    "\n",
    "- After loading the GPT-2 model weights into Python, we still need to transfer them from the\n",
    "settings and params dictionaries into our GPTModel instance. First, we __create a dictionary that lists the differences between the different GPT model sizes__."
   ]
  },
  {
   "cell_type": "code",
   "execution_count": 138,
   "id": "37663e10-048b-403d-a12a-50a79e3d46eb",
   "metadata": {},
   "outputs": [],
   "source": [
    "model_configs = {\n",
    "\"gpt2-small (124M)\":  {\"emb_dim\":  768, \"n_layers\": 12, \"n_heads\": 12},\n",
    "\"gpt2-medium (355M)\": {\"emb_dim\": 1024, \"n_layers\": 24, \"n_heads\": 16},\n",
    "\"gpt2-large (774M)\":  {\"emb_dim\": 1280, \"n_layers\": 36, \"n_heads\": 20},\n",
    "\"gpt2-xl (1558M)\":    {\"emb_dim\": 1600, \"n_layers\": 48, \"n_heads\": 25},\n",
    "}"
   ]
  },
  {
   "cell_type": "markdown",
   "id": "a5d6bf96-a5f6-42e2-a059-0f145e50b40c",
   "metadata": {},
   "source": [
    "- Suppose we are interested in loading the smallest model, \"gpt2-small (124M)\". We can use __model_configs__ to update our full-length GPT_CONFIG_124M we defined and used earlier throughout the chapter as follows:"
   ]
  },
  {
   "cell_type": "code",
   "execution_count": 139,
   "id": "0ef473ba-c8fd-4218-ad93-c5f9257b9a59",
   "metadata": {},
   "outputs": [],
   "source": [
    "model_name = \"gpt2-small (124M)\"\n",
    "NEW_CONFIG = GPT_CONFIG_124M.copy()\n",
    "NEW_CONFIG.update(model_configs[model_name])"
   ]
  },
  {
   "cell_type": "markdown",
   "id": "f60e29ae-1f65-434d-8dcb-6eb7ac13c1b5",
   "metadata": {},
   "source": [
    "- Recall that we used a 256-token length earlier, but the original GPT-2\n",
    "models from OpenAI were trained with a 1,024-token length, so we have to update the\n",
    "NEW_CONFIG accordingly:"
   ]
  },
  {
   "cell_type": "code",
   "execution_count": 140,
   "id": "4b0f946b-1697-4b9d-ae61-898d3400d415",
   "metadata": {},
   "outputs": [],
   "source": [
    "NEW_CONFIG.update({\"context_length\": 1024})"
   ]
  },
  {
   "cell_type": "markdown",
   "id": "1d3d3a48-5682-45c2-bc3f-033d339c9309",
   "metadata": {},
   "source": [
    "- __OpenAI used bias vectors in the multi-head attention module’s linear layers__ to implement the\n",
    "query, key, and value matrix computations. Bias vectors are not commonly used in LLMs anymore\n",
    "as they don’t improve the modeling performance and are thus unnecessary.\n",
    "- However, since we are working with pretrained weights, __we need to match the settings for consistency and enable these bias vectors__:"
   ]
  },
  {
   "cell_type": "code",
   "execution_count": 141,
   "id": "6b1a09b6-9fac-4cd5-9bd7-1f233536a8ee",
   "metadata": {},
   "outputs": [],
   "source": [
    "NEW_CONFIG.update({\"qkv_bias\": True})"
   ]
  },
  {
   "cell_type": "markdown",
   "id": "b9c05e67-e293-4d93-b150-e629eb89f522",
   "metadata": {},
   "source": [
    "- Now use the updated NEW_CONFIG dictionary to initialize a new GPTModel instance:"
   ]
  },
  {
   "cell_type": "code",
   "execution_count": 142,
   "id": "94f706da-cef6-4291-813e-52670308205d",
   "metadata": {},
   "outputs": [
    {
     "data": {
      "text/plain": [
       "GPTModel(\n",
       "  (tok_emb): Embedding(50257, 768)\n",
       "  (pos_emb): Embedding(1024, 768)\n",
       "  (drop_emb): Dropout(p=0.1, inplace=False)\n",
       "  (trf_blocks): Sequential(\n",
       "    (0): TransformerBlock(\n",
       "      (att): MultiHeadAttention(\n",
       "        (W_query): Linear(in_features=768, out_features=768, bias=True)\n",
       "        (W_key): Linear(in_features=768, out_features=768, bias=True)\n",
       "        (W_value): Linear(in_features=768, out_features=768, bias=True)\n",
       "        (out_proj): Linear(in_features=768, out_features=768, bias=True)\n",
       "        (dropout): Dropout(p=0.1, inplace=False)\n",
       "      )\n",
       "      (ff): FeedForward(\n",
       "        (layers): Sequential(\n",
       "          (0): Linear(in_features=768, out_features=3072, bias=True)\n",
       "          (1): GELU()\n",
       "          (2): Linear(in_features=3072, out_features=768, bias=True)\n",
       "        )\n",
       "      )\n",
       "      (norm1): LayerNorm()\n",
       "      (norm2): LayerNorm()\n",
       "      (drop_shortcut): Dropout(p=0.1, inplace=False)\n",
       "    )\n",
       "    (1): TransformerBlock(\n",
       "      (att): MultiHeadAttention(\n",
       "        (W_query): Linear(in_features=768, out_features=768, bias=True)\n",
       "        (W_key): Linear(in_features=768, out_features=768, bias=True)\n",
       "        (W_value): Linear(in_features=768, out_features=768, bias=True)\n",
       "        (out_proj): Linear(in_features=768, out_features=768, bias=True)\n",
       "        (dropout): Dropout(p=0.1, inplace=False)\n",
       "      )\n",
       "      (ff): FeedForward(\n",
       "        (layers): Sequential(\n",
       "          (0): Linear(in_features=768, out_features=3072, bias=True)\n",
       "          (1): GELU()\n",
       "          (2): Linear(in_features=3072, out_features=768, bias=True)\n",
       "        )\n",
       "      )\n",
       "      (norm1): LayerNorm()\n",
       "      (norm2): LayerNorm()\n",
       "      (drop_shortcut): Dropout(p=0.1, inplace=False)\n",
       "    )\n",
       "    (2): TransformerBlock(\n",
       "      (att): MultiHeadAttention(\n",
       "        (W_query): Linear(in_features=768, out_features=768, bias=True)\n",
       "        (W_key): Linear(in_features=768, out_features=768, bias=True)\n",
       "        (W_value): Linear(in_features=768, out_features=768, bias=True)\n",
       "        (out_proj): Linear(in_features=768, out_features=768, bias=True)\n",
       "        (dropout): Dropout(p=0.1, inplace=False)\n",
       "      )\n",
       "      (ff): FeedForward(\n",
       "        (layers): Sequential(\n",
       "          (0): Linear(in_features=768, out_features=3072, bias=True)\n",
       "          (1): GELU()\n",
       "          (2): Linear(in_features=3072, out_features=768, bias=True)\n",
       "        )\n",
       "      )\n",
       "      (norm1): LayerNorm()\n",
       "      (norm2): LayerNorm()\n",
       "      (drop_shortcut): Dropout(p=0.1, inplace=False)\n",
       "    )\n",
       "    (3): TransformerBlock(\n",
       "      (att): MultiHeadAttention(\n",
       "        (W_query): Linear(in_features=768, out_features=768, bias=True)\n",
       "        (W_key): Linear(in_features=768, out_features=768, bias=True)\n",
       "        (W_value): Linear(in_features=768, out_features=768, bias=True)\n",
       "        (out_proj): Linear(in_features=768, out_features=768, bias=True)\n",
       "        (dropout): Dropout(p=0.1, inplace=False)\n",
       "      )\n",
       "      (ff): FeedForward(\n",
       "        (layers): Sequential(\n",
       "          (0): Linear(in_features=768, out_features=3072, bias=True)\n",
       "          (1): GELU()\n",
       "          (2): Linear(in_features=3072, out_features=768, bias=True)\n",
       "        )\n",
       "      )\n",
       "      (norm1): LayerNorm()\n",
       "      (norm2): LayerNorm()\n",
       "      (drop_shortcut): Dropout(p=0.1, inplace=False)\n",
       "    )\n",
       "    (4): TransformerBlock(\n",
       "      (att): MultiHeadAttention(\n",
       "        (W_query): Linear(in_features=768, out_features=768, bias=True)\n",
       "        (W_key): Linear(in_features=768, out_features=768, bias=True)\n",
       "        (W_value): Linear(in_features=768, out_features=768, bias=True)\n",
       "        (out_proj): Linear(in_features=768, out_features=768, bias=True)\n",
       "        (dropout): Dropout(p=0.1, inplace=False)\n",
       "      )\n",
       "      (ff): FeedForward(\n",
       "        (layers): Sequential(\n",
       "          (0): Linear(in_features=768, out_features=3072, bias=True)\n",
       "          (1): GELU()\n",
       "          (2): Linear(in_features=3072, out_features=768, bias=True)\n",
       "        )\n",
       "      )\n",
       "      (norm1): LayerNorm()\n",
       "      (norm2): LayerNorm()\n",
       "      (drop_shortcut): Dropout(p=0.1, inplace=False)\n",
       "    )\n",
       "    (5): TransformerBlock(\n",
       "      (att): MultiHeadAttention(\n",
       "        (W_query): Linear(in_features=768, out_features=768, bias=True)\n",
       "        (W_key): Linear(in_features=768, out_features=768, bias=True)\n",
       "        (W_value): Linear(in_features=768, out_features=768, bias=True)\n",
       "        (out_proj): Linear(in_features=768, out_features=768, bias=True)\n",
       "        (dropout): Dropout(p=0.1, inplace=False)\n",
       "      )\n",
       "      (ff): FeedForward(\n",
       "        (layers): Sequential(\n",
       "          (0): Linear(in_features=768, out_features=3072, bias=True)\n",
       "          (1): GELU()\n",
       "          (2): Linear(in_features=3072, out_features=768, bias=True)\n",
       "        )\n",
       "      )\n",
       "      (norm1): LayerNorm()\n",
       "      (norm2): LayerNorm()\n",
       "      (drop_shortcut): Dropout(p=0.1, inplace=False)\n",
       "    )\n",
       "    (6): TransformerBlock(\n",
       "      (att): MultiHeadAttention(\n",
       "        (W_query): Linear(in_features=768, out_features=768, bias=True)\n",
       "        (W_key): Linear(in_features=768, out_features=768, bias=True)\n",
       "        (W_value): Linear(in_features=768, out_features=768, bias=True)\n",
       "        (out_proj): Linear(in_features=768, out_features=768, bias=True)\n",
       "        (dropout): Dropout(p=0.1, inplace=False)\n",
       "      )\n",
       "      (ff): FeedForward(\n",
       "        (layers): Sequential(\n",
       "          (0): Linear(in_features=768, out_features=3072, bias=True)\n",
       "          (1): GELU()\n",
       "          (2): Linear(in_features=3072, out_features=768, bias=True)\n",
       "        )\n",
       "      )\n",
       "      (norm1): LayerNorm()\n",
       "      (norm2): LayerNorm()\n",
       "      (drop_shortcut): Dropout(p=0.1, inplace=False)\n",
       "    )\n",
       "    (7): TransformerBlock(\n",
       "      (att): MultiHeadAttention(\n",
       "        (W_query): Linear(in_features=768, out_features=768, bias=True)\n",
       "        (W_key): Linear(in_features=768, out_features=768, bias=True)\n",
       "        (W_value): Linear(in_features=768, out_features=768, bias=True)\n",
       "        (out_proj): Linear(in_features=768, out_features=768, bias=True)\n",
       "        (dropout): Dropout(p=0.1, inplace=False)\n",
       "      )\n",
       "      (ff): FeedForward(\n",
       "        (layers): Sequential(\n",
       "          (0): Linear(in_features=768, out_features=3072, bias=True)\n",
       "          (1): GELU()\n",
       "          (2): Linear(in_features=3072, out_features=768, bias=True)\n",
       "        )\n",
       "      )\n",
       "      (norm1): LayerNorm()\n",
       "      (norm2): LayerNorm()\n",
       "      (drop_shortcut): Dropout(p=0.1, inplace=False)\n",
       "    )\n",
       "    (8): TransformerBlock(\n",
       "      (att): MultiHeadAttention(\n",
       "        (W_query): Linear(in_features=768, out_features=768, bias=True)\n",
       "        (W_key): Linear(in_features=768, out_features=768, bias=True)\n",
       "        (W_value): Linear(in_features=768, out_features=768, bias=True)\n",
       "        (out_proj): Linear(in_features=768, out_features=768, bias=True)\n",
       "        (dropout): Dropout(p=0.1, inplace=False)\n",
       "      )\n",
       "      (ff): FeedForward(\n",
       "        (layers): Sequential(\n",
       "          (0): Linear(in_features=768, out_features=3072, bias=True)\n",
       "          (1): GELU()\n",
       "          (2): Linear(in_features=3072, out_features=768, bias=True)\n",
       "        )\n",
       "      )\n",
       "      (norm1): LayerNorm()\n",
       "      (norm2): LayerNorm()\n",
       "      (drop_shortcut): Dropout(p=0.1, inplace=False)\n",
       "    )\n",
       "    (9): TransformerBlock(\n",
       "      (att): MultiHeadAttention(\n",
       "        (W_query): Linear(in_features=768, out_features=768, bias=True)\n",
       "        (W_key): Linear(in_features=768, out_features=768, bias=True)\n",
       "        (W_value): Linear(in_features=768, out_features=768, bias=True)\n",
       "        (out_proj): Linear(in_features=768, out_features=768, bias=True)\n",
       "        (dropout): Dropout(p=0.1, inplace=False)\n",
       "      )\n",
       "      (ff): FeedForward(\n",
       "        (layers): Sequential(\n",
       "          (0): Linear(in_features=768, out_features=3072, bias=True)\n",
       "          (1): GELU()\n",
       "          (2): Linear(in_features=3072, out_features=768, bias=True)\n",
       "        )\n",
       "      )\n",
       "      (norm1): LayerNorm()\n",
       "      (norm2): LayerNorm()\n",
       "      (drop_shortcut): Dropout(p=0.1, inplace=False)\n",
       "    )\n",
       "    (10): TransformerBlock(\n",
       "      (att): MultiHeadAttention(\n",
       "        (W_query): Linear(in_features=768, out_features=768, bias=True)\n",
       "        (W_key): Linear(in_features=768, out_features=768, bias=True)\n",
       "        (W_value): Linear(in_features=768, out_features=768, bias=True)\n",
       "        (out_proj): Linear(in_features=768, out_features=768, bias=True)\n",
       "        (dropout): Dropout(p=0.1, inplace=False)\n",
       "      )\n",
       "      (ff): FeedForward(\n",
       "        (layers): Sequential(\n",
       "          (0): Linear(in_features=768, out_features=3072, bias=True)\n",
       "          (1): GELU()\n",
       "          (2): Linear(in_features=3072, out_features=768, bias=True)\n",
       "        )\n",
       "      )\n",
       "      (norm1): LayerNorm()\n",
       "      (norm2): LayerNorm()\n",
       "      (drop_shortcut): Dropout(p=0.1, inplace=False)\n",
       "    )\n",
       "    (11): TransformerBlock(\n",
       "      (att): MultiHeadAttention(\n",
       "        (W_query): Linear(in_features=768, out_features=768, bias=True)\n",
       "        (W_key): Linear(in_features=768, out_features=768, bias=True)\n",
       "        (W_value): Linear(in_features=768, out_features=768, bias=True)\n",
       "        (out_proj): Linear(in_features=768, out_features=768, bias=True)\n",
       "        (dropout): Dropout(p=0.1, inplace=False)\n",
       "      )\n",
       "      (ff): FeedForward(\n",
       "        (layers): Sequential(\n",
       "          (0): Linear(in_features=768, out_features=3072, bias=True)\n",
       "          (1): GELU()\n",
       "          (2): Linear(in_features=3072, out_features=768, bias=True)\n",
       "        )\n",
       "      )\n",
       "      (norm1): LayerNorm()\n",
       "      (norm2): LayerNorm()\n",
       "      (drop_shortcut): Dropout(p=0.1, inplace=False)\n",
       "    )\n",
       "  )\n",
       "  (final_norm): LayerNorm()\n",
       "  (out_head): Linear(in_features=768, out_features=50257, bias=False)\n",
       ")"
      ]
     },
     "execution_count": 142,
     "metadata": {},
     "output_type": "execute_result"
    }
   ],
   "source": [
    "gpt = GPTModel(NEW_CONFIG)\n",
    "gpt.eval()"
   ]
  },
  {
   "cell_type": "markdown",
   "id": "47da97fb-5fb9-48bd-a619-08ce939c058b",
   "metadata": {},
   "source": [
    "- By default, the GPTModel instance is initialized with random weights for pretraining. The last step to\n",
    "using OpenAI’s model weights is to __override these random weights with the weights we loaded into\n",
    "the params dictionary__.\n",
    "- We will need a utility function that checks whether two tensors or arrays (left and right) have the same dimensions or shape and returns the right tensor as trainable PyTorch parameters:"
   ]
  },
  {
   "cell_type": "code",
   "execution_count": 143,
   "id": "c6b839c7-b403-43e7-99cf-a5cff74759b3",
   "metadata": {},
   "outputs": [],
   "source": [
    "def assign(left, right):\n",
    "    if left.shape != right.shape:\n",
    "        raise ValueError(f\"Shape mismatch. Left: {left.shape}, \"\"Right: {right.shape}\")\n",
    "    return torch.nn.Parameter(torch.tensor(right))"
   ]
  },
  {
   "cell_type": "markdown",
   "id": "cbef226f-75f2-4c67-bcde-ac2fdece0e99",
   "metadata": {},
   "source": [
    "- define a __load_weights_into_gpt__ function that loads the weights from the params dictionary\n",
    "into a GPTModel instance gpt."
   ]
  },
  {
   "cell_type": "code",
   "execution_count": 144,
   "id": "13992a95-ea36-49de-81b9-0d9e8a24930a",
   "metadata": {},
   "outputs": [],
   "source": [
    "import numpy as np\n",
    "\n",
    "def load_weights_into_gpt(gpt, params):\n",
    "    gpt.pos_emb.weight = assign(gpt.pos_emb.weight, params['wpe'])\n",
    "    gpt.tok_emb.weight = assign(gpt.tok_emb.weight, params['wte'])\n",
    "    \n",
    "    for b in range(len(params[\"blocks\"])):\n",
    "        q_w, k_w, v_w = np.split(\n",
    "            (params[\"blocks\"][b][\"attn\"][\"c_attn\"])[\"w\"], 3, axis=-1)\n",
    "        \n",
    "        gpt.trf_blocks[b].att.W_query.weight = assign(\n",
    "            gpt.trf_blocks[b].att.W_query.weight, q_w.T)\n",
    "        \n",
    "        gpt.trf_blocks[b].att.W_key.weight = assign(\n",
    "            gpt.trf_blocks[b].att.W_key.weight, k_w.T)\n",
    "        \n",
    "        gpt.trf_blocks[b].att.W_value.weight = assign(\n",
    "            gpt.trf_blocks[b].att.W_value.weight, v_w.T)\n",
    "        \n",
    "        q_b, k_b, v_b = np.split(\n",
    "            (params[\"blocks\"][b][\"attn\"][\"c_attn\"])[\"b\"], 3, axis=-1)\n",
    "        \n",
    "        gpt.trf_blocks[b].att.W_query.bias = assign(\n",
    "            gpt.trf_blocks[b].att.W_query.bias, q_b)\n",
    "        \n",
    "        gpt.trf_blocks[b].att.W_key.bias = assign(\n",
    "            gpt.trf_blocks[b].att.W_key.bias, k_b)\n",
    "        \n",
    "        gpt.trf_blocks[b].att.W_value.bias = assign(\n",
    "            gpt.trf_blocks[b].att.W_value.bias, v_b)\n",
    "        \n",
    "        gpt.trf_blocks[b].att.out_proj.weight = assign(\n",
    "            gpt.trf_blocks[b].att.out_proj.weight,\n",
    "            params[\"blocks\"][b][\"attn\"][\"c_proj\"][\"w\"].T)\n",
    "        \n",
    "        gpt.trf_blocks[b].att.out_proj.bias = assign(\n",
    "            gpt.trf_blocks[b].att.out_proj.bias,\n",
    "            params[\"blocks\"][b][\"attn\"][\"c_proj\"][\"b\"])\n",
    "        \n",
    "        gpt.trf_blocks[b].ff.layers[0].weight = assign(\n",
    "            gpt.trf_blocks[b].ff.layers[0].weight,\n",
    "            params[\"blocks\"][b][\"mlp\"][\"c_fc\"][\"w\"].T)\n",
    "        \n",
    "        gpt.trf_blocks[b].ff.layers[0].bias = assign(\n",
    "            gpt.trf_blocks[b].ff.layers[0].bias,\n",
    "            params[\"blocks\"][b][\"mlp\"][\"c_fc\"][\"b\"])\n",
    "        \n",
    "        gpt.trf_blocks[b].ff.layers[2].weight = assign(\n",
    "            gpt.trf_blocks[b].ff.layers[2].weight,\n",
    "            params[\"blocks\"][b][\"mlp\"][\"c_proj\"][\"w\"].T)\n",
    "        \n",
    "        gpt.trf_blocks[b].ff.layers[2].bias = assign(\n",
    "            gpt.trf_blocks[b].ff.layers[2].bias,\n",
    "            params[\"blocks\"][b][\"mlp\"][\"c_proj\"][\"b\"])\n",
    "        \n",
    "        gpt.trf_blocks[b].norm1.scale = assign(\n",
    "            gpt.trf_blocks[b].norm1.scale,\n",
    "            params[\"blocks\"][b][\"ln_1\"][\"g\"])\n",
    "        \n",
    "        gpt.trf_blocks[b].norm1.shift = assign(\n",
    "            gpt.trf_blocks[b].norm1.shift,\n",
    "            params[\"blocks\"][b][\"ln_1\"][\"b\"])\n",
    "        \n",
    "        gpt.trf_blocks[b].norm2.scale = assign(\n",
    "            gpt.trf_blocks[b].norm2.scale,\n",
    "            params[\"blocks\"][b][\"ln_2\"][\"g\"])\n",
    "        \n",
    "        gpt.trf_blocks[b].norm2.shift = assign(\n",
    "            gpt.trf_blocks[b].norm2.shift,\n",
    "            params[\"blocks\"][b][\"ln_2\"][\"b\"])\n",
    "        \n",
    "    gpt.final_norm.scale = assign(gpt.final_norm.scale, params[\"g\"])\n",
    "    gpt.final_norm.shift = assign(gpt.final_norm.shift, params[\"b\"])\n",
    "    gpt.out_head.weight  = assign(gpt.out_head.weight, params[\"wte\"])"
   ]
  },
  {
   "cell_type": "markdown",
   "id": "be79c035-798c-4e2b-bc39-20412e3ba623",
   "metadata": {},
   "source": [
    "- Here we match the weights from OpenAI’s implementation to our GPTModel implementation.\n",
    "- Example: OpenAI stored the weight tensor for the output projection layer for the first transformer block as __params[\"blocks\"][0][\"attn\"][\"c_proj\"][\"w\"]__. In our implementation, this tensor corresponds to\n",
    "__gpt.trf_blocks[b].att.out_proj.weight__, where gpt is a GPTModel instance.\n",
    "- Developing this function took a lot of guesswork - OpenAI used a slightly different naming convention from ours. However, the assign function would alert us if we try to match two tensors with different dimensions. Also, if we made a mistake in this function, we would notice this, as the resulting GPT model would be unable to produce coherent text.\n",
    "- Launch __load_weights_into_gpt__ & load the OpenAI model weights into our GPTModel instance gpt:"
   ]
  },
  {
   "cell_type": "code",
   "execution_count": 145,
   "id": "b02bd16e-443b-449d-ac7f-a53ee004f31a",
   "metadata": {},
   "outputs": [
    {
     "data": {
      "text/plain": [
       "GPTModel(\n",
       "  (tok_emb): Embedding(50257, 768)\n",
       "  (pos_emb): Embedding(1024, 768)\n",
       "  (drop_emb): Dropout(p=0.1, inplace=False)\n",
       "  (trf_blocks): Sequential(\n",
       "    (0): TransformerBlock(\n",
       "      (att): MultiHeadAttention(\n",
       "        (W_query): Linear(in_features=768, out_features=768, bias=True)\n",
       "        (W_key): Linear(in_features=768, out_features=768, bias=True)\n",
       "        (W_value): Linear(in_features=768, out_features=768, bias=True)\n",
       "        (out_proj): Linear(in_features=768, out_features=768, bias=True)\n",
       "        (dropout): Dropout(p=0.1, inplace=False)\n",
       "      )\n",
       "      (ff): FeedForward(\n",
       "        (layers): Sequential(\n",
       "          (0): Linear(in_features=768, out_features=3072, bias=True)\n",
       "          (1): GELU()\n",
       "          (2): Linear(in_features=3072, out_features=768, bias=True)\n",
       "        )\n",
       "      )\n",
       "      (norm1): LayerNorm()\n",
       "      (norm2): LayerNorm()\n",
       "      (drop_shortcut): Dropout(p=0.1, inplace=False)\n",
       "    )\n",
       "    (1): TransformerBlock(\n",
       "      (att): MultiHeadAttention(\n",
       "        (W_query): Linear(in_features=768, out_features=768, bias=True)\n",
       "        (W_key): Linear(in_features=768, out_features=768, bias=True)\n",
       "        (W_value): Linear(in_features=768, out_features=768, bias=True)\n",
       "        (out_proj): Linear(in_features=768, out_features=768, bias=True)\n",
       "        (dropout): Dropout(p=0.1, inplace=False)\n",
       "      )\n",
       "      (ff): FeedForward(\n",
       "        (layers): Sequential(\n",
       "          (0): Linear(in_features=768, out_features=3072, bias=True)\n",
       "          (1): GELU()\n",
       "          (2): Linear(in_features=3072, out_features=768, bias=True)\n",
       "        )\n",
       "      )\n",
       "      (norm1): LayerNorm()\n",
       "      (norm2): LayerNorm()\n",
       "      (drop_shortcut): Dropout(p=0.1, inplace=False)\n",
       "    )\n",
       "    (2): TransformerBlock(\n",
       "      (att): MultiHeadAttention(\n",
       "        (W_query): Linear(in_features=768, out_features=768, bias=True)\n",
       "        (W_key): Linear(in_features=768, out_features=768, bias=True)\n",
       "        (W_value): Linear(in_features=768, out_features=768, bias=True)\n",
       "        (out_proj): Linear(in_features=768, out_features=768, bias=True)\n",
       "        (dropout): Dropout(p=0.1, inplace=False)\n",
       "      )\n",
       "      (ff): FeedForward(\n",
       "        (layers): Sequential(\n",
       "          (0): Linear(in_features=768, out_features=3072, bias=True)\n",
       "          (1): GELU()\n",
       "          (2): Linear(in_features=3072, out_features=768, bias=True)\n",
       "        )\n",
       "      )\n",
       "      (norm1): LayerNorm()\n",
       "      (norm2): LayerNorm()\n",
       "      (drop_shortcut): Dropout(p=0.1, inplace=False)\n",
       "    )\n",
       "    (3): TransformerBlock(\n",
       "      (att): MultiHeadAttention(\n",
       "        (W_query): Linear(in_features=768, out_features=768, bias=True)\n",
       "        (W_key): Linear(in_features=768, out_features=768, bias=True)\n",
       "        (W_value): Linear(in_features=768, out_features=768, bias=True)\n",
       "        (out_proj): Linear(in_features=768, out_features=768, bias=True)\n",
       "        (dropout): Dropout(p=0.1, inplace=False)\n",
       "      )\n",
       "      (ff): FeedForward(\n",
       "        (layers): Sequential(\n",
       "          (0): Linear(in_features=768, out_features=3072, bias=True)\n",
       "          (1): GELU()\n",
       "          (2): Linear(in_features=3072, out_features=768, bias=True)\n",
       "        )\n",
       "      )\n",
       "      (norm1): LayerNorm()\n",
       "      (norm2): LayerNorm()\n",
       "      (drop_shortcut): Dropout(p=0.1, inplace=False)\n",
       "    )\n",
       "    (4): TransformerBlock(\n",
       "      (att): MultiHeadAttention(\n",
       "        (W_query): Linear(in_features=768, out_features=768, bias=True)\n",
       "        (W_key): Linear(in_features=768, out_features=768, bias=True)\n",
       "        (W_value): Linear(in_features=768, out_features=768, bias=True)\n",
       "        (out_proj): Linear(in_features=768, out_features=768, bias=True)\n",
       "        (dropout): Dropout(p=0.1, inplace=False)\n",
       "      )\n",
       "      (ff): FeedForward(\n",
       "        (layers): Sequential(\n",
       "          (0): Linear(in_features=768, out_features=3072, bias=True)\n",
       "          (1): GELU()\n",
       "          (2): Linear(in_features=3072, out_features=768, bias=True)\n",
       "        )\n",
       "      )\n",
       "      (norm1): LayerNorm()\n",
       "      (norm2): LayerNorm()\n",
       "      (drop_shortcut): Dropout(p=0.1, inplace=False)\n",
       "    )\n",
       "    (5): TransformerBlock(\n",
       "      (att): MultiHeadAttention(\n",
       "        (W_query): Linear(in_features=768, out_features=768, bias=True)\n",
       "        (W_key): Linear(in_features=768, out_features=768, bias=True)\n",
       "        (W_value): Linear(in_features=768, out_features=768, bias=True)\n",
       "        (out_proj): Linear(in_features=768, out_features=768, bias=True)\n",
       "        (dropout): Dropout(p=0.1, inplace=False)\n",
       "      )\n",
       "      (ff): FeedForward(\n",
       "        (layers): Sequential(\n",
       "          (0): Linear(in_features=768, out_features=3072, bias=True)\n",
       "          (1): GELU()\n",
       "          (2): Linear(in_features=3072, out_features=768, bias=True)\n",
       "        )\n",
       "      )\n",
       "      (norm1): LayerNorm()\n",
       "      (norm2): LayerNorm()\n",
       "      (drop_shortcut): Dropout(p=0.1, inplace=False)\n",
       "    )\n",
       "    (6): TransformerBlock(\n",
       "      (att): MultiHeadAttention(\n",
       "        (W_query): Linear(in_features=768, out_features=768, bias=True)\n",
       "        (W_key): Linear(in_features=768, out_features=768, bias=True)\n",
       "        (W_value): Linear(in_features=768, out_features=768, bias=True)\n",
       "        (out_proj): Linear(in_features=768, out_features=768, bias=True)\n",
       "        (dropout): Dropout(p=0.1, inplace=False)\n",
       "      )\n",
       "      (ff): FeedForward(\n",
       "        (layers): Sequential(\n",
       "          (0): Linear(in_features=768, out_features=3072, bias=True)\n",
       "          (1): GELU()\n",
       "          (2): Linear(in_features=3072, out_features=768, bias=True)\n",
       "        )\n",
       "      )\n",
       "      (norm1): LayerNorm()\n",
       "      (norm2): LayerNorm()\n",
       "      (drop_shortcut): Dropout(p=0.1, inplace=False)\n",
       "    )\n",
       "    (7): TransformerBlock(\n",
       "      (att): MultiHeadAttention(\n",
       "        (W_query): Linear(in_features=768, out_features=768, bias=True)\n",
       "        (W_key): Linear(in_features=768, out_features=768, bias=True)\n",
       "        (W_value): Linear(in_features=768, out_features=768, bias=True)\n",
       "        (out_proj): Linear(in_features=768, out_features=768, bias=True)\n",
       "        (dropout): Dropout(p=0.1, inplace=False)\n",
       "      )\n",
       "      (ff): FeedForward(\n",
       "        (layers): Sequential(\n",
       "          (0): Linear(in_features=768, out_features=3072, bias=True)\n",
       "          (1): GELU()\n",
       "          (2): Linear(in_features=3072, out_features=768, bias=True)\n",
       "        )\n",
       "      )\n",
       "      (norm1): LayerNorm()\n",
       "      (norm2): LayerNorm()\n",
       "      (drop_shortcut): Dropout(p=0.1, inplace=False)\n",
       "    )\n",
       "    (8): TransformerBlock(\n",
       "      (att): MultiHeadAttention(\n",
       "        (W_query): Linear(in_features=768, out_features=768, bias=True)\n",
       "        (W_key): Linear(in_features=768, out_features=768, bias=True)\n",
       "        (W_value): Linear(in_features=768, out_features=768, bias=True)\n",
       "        (out_proj): Linear(in_features=768, out_features=768, bias=True)\n",
       "        (dropout): Dropout(p=0.1, inplace=False)\n",
       "      )\n",
       "      (ff): FeedForward(\n",
       "        (layers): Sequential(\n",
       "          (0): Linear(in_features=768, out_features=3072, bias=True)\n",
       "          (1): GELU()\n",
       "          (2): Linear(in_features=3072, out_features=768, bias=True)\n",
       "        )\n",
       "      )\n",
       "      (norm1): LayerNorm()\n",
       "      (norm2): LayerNorm()\n",
       "      (drop_shortcut): Dropout(p=0.1, inplace=False)\n",
       "    )\n",
       "    (9): TransformerBlock(\n",
       "      (att): MultiHeadAttention(\n",
       "        (W_query): Linear(in_features=768, out_features=768, bias=True)\n",
       "        (W_key): Linear(in_features=768, out_features=768, bias=True)\n",
       "        (W_value): Linear(in_features=768, out_features=768, bias=True)\n",
       "        (out_proj): Linear(in_features=768, out_features=768, bias=True)\n",
       "        (dropout): Dropout(p=0.1, inplace=False)\n",
       "      )\n",
       "      (ff): FeedForward(\n",
       "        (layers): Sequential(\n",
       "          (0): Linear(in_features=768, out_features=3072, bias=True)\n",
       "          (1): GELU()\n",
       "          (2): Linear(in_features=3072, out_features=768, bias=True)\n",
       "        )\n",
       "      )\n",
       "      (norm1): LayerNorm()\n",
       "      (norm2): LayerNorm()\n",
       "      (drop_shortcut): Dropout(p=0.1, inplace=False)\n",
       "    )\n",
       "    (10): TransformerBlock(\n",
       "      (att): MultiHeadAttention(\n",
       "        (W_query): Linear(in_features=768, out_features=768, bias=True)\n",
       "        (W_key): Linear(in_features=768, out_features=768, bias=True)\n",
       "        (W_value): Linear(in_features=768, out_features=768, bias=True)\n",
       "        (out_proj): Linear(in_features=768, out_features=768, bias=True)\n",
       "        (dropout): Dropout(p=0.1, inplace=False)\n",
       "      )\n",
       "      (ff): FeedForward(\n",
       "        (layers): Sequential(\n",
       "          (0): Linear(in_features=768, out_features=3072, bias=True)\n",
       "          (1): GELU()\n",
       "          (2): Linear(in_features=3072, out_features=768, bias=True)\n",
       "        )\n",
       "      )\n",
       "      (norm1): LayerNorm()\n",
       "      (norm2): LayerNorm()\n",
       "      (drop_shortcut): Dropout(p=0.1, inplace=False)\n",
       "    )\n",
       "    (11): TransformerBlock(\n",
       "      (att): MultiHeadAttention(\n",
       "        (W_query): Linear(in_features=768, out_features=768, bias=True)\n",
       "        (W_key): Linear(in_features=768, out_features=768, bias=True)\n",
       "        (W_value): Linear(in_features=768, out_features=768, bias=True)\n",
       "        (out_proj): Linear(in_features=768, out_features=768, bias=True)\n",
       "        (dropout): Dropout(p=0.1, inplace=False)\n",
       "      )\n",
       "      (ff): FeedForward(\n",
       "        (layers): Sequential(\n",
       "          (0): Linear(in_features=768, out_features=3072, bias=True)\n",
       "          (1): GELU()\n",
       "          (2): Linear(in_features=3072, out_features=768, bias=True)\n",
       "        )\n",
       "      )\n",
       "      (norm1): LayerNorm()\n",
       "      (norm2): LayerNorm()\n",
       "      (drop_shortcut): Dropout(p=0.1, inplace=False)\n",
       "    )\n",
       "  )\n",
       "  (final_norm): LayerNorm()\n",
       "  (out_head): Linear(in_features=768, out_features=50257, bias=False)\n",
       ")"
      ]
     },
     "execution_count": 145,
     "metadata": {},
     "output_type": "execute_result"
    }
   ],
   "source": [
    "load_weights_into_gpt(gpt, params)\n",
    "gpt.to(device)"
   ]
  },
  {
   "cell_type": "markdown",
   "id": "0e3cc57e-71c3-4170-8b61-fa72f8d2629e",
   "metadata": {},
   "source": [
    "- If the model is loaded correctly, we can now use it to generate new text using our previous generate\n",
    "function:"
   ]
  },
  {
   "cell_type": "code",
   "execution_count": 146,
   "id": "b50cd795-807e-467a-81d8-50d2052576ce",
   "metadata": {},
   "outputs": [
    {
     "name": "stdout",
     "output_type": "stream",
     "text": [
      "Output text:\n",
      " Every effort moves you toward an equal share for each vote plus half. Inequality is often not an accurate representation of human worth; to know the\n"
     ]
    }
   ],
   "source": [
    "torch.manual_seed(123)\n",
    "token_ids = generate(\n",
    "    model          = gpt,\n",
    "    idx            = text_to_token_ids(\"Every effort moves you\", tokenizer).to(device),\n",
    "    max_new_tokens = 25,\n",
    "    context_size   = NEW_CONFIG[\"context_length\"],\n",
    "    top_k          = 50,\n",
    "    temperature    = 1.5)\n",
    "\n",
    "print(\"Output text:\\n\", token_ids_to_text(token_ids, tokenizer))"
   ]
  },
  {
   "cell_type": "markdown",
   "id": "01643abd-94db-47bc-8d3d-6c795ee7f38f",
   "metadata": {},
   "source": [
    "# 6 Finetuning for Classication"
   ]
  },
  {
   "cell_type": "markdown",
   "id": "4044704c-a56a-4934-ab69-d69c9f905a69",
   "metadata": {},
   "source": [
    "## 6.1 Different categories of finetuning\n",
    "![fig6-2](px/fig6-2.png)\n",
    "\n",
    "- The most common ways to finetune language models are __instruction-finetuning__ and __classification-\n",
    "finetuning__. Instruction-finetuning involves training a language model on a set of tasks using specific\n",
    "instructions to improve its ability to understand and execute tasks described in natural language\n",
    "prompts.\n",
    "\n",
    "- In __classification-finetuning__, the model is trained to recognize a specific set of class labels, such as \"spam\" and \"not spam.\" classification-finetuned models are __restricted to predicting classes it has encountered during its training__ — but it can't say anything else about the input text.\n",
    "\n",
    "- an __instruction-finetuned__ model typically can undertake a broader range of tasks. We can view a\n",
    "classification-finetuned model as highly specialized, and generally, it is easier to develop a\n",
    "specialized model than a generalist model that works well across various tasks."
   ]
  },
  {
   "cell_type": "markdown",
   "id": "3930ebc1-286b-4baa-a5d9-99063deed0f5",
   "metadata": {},
   "source": [
    "## 6.2 Preparing the dataset\n",
    "- To provide an intuitive and useful example of classification-finetuning, we will work with a text\n",
    "message dataset with spam and non-spam messages."
   ]
  },
  {
   "cell_type": "code",
   "execution_count": 147,
   "id": "ba02f6c3-57b8-4ae3-bd97-0975f70af752",
   "metadata": {},
   "outputs": [
    {
     "name": "stdout",
     "output_type": "stream",
     "text": [
      "sms_spam_collection/SMSSpamCollection.tsv already exists. Skipping download and extraction.\n"
     ]
    }
   ],
   "source": [
    "import urllib.request\n",
    "import zipfile\n",
    "import os\n",
    "from pathlib import Path\n",
    "\n",
    "url            = \"https://archive.ics.uci.edu/static/public/228/sms+spam+collection.zip\"\n",
    "zip_path       = \"sms_spam_collection.zip\"\n",
    "extracted_path = \"sms_spam_collection\"\n",
    "data_file_path = Path(extracted_path) / \"SMSSpamCollection.tsv\"\n",
    "\n",
    "def download_and_unzip_spam_data(url, zip_path, extracted_path, data_file_path):\n",
    "    if data_file_path.exists():\n",
    "        print(f\"{data_file_path} already exists. Skipping download and extraction.\")\n",
    "        return\n",
    "\n",
    "    with urllib.request.urlopen(url) as response:\n",
    "        with open(zip_path, \"wb\") as out_file:\n",
    "            out_file.write(response.read())\n",
    "\n",
    "    with zipfile.ZipFile(zip_path, \"r\") as zip_ref:\n",
    "        zip_ref.extractall(extracted_path)\n",
    "\n",
    "    original_file_path = Path(extracted_path) / \"SMSSpamCollection\"\n",
    "    os.rename(original_file_path, data_file_path)\n",
    "    print(f\"File downloaded and saved as {data_file_path}\")\n",
    "\n",
    "download_and_unzip_spam_data(url, zip_path, extracted_path, data_file_path)"
   ]
  },
  {
   "cell_type": "code",
   "execution_count": 148,
   "id": "e43241df-c996-4a12-b9a8-b99b9c3ec585",
   "metadata": {},
   "outputs": [
    {
     "data": {
      "text/html": [
       "<div>\n",
       "<style scoped>\n",
       "    .dataframe tbody tr th:only-of-type {\n",
       "        vertical-align: middle;\n",
       "    }\n",
       "\n",
       "    .dataframe tbody tr th {\n",
       "        vertical-align: top;\n",
       "    }\n",
       "\n",
       "    .dataframe thead th {\n",
       "        text-align: right;\n",
       "    }\n",
       "</style>\n",
       "<table border=\"1\" class=\"dataframe\">\n",
       "  <thead>\n",
       "    <tr style=\"text-align: right;\">\n",
       "      <th></th>\n",
       "      <th>Label</th>\n",
       "      <th>Text</th>\n",
       "    </tr>\n",
       "  </thead>\n",
       "  <tbody>\n",
       "    <tr>\n",
       "      <th>0</th>\n",
       "      <td>ham</td>\n",
       "      <td>Go until jurong point, crazy.. Available only ...</td>\n",
       "    </tr>\n",
       "    <tr>\n",
       "      <th>1</th>\n",
       "      <td>ham</td>\n",
       "      <td>Ok lar... Joking wif u oni...</td>\n",
       "    </tr>\n",
       "    <tr>\n",
       "      <th>2</th>\n",
       "      <td>spam</td>\n",
       "      <td>Free entry in 2 a wkly comp to win FA Cup fina...</td>\n",
       "    </tr>\n",
       "    <tr>\n",
       "      <th>3</th>\n",
       "      <td>ham</td>\n",
       "      <td>U dun say so early hor... U c already then say...</td>\n",
       "    </tr>\n",
       "    <tr>\n",
       "      <th>4</th>\n",
       "      <td>ham</td>\n",
       "      <td>Nah I don't think he goes to usf, he lives aro...</td>\n",
       "    </tr>\n",
       "    <tr>\n",
       "      <th>...</th>\n",
       "      <td>...</td>\n",
       "      <td>...</td>\n",
       "    </tr>\n",
       "    <tr>\n",
       "      <th>5567</th>\n",
       "      <td>spam</td>\n",
       "      <td>This is the 2nd time we have tried 2 contact u...</td>\n",
       "    </tr>\n",
       "    <tr>\n",
       "      <th>5568</th>\n",
       "      <td>ham</td>\n",
       "      <td>Will ü b going to esplanade fr home?</td>\n",
       "    </tr>\n",
       "    <tr>\n",
       "      <th>5569</th>\n",
       "      <td>ham</td>\n",
       "      <td>Pity, * was in mood for that. So...any other s...</td>\n",
       "    </tr>\n",
       "    <tr>\n",
       "      <th>5570</th>\n",
       "      <td>ham</td>\n",
       "      <td>The guy did some bitching but I acted like i'd...</td>\n",
       "    </tr>\n",
       "    <tr>\n",
       "      <th>5571</th>\n",
       "      <td>ham</td>\n",
       "      <td>Rofl. Its true to its name</td>\n",
       "    </tr>\n",
       "  </tbody>\n",
       "</table>\n",
       "<p>5572 rows × 2 columns</p>\n",
       "</div>"
      ],
      "text/plain": [
       "     Label                                               Text\n",
       "0      ham  Go until jurong point, crazy.. Available only ...\n",
       "1      ham                      Ok lar... Joking wif u oni...\n",
       "2     spam  Free entry in 2 a wkly comp to win FA Cup fina...\n",
       "3      ham  U dun say so early hor... U c already then say...\n",
       "4      ham  Nah I don't think he goes to usf, he lives aro...\n",
       "...    ...                                                ...\n",
       "5567  spam  This is the 2nd time we have tried 2 contact u...\n",
       "5568   ham               Will ü b going to esplanade fr home?\n",
       "5569   ham  Pity, * was in mood for that. So...any other s...\n",
       "5570   ham  The guy did some bitching but I acted like i'd...\n",
       "5571   ham                         Rofl. Its true to its name\n",
       "\n",
       "[5572 rows x 2 columns]"
      ]
     },
     "execution_count": 148,
     "metadata": {},
     "output_type": "execute_result"
    }
   ],
   "source": [
    "# load into pandas dataframe\n",
    "import pandas as pd\n",
    "df = pd.read_csv(data_file_path, sep=\"\\t\", header=None, names=[\"Label\", \"Text\"])\n",
    "df"
   ]
  },
  {
   "cell_type": "code",
   "execution_count": 150,
   "id": "88b303dd-b684-425c-8369-7a086bd4e39d",
   "metadata": {},
   "outputs": [
    {
     "name": "stdout",
     "output_type": "stream",
     "text": [
      "Label\n",
      "ham     4825\n",
      "spam     747\n",
      "Name: count, dtype: int64\n"
     ]
    }
   ],
   "source": [
    "# review the class label distribution\n",
    "print(df[\"Label\"].value_counts())"
   ]
  },
  {
   "cell_type": "markdown",
   "id": "9809a632-011e-4e19-b54f-ba028bff0774",
   "metadata": {},
   "source": [
    "- We will undersample the dataset to include 747 instances from each class for simplicity. While there are several other methods to handle class imbalances, these are beyond the scope of a book on large language models."
   ]
  },
  {
   "cell_type": "code",
   "execution_count": 151,
   "id": "5aac4eb0-bdc6-425d-84f6-be2fdbd7d988",
   "metadata": {},
   "outputs": [
    {
     "name": "stdout",
     "output_type": "stream",
     "text": [
      "Label\n",
      "ham     747\n",
      "spam    747\n",
      "Name: count, dtype: int64\n"
     ]
    }
   ],
   "source": [
    "def create_balanced_dataset(df):\n",
    "    num_spam    = df[df[\"Label\"] == \"spam\"].shape[0]\n",
    "    ham_subset  = df[df[\"Label\"] == \"ham\"].sample(\n",
    "        num_spam, \n",
    "        random_state=123)\n",
    "    balanced_df = pd.concat(\n",
    "        [ham_subset, \n",
    "         df[df[\"Label\"] == \"spam\"]])\n",
    "    return balanced_df\n",
    "balanced_df = create_balanced_dataset(df)\n",
    "print(balanced_df[\"Label\"].value_counts())"
   ]
  },
  {
   "cell_type": "code",
   "execution_count": 152,
   "id": "bdcbe332-1e09-4ce7-8d2b-895933082522",
   "metadata": {},
   "outputs": [],
   "source": [
    "# convert class labels to integers (0 and 1)\n",
    "balanced_df[\"Label\"] = balanced_df[\"Label\"].map({\"ham\": 0, \"spam\": 1})"
   ]
  },
  {
   "cell_type": "markdown",
   "id": "1fbde4cb-20b1-42cb-9333-223df846e58e",
   "metadata": {},
   "source": [
    "- This is similar to converting text into token IDs. However, instead of using the GPT vocabulary, which consists of more than 50,000 words, we are dealing with just two token IDs: 0 and 1.\n",
    "- Create a random_split function to split the dataset into three parts: 70% for training, 10% for validation, and 20% for testing. (These ratios are common in machine learning to train, adjust, and evaluate models.)"
   ]
  },
  {
   "cell_type": "code",
   "execution_count": 153,
   "id": "c3b4709e-ebc7-42e2-86c6-3eb865c306a7",
   "metadata": {},
   "outputs": [],
   "source": [
    "def random_split(df, train_frac, validation_frac):\n",
    "    df             = df.sample(frac=1, random_state=123).reset_index(drop=True) #A\n",
    "    train_end      = int(len(df) * train_frac)\n",
    "    validation_end = train_end + int(len(df) * validation_frac)\n",
    "    \n",
    "    train_df      = df[:train_end]\n",
    "    validation_df = df[train_end:validation_end]\n",
    "    test_df       = df[validation_end:]\n",
    "\n",
    "    return train_df, validation_df, test_df\n",
    "\n",
    "train_df, validation_df, test_df = random_split(balanced_df, 0.7, 0.1) #D"
   ]
  },
  {
   "cell_type": "code",
   "execution_count": 154,
   "id": "e0b4b71f-b7ac-4871-a887-f37f00e3bbce",
   "metadata": {},
   "outputs": [],
   "source": [
    "# save dataset as CSV for later reuse\n",
    "train_df.to_csv(\"train.csv\", index=None)\n",
    "validation_df.to_csv(\"validation.csv\", index=None)\n",
    "test_df.to_csv(\"test.csv\", index=None)"
   ]
  },
  {
   "cell_type": "markdown",
   "id": "933b3ba2-24c7-46ef-9b64-2b7a6466ab55",
   "metadata": {},
   "source": [
    "## 6.3 Creating data loaders\n",
    "- Previously we used a sliding window to generate uniformly sized text\n",
    "chunks, which were then grouped into batches for more efficient model training. Each chunk functioned as an individual training instance.\n",
    "- Now we are working with a spam dataset that contains text messages of\n",
    "varying lengths. To batch these messages as we did with the text chunks, we have two options:\n",
    "    1.__Truncate__ all messages to the length of the shortest message in the dataset or batch.\n",
    "    2. __Pad__ all messages to the length of the longest message in the dataset or batch.\n",
    "- Option 1 is computationally cheaper, but it may result in significant information loss if shorter messages are much smaller than the average or longest messages, potentially reducing model performance. So, we opt for the second option, which preserves the entire content of all messages.\n",
    "\n",
    "- To implement option 2, we __add padding tokens__ (\"<|endoftext|>\") to all shorter messages. Instead of appending the string \"<|endoftext|>\" to each of the text messages, we can add the corresponding token ID.\n",
    "\n",
    "- We assume 50,256 is the token ID of the padding token \"<|endoftext|>\". We can double-check that this by encoding the \"<|endoftext|>\" using the\n",
    "GPT-2 tokenizer from the tiktoken package."
   ]
  },
  {
   "cell_type": "code",
   "execution_count": 155,
   "id": "2ea7c0cd-52f5-4400-92a6-4e6fbe6fc826",
   "metadata": {},
   "outputs": [
    {
     "name": "stdout",
     "output_type": "stream",
     "text": [
      "[50256]\n"
     ]
    }
   ],
   "source": [
    "import tiktoken\n",
    "tokenizer = tiktoken.get_encoding(\"gpt2\")\n",
    "print(tokenizer.encode(\"<|endoftext|>\", allowed_special={\"<|endoftext|>\"}))"
   ]
  },
  {
   "cell_type": "markdown",
   "id": "bfbbd8cf-fe63-448b-a864-a520e4016d60",
   "metadata": {},
   "source": [
    "- We need to design a __PyTorch Dataset__, which specifies how the data is loaded and processed, before we can instantiate the data loaders.\n",
    "- Define a __SpamDataset__ class to handle several key tasks:\n",
    "    - identify the longest sequence in the training dataset\n",
    "    - encode the text messages\n",
    "    - ensure all other sequences are padded with a padding token to match the length of the longest sequence."
   ]
  },
  {
   "cell_type": "code",
   "execution_count": 156,
   "id": "d0edcb89-0778-49db-bf13-5e96c5c7a190",
   "metadata": {},
   "outputs": [],
   "source": [
    "import torch\n",
    "from torch.utils.data import Dataset\n",
    "\n",
    "class SpamDataset(Dataset):\n",
    "    def __init__(self, csv_file, tokenizer, max_length=None, pad_token_id=50256):\n",
    "        \n",
    "        self.data = pd.read_csv(csv_file)\n",
    "        \n",
    "        self.encoded_texts = [\n",
    "            tokenizer.encode(text) for text in self.data[\"Text\"]]\n",
    "\n",
    "        if max_length is None:\n",
    "            self.max_length = self._longest_encoded_length()\n",
    "        else:\n",
    "            self.max_length = max_length\n",
    "            self.encoded_texts = [\n",
    "                encoded_text[:self.max_length]\n",
    "                for encoded_text in self.encoded_texts]\n",
    "\n",
    "        self.encoded_texts = [\n",
    "            encoded_text + [pad_token_id] * (self.max_length - len(encoded_text))\n",
    "            for encoded_text in self.encoded_texts]\n",
    "        \n",
    "    def __getitem__(self, index):\n",
    "        encoded = self.encoded_texts[index]\n",
    "        label = self.data.iloc[index][\"Label\"]\n",
    "        return (\n",
    "            torch.tensor(encoded, dtype=torch.long),\n",
    "            torch.tensor(label, dtype=torch.long))\n",
    "\n",
    "    def __len__(self):\n",
    "        return len(self.data)\n",
    "\n",
    "    def _longest_encoded_length(self):\n",
    "        max_length = 0\n",
    "        for encoded_text in self.encoded_texts:\n",
    "            encoded_length = len(encoded_text)\n",
    "            if encoded_length > max_length:\n",
    "                max_length = encoded_length\n",
    "        return max_length"
   ]
  },
  {
   "cell_type": "markdown",
   "id": "6450a313-0a88-492d-95be-e3d69b9b51de",
   "metadata": {},
   "source": [
    "- __SpamDataset__ loads data from the CSV files we created earlier, tokenizes the text using the GPT-2 tokenizer from tiktoken and allows us to pad or truncate the sequences to a uniform length determined by either the longest sequence or a predefined maximum length. This ensures each\n",
    "input tensor is of the same size, which is necessary to create the batches in the training data loader we implement next:"
   ]
  },
  {
   "cell_type": "code",
   "execution_count": 157,
   "id": "6c19b026-fc41-427f-a30e-4015434d01e6",
   "metadata": {},
   "outputs": [],
   "source": [
    "train_dataset = SpamDataset(\n",
    "    csv_file=\"train.csv\",\n",
    "    max_length=None,\n",
    "    tokenizer=tokenizer)"
   ]
  },
  {
   "cell_type": "markdown",
   "id": "55d5cbd9-26ab-4bc7-8379-4c62099049e1",
   "metadata": {},
   "source": [
    "- The longest sequence length is stored in the __max_length__ attribute."
   ]
  },
  {
   "cell_type": "code",
   "execution_count": 158,
   "id": "494afd1a-c354-45d9-96ed-34fd34068038",
   "metadata": {},
   "outputs": [
    {
     "name": "stdout",
     "output_type": "stream",
     "text": [
      "120\n"
     ]
    }
   ],
   "source": [
    "print(train_dataset.max_length)"
   ]
  },
  {
   "cell_type": "markdown",
   "id": "853d9264-de64-4d1a-9e01-6497f5795980",
   "metadata": {},
   "source": [
    "- 120 tokens is a common length for text messages. The model can handle sequences of up to 1,024 tokens, given its context length limit. If your dataset includes longer texts, you can pass __max_length=1024__ when creating the training dataset.\n",
    "- Next: __pad the validation and test sets__ to match the length of the longest training sequence. Any validation and test set samples exceeding the length of the longest training example are truncated using encoded_text[:self.max_length] in the SpamDataset code we defined earlier. This truncation is optional; you could also set max_length=None for both validation\n",
    "and test sets, provided there are no sequences exceeding 1,024 tokens in these sets."
   ]
  },
  {
   "cell_type": "code",
   "execution_count": 159,
   "id": "dba52989-8ec3-41e0-8f00-3f976b7bb2d8",
   "metadata": {},
   "outputs": [],
   "source": [
    "val_dataset = SpamDataset(\n",
    "    csv_file=\"validation.csv\",\n",
    "    max_length=train_dataset.max_length,\n",
    "    tokenizer=tokenizer)\n",
    "\n",
    "test_dataset = SpamDataset(\n",
    "    csv_file=\"test.csv\",\n",
    "    max_length=train_dataset.max_length,\n",
    "    tokenizer=tokenizer)"
   ]
  },
  {
   "cell_type": "markdown",
   "id": "ab017289-d4ff-4416-bee9-cda2a143caed",
   "metadata": {},
   "source": [
    "- Using the datasets as inputs, we can instantiate the data loaders similarly to what we did in chapter\n",
    "2. However, in this case, the targets represent class labels rather than the next tokens in the text.\n",
    "For instance, choosing a batch size of 8, each batch will consist of 8 training examples of length 120\n",
    "and the corresponding class label of each example, as illustrated in figure 6.7.\n",
    "\n",
    "![fig6-7](px/fig6-7.png)\n",
    "\n",
    "- Next: Create the training, validation, and test set data loaders that load the text messages and labels in batches of size 8."
   ]
  },
  {
   "cell_type": "code",
   "execution_count": 160,
   "id": "0f82cef4-923c-47eb-a245-11c5da462a90",
   "metadata": {},
   "outputs": [],
   "source": [
    "from torch.utils.data import DataLoader\n",
    "num_workers = 0\n",
    "batch_size = 8\n",
    "torch.manual_seed(123)\n",
    "\n",
    "train_loader = DataLoader(\n",
    "    dataset=train_dataset, batch_size=batch_size, shuffle=True, num_workers=num_workers, drop_last=True)\n",
    "\n",
    "val_loader = DataLoader(\n",
    "    dataset=val_dataset,   batch_size=batch_size,               num_workers=num_workers, drop_last=False)\n",
    "\n",
    "test_loader = DataLoader(\n",
    "    dataset=test_dataset,  batch_size=batch_size,               num_workers=num_workers, drop_last=False)"
   ]
  },
  {
   "cell_type": "markdown",
   "id": "e65b504c-8e4f-4d31-a791-81fbe4a3af93",
   "metadata": {},
   "source": [
    "- Verify the data loaders are working & returning batches of the expected size - iterate over the training loader and then print the tensor dimensions of the last batch."
   ]
  },
  {
   "cell_type": "code",
   "execution_count": 163,
   "id": "c983d131-065e-47ea-b8bb-8d434ad446d5",
   "metadata": {},
   "outputs": [
    {
     "name": "stdout",
     "output_type": "stream",
     "text": [
      "Input batch dimensions: torch.Size([8, 120])\n",
      "Label batch dimensions torch.Size([8])\n",
      "Input batch dimensions: torch.Size([8, 120])\n",
      "Label batch dimensions: torch.Size([8])\n"
     ]
    }
   ],
   "source": [
    "for input_batch, target_batch in train_loader:\n",
    "    pass\n",
    "print(\"Input batch dimensions:\", input_batch.shape)\n",
    "print(\"Label batch dimensions\", target_batch.shape)\n",
    "\n",
    "print(\"Input batch dimensions:\", torch.Size([8, 120]))\n",
    "print(\"Label batch dimensions:\", torch.Size([8]))"
   ]
  },
  {
   "cell_type": "markdown",
   "id": "8da5c0d3-72cd-4d7c-9eed-5013f4743708",
   "metadata": {},
   "source": [
    "- The input batches consist of 8 training examples with 120 tokens each, as expected. The label tensor stores the class labels corresponding to the 8 training examples.\n",
    "- Verify the dataset size using the total number of batches in each dataset:"
   ]
  },
  {
   "cell_type": "code",
   "execution_count": 164,
   "id": "68442a26-108e-400f-9fe6-164b50ce178b",
   "metadata": {},
   "outputs": [
    {
     "name": "stdout",
     "output_type": "stream",
     "text": [
      "130 training batches\n",
      "19 validation batches\n",
      "38 test batches\n"
     ]
    }
   ],
   "source": [
    "print(f\"{len(train_loader)} training batches\")\n",
    "print(f\"{len(val_loader)} validation batches\")\n",
    "print(f\"{len(test_loader)} test batches\")"
   ]
  },
  {
   "cell_type": "markdown",
   "id": "cfe7ebb9-4933-422e-ae11-1d0d46c74726",
   "metadata": {},
   "source": [
    "## 6.4 Initializing a model with pretrained weights\n",
    "\n",
    "![fig6-8](px/fig6-8.png)\n",
    "\n",
    "- Reuse the configurations from chapter 5:"
   ]
  },
  {
   "cell_type": "code",
   "execution_count": 165,
   "id": "17fd49f5-b098-4bc9-ba00-ccfd73696611",
   "metadata": {},
   "outputs": [],
   "source": [
    "CHOOSE_MODEL = \"gpt2-small (124M)\"\n",
    "INPUT_PROMPT = \"Every effort moves\"\n",
    "\n",
    "BASE_CONFIG = {\n",
    "    \"vocab_size\": 50257,# Vocabulary size\n",
    "    \"context_length\": 1024,# Context length\n",
    "    \"drop_rate\": 0.0,# Dropout rate\n",
    "    \"qkv_bias\": True# Query-key-value bias\n",
    "    }\n",
    "\n",
    "model_configs = {\n",
    "    \"gpt2-small (124M)\": {\"emb_dim\": 768, \"n_layers\": 12, \"n_heads\": 12},\n",
    "    \"gpt2-medium (355M)\": {\"emb_dim\": 1024, \"n_layers\": 24, \"n_heads\": 16},\n",
    "    \"gpt2-large (774M)\": {\"emb_dim\": 1280, \"n_layers\": 36, \"n_heads\": 20},\n",
    "    \"gpt2-xl (1558M)\": {\"emb_dim\": 1600, \"n_layers\": 48, \"n_heads\": 25},\n",
    "    }\n",
    "\n",
    "BASE_CONFIG.update(model_configs[CHOOSE_MODEL])\n",
    "\n",
    "assert train_dataset.max_length <= BASE_CONFIG[\"context_length\"], (\n",
    "    f\"Dataset length {train_dataset.max_length} exceeds model's context \"\n",
    "    f\"length {BASE_CONFIG['context_length']}. Reinitialize data sets with \"\n",
    "    f\"`max_length={BASE_CONFIG['context_length']}`\"\n",
    "    )"
   ]
  },
  {
   "cell_type": "markdown",
   "id": "dd96840d-c91b-4ac4-872c-ac5f8de49179",
   "metadata": {},
   "source": [
    "- import __download_and_load_gpt2__ from __gpt_download.py__; reuse the __GPTModel__ class and\n",
    "__load_weights_into_gpt__ from chapter 5 to load the downloaded weights into the GPT model:"
   ]
  },
  {
   "cell_type": "code",
   "execution_count": 167,
   "id": "2671fe4e-b292-4bf7-aee1-778126430a5e",
   "metadata": {},
   "outputs": [
    {
     "name": "stdout",
     "output_type": "stream",
     "text": [
      "File already exists and is up-to-date: gpt2/124M/checkpoint\n",
      "File already exists and is up-to-date: gpt2/124M/encoder.json\n",
      "File already exists and is up-to-date: gpt2/124M/hparams.json\n",
      "File already exists and is up-to-date: gpt2/124M/model.ckpt.data-00000-of-00001\n",
      "File already exists and is up-to-date: gpt2/124M/model.ckpt.index\n",
      "File already exists and is up-to-date: gpt2/124M/model.ckpt.meta\n",
      "File already exists and is up-to-date: gpt2/124M/vocab.bpe\n"
     ]
    },
    {
     "data": {
      "text/plain": [
       "GPTModel(\n",
       "  (tok_emb): Embedding(50257, 768)\n",
       "  (pos_emb): Embedding(1024, 768)\n",
       "  (drop_emb): Dropout(p=0.0, inplace=False)\n",
       "  (trf_blocks): Sequential(\n",
       "    (0): TransformerBlock(\n",
       "      (att): MultiHeadAttention(\n",
       "        (W_query): Linear(in_features=768, out_features=768, bias=True)\n",
       "        (W_key): Linear(in_features=768, out_features=768, bias=True)\n",
       "        (W_value): Linear(in_features=768, out_features=768, bias=True)\n",
       "        (out_proj): Linear(in_features=768, out_features=768, bias=True)\n",
       "        (dropout): Dropout(p=0.0, inplace=False)\n",
       "      )\n",
       "      (ff): FeedForward(\n",
       "        (layers): Sequential(\n",
       "          (0): Linear(in_features=768, out_features=3072, bias=True)\n",
       "          (1): GELU()\n",
       "          (2): Linear(in_features=3072, out_features=768, bias=True)\n",
       "        )\n",
       "      )\n",
       "      (norm1): LayerNorm()\n",
       "      (norm2): LayerNorm()\n",
       "      (drop_shortcut): Dropout(p=0.0, inplace=False)\n",
       "    )\n",
       "    (1): TransformerBlock(\n",
       "      (att): MultiHeadAttention(\n",
       "        (W_query): Linear(in_features=768, out_features=768, bias=True)\n",
       "        (W_key): Linear(in_features=768, out_features=768, bias=True)\n",
       "        (W_value): Linear(in_features=768, out_features=768, bias=True)\n",
       "        (out_proj): Linear(in_features=768, out_features=768, bias=True)\n",
       "        (dropout): Dropout(p=0.0, inplace=False)\n",
       "      )\n",
       "      (ff): FeedForward(\n",
       "        (layers): Sequential(\n",
       "          (0): Linear(in_features=768, out_features=3072, bias=True)\n",
       "          (1): GELU()\n",
       "          (2): Linear(in_features=3072, out_features=768, bias=True)\n",
       "        )\n",
       "      )\n",
       "      (norm1): LayerNorm()\n",
       "      (norm2): LayerNorm()\n",
       "      (drop_shortcut): Dropout(p=0.0, inplace=False)\n",
       "    )\n",
       "    (2): TransformerBlock(\n",
       "      (att): MultiHeadAttention(\n",
       "        (W_query): Linear(in_features=768, out_features=768, bias=True)\n",
       "        (W_key): Linear(in_features=768, out_features=768, bias=True)\n",
       "        (W_value): Linear(in_features=768, out_features=768, bias=True)\n",
       "        (out_proj): Linear(in_features=768, out_features=768, bias=True)\n",
       "        (dropout): Dropout(p=0.0, inplace=False)\n",
       "      )\n",
       "      (ff): FeedForward(\n",
       "        (layers): Sequential(\n",
       "          (0): Linear(in_features=768, out_features=3072, bias=True)\n",
       "          (1): GELU()\n",
       "          (2): Linear(in_features=3072, out_features=768, bias=True)\n",
       "        )\n",
       "      )\n",
       "      (norm1): LayerNorm()\n",
       "      (norm2): LayerNorm()\n",
       "      (drop_shortcut): Dropout(p=0.0, inplace=False)\n",
       "    )\n",
       "    (3): TransformerBlock(\n",
       "      (att): MultiHeadAttention(\n",
       "        (W_query): Linear(in_features=768, out_features=768, bias=True)\n",
       "        (W_key): Linear(in_features=768, out_features=768, bias=True)\n",
       "        (W_value): Linear(in_features=768, out_features=768, bias=True)\n",
       "        (out_proj): Linear(in_features=768, out_features=768, bias=True)\n",
       "        (dropout): Dropout(p=0.0, inplace=False)\n",
       "      )\n",
       "      (ff): FeedForward(\n",
       "        (layers): Sequential(\n",
       "          (0): Linear(in_features=768, out_features=3072, bias=True)\n",
       "          (1): GELU()\n",
       "          (2): Linear(in_features=3072, out_features=768, bias=True)\n",
       "        )\n",
       "      )\n",
       "      (norm1): LayerNorm()\n",
       "      (norm2): LayerNorm()\n",
       "      (drop_shortcut): Dropout(p=0.0, inplace=False)\n",
       "    )\n",
       "    (4): TransformerBlock(\n",
       "      (att): MultiHeadAttention(\n",
       "        (W_query): Linear(in_features=768, out_features=768, bias=True)\n",
       "        (W_key): Linear(in_features=768, out_features=768, bias=True)\n",
       "        (W_value): Linear(in_features=768, out_features=768, bias=True)\n",
       "        (out_proj): Linear(in_features=768, out_features=768, bias=True)\n",
       "        (dropout): Dropout(p=0.0, inplace=False)\n",
       "      )\n",
       "      (ff): FeedForward(\n",
       "        (layers): Sequential(\n",
       "          (0): Linear(in_features=768, out_features=3072, bias=True)\n",
       "          (1): GELU()\n",
       "          (2): Linear(in_features=3072, out_features=768, bias=True)\n",
       "        )\n",
       "      )\n",
       "      (norm1): LayerNorm()\n",
       "      (norm2): LayerNorm()\n",
       "      (drop_shortcut): Dropout(p=0.0, inplace=False)\n",
       "    )\n",
       "    (5): TransformerBlock(\n",
       "      (att): MultiHeadAttention(\n",
       "        (W_query): Linear(in_features=768, out_features=768, bias=True)\n",
       "        (W_key): Linear(in_features=768, out_features=768, bias=True)\n",
       "        (W_value): Linear(in_features=768, out_features=768, bias=True)\n",
       "        (out_proj): Linear(in_features=768, out_features=768, bias=True)\n",
       "        (dropout): Dropout(p=0.0, inplace=False)\n",
       "      )\n",
       "      (ff): FeedForward(\n",
       "        (layers): Sequential(\n",
       "          (0): Linear(in_features=768, out_features=3072, bias=True)\n",
       "          (1): GELU()\n",
       "          (2): Linear(in_features=3072, out_features=768, bias=True)\n",
       "        )\n",
       "      )\n",
       "      (norm1): LayerNorm()\n",
       "      (norm2): LayerNorm()\n",
       "      (drop_shortcut): Dropout(p=0.0, inplace=False)\n",
       "    )\n",
       "    (6): TransformerBlock(\n",
       "      (att): MultiHeadAttention(\n",
       "        (W_query): Linear(in_features=768, out_features=768, bias=True)\n",
       "        (W_key): Linear(in_features=768, out_features=768, bias=True)\n",
       "        (W_value): Linear(in_features=768, out_features=768, bias=True)\n",
       "        (out_proj): Linear(in_features=768, out_features=768, bias=True)\n",
       "        (dropout): Dropout(p=0.0, inplace=False)\n",
       "      )\n",
       "      (ff): FeedForward(\n",
       "        (layers): Sequential(\n",
       "          (0): Linear(in_features=768, out_features=3072, bias=True)\n",
       "          (1): GELU()\n",
       "          (2): Linear(in_features=3072, out_features=768, bias=True)\n",
       "        )\n",
       "      )\n",
       "      (norm1): LayerNorm()\n",
       "      (norm2): LayerNorm()\n",
       "      (drop_shortcut): Dropout(p=0.0, inplace=False)\n",
       "    )\n",
       "    (7): TransformerBlock(\n",
       "      (att): MultiHeadAttention(\n",
       "        (W_query): Linear(in_features=768, out_features=768, bias=True)\n",
       "        (W_key): Linear(in_features=768, out_features=768, bias=True)\n",
       "        (W_value): Linear(in_features=768, out_features=768, bias=True)\n",
       "        (out_proj): Linear(in_features=768, out_features=768, bias=True)\n",
       "        (dropout): Dropout(p=0.0, inplace=False)\n",
       "      )\n",
       "      (ff): FeedForward(\n",
       "        (layers): Sequential(\n",
       "          (0): Linear(in_features=768, out_features=3072, bias=True)\n",
       "          (1): GELU()\n",
       "          (2): Linear(in_features=3072, out_features=768, bias=True)\n",
       "        )\n",
       "      )\n",
       "      (norm1): LayerNorm()\n",
       "      (norm2): LayerNorm()\n",
       "      (drop_shortcut): Dropout(p=0.0, inplace=False)\n",
       "    )\n",
       "    (8): TransformerBlock(\n",
       "      (att): MultiHeadAttention(\n",
       "        (W_query): Linear(in_features=768, out_features=768, bias=True)\n",
       "        (W_key): Linear(in_features=768, out_features=768, bias=True)\n",
       "        (W_value): Linear(in_features=768, out_features=768, bias=True)\n",
       "        (out_proj): Linear(in_features=768, out_features=768, bias=True)\n",
       "        (dropout): Dropout(p=0.0, inplace=False)\n",
       "      )\n",
       "      (ff): FeedForward(\n",
       "        (layers): Sequential(\n",
       "          (0): Linear(in_features=768, out_features=3072, bias=True)\n",
       "          (1): GELU()\n",
       "          (2): Linear(in_features=3072, out_features=768, bias=True)\n",
       "        )\n",
       "      )\n",
       "      (norm1): LayerNorm()\n",
       "      (norm2): LayerNorm()\n",
       "      (drop_shortcut): Dropout(p=0.0, inplace=False)\n",
       "    )\n",
       "    (9): TransformerBlock(\n",
       "      (att): MultiHeadAttention(\n",
       "        (W_query): Linear(in_features=768, out_features=768, bias=True)\n",
       "        (W_key): Linear(in_features=768, out_features=768, bias=True)\n",
       "        (W_value): Linear(in_features=768, out_features=768, bias=True)\n",
       "        (out_proj): Linear(in_features=768, out_features=768, bias=True)\n",
       "        (dropout): Dropout(p=0.0, inplace=False)\n",
       "      )\n",
       "      (ff): FeedForward(\n",
       "        (layers): Sequential(\n",
       "          (0): Linear(in_features=768, out_features=3072, bias=True)\n",
       "          (1): GELU()\n",
       "          (2): Linear(in_features=3072, out_features=768, bias=True)\n",
       "        )\n",
       "      )\n",
       "      (norm1): LayerNorm()\n",
       "      (norm2): LayerNorm()\n",
       "      (drop_shortcut): Dropout(p=0.0, inplace=False)\n",
       "    )\n",
       "    (10): TransformerBlock(\n",
       "      (att): MultiHeadAttention(\n",
       "        (W_query): Linear(in_features=768, out_features=768, bias=True)\n",
       "        (W_key): Linear(in_features=768, out_features=768, bias=True)\n",
       "        (W_value): Linear(in_features=768, out_features=768, bias=True)\n",
       "        (out_proj): Linear(in_features=768, out_features=768, bias=True)\n",
       "        (dropout): Dropout(p=0.0, inplace=False)\n",
       "      )\n",
       "      (ff): FeedForward(\n",
       "        (layers): Sequential(\n",
       "          (0): Linear(in_features=768, out_features=3072, bias=True)\n",
       "          (1): GELU()\n",
       "          (2): Linear(in_features=3072, out_features=768, bias=True)\n",
       "        )\n",
       "      )\n",
       "      (norm1): LayerNorm()\n",
       "      (norm2): LayerNorm()\n",
       "      (drop_shortcut): Dropout(p=0.0, inplace=False)\n",
       "    )\n",
       "    (11): TransformerBlock(\n",
       "      (att): MultiHeadAttention(\n",
       "        (W_query): Linear(in_features=768, out_features=768, bias=True)\n",
       "        (W_key): Linear(in_features=768, out_features=768, bias=True)\n",
       "        (W_value): Linear(in_features=768, out_features=768, bias=True)\n",
       "        (out_proj): Linear(in_features=768, out_features=768, bias=True)\n",
       "        (dropout): Dropout(p=0.0, inplace=False)\n",
       "      )\n",
       "      (ff): FeedForward(\n",
       "        (layers): Sequential(\n",
       "          (0): Linear(in_features=768, out_features=3072, bias=True)\n",
       "          (1): GELU()\n",
       "          (2): Linear(in_features=3072, out_features=768, bias=True)\n",
       "        )\n",
       "      )\n",
       "      (norm1): LayerNorm()\n",
       "      (norm2): LayerNorm()\n",
       "      (drop_shortcut): Dropout(p=0.0, inplace=False)\n",
       "    )\n",
       "  )\n",
       "  (final_norm): LayerNorm()\n",
       "  (out_head): Linear(in_features=768, out_features=50257, bias=False)\n",
       ")"
      ]
     },
     "execution_count": 167,
     "metadata": {},
     "output_type": "execute_result"
    }
   ],
   "source": [
    "from gpt_download import download_and_load_gpt2\n",
    "#from chapter05 import GPTModel, load_weights_into_gpt\n",
    "\n",
    "model_size       = CHOOSE_MODEL.split(\" \")[-1].lstrip(\"(\").rstrip(\")\")\n",
    "settings, params = download_and_load_gpt2(model_size=model_size, models_dir=\"gpt2\")\n",
    "model            = GPTModel(BASE_CONFIG)\n",
    "\n",
    "load_weights_into_gpt(model, params)\n",
    "model.eval()"
   ]
  },
  {
   "cell_type": "markdown",
   "id": "ad5cd1fe-b69d-41f8-9716-2aab6d09f417",
   "metadata": {},
   "source": [
    "- After loading the model weights into GPTModel, use the text generation utility function to ensure that the model generates coherent text:"
   ]
  },
  {
   "cell_type": "code",
   "execution_count": 168,
   "id": "8550e82a-ceeb-46f4-8193-ef62fef5aee0",
   "metadata": {},
   "outputs": [
    {
     "name": "stdout",
     "output_type": "stream",
     "text": [
      "Every effort moves you forward.\n",
      "\n",
      "The first step is to understand the importance of your work\n"
     ]
    }
   ],
   "source": [
    "#from chapter04 import generate_text_simple\n",
    "#from chapter05 import text_to_token_ids, token_ids_to_text\n",
    "\n",
    "text_1 = \"Every effort moves you\"\n",
    "token_ids = generate_text_simple(\n",
    "    model          = model,\n",
    "    idx            = text_to_token_ids(text_1, tokenizer),\n",
    "    max_new_tokens = 15,\n",
    "    context_size   = BASE_CONFIG[\"context_length\"])\n",
    "\n",
    "print(token_ids_to_text(token_ids, tokenizer))"
   ]
  },
  {
   "cell_type": "markdown",
   "id": "08180f35-b0c7-406d-8231-be86a23cf9ca",
   "metadata": {},
   "source": [
    "- Before we start finetuning the model as a spam classifier, let's see if the model can already classify spam messages by prompting it with instructions:"
   ]
  },
  {
   "cell_type": "code",
   "execution_count": 169,
   "id": "248090c2-485b-4923-855a-b55dca4367de",
   "metadata": {},
   "outputs": [
    {
     "name": "stdout",
     "output_type": "stream",
     "text": [
      "Is the following text 'spam'? Answer with 'yes' or 'no': 'You are a winner you have been specially selected to receive $1000 cash or a $2000 award.'\n",
      "\n",
      "The following text 'spam'? Answer with 'yes' or 'no': 'You are a winner\n"
     ]
    }
   ],
   "source": [
    "text_2 = (\n",
    "\"Is the following text 'spam'? Answer with 'yes' or 'no':\"\n",
    "\" 'You are a winner you have been specially\"\n",
    "\" selected to receive $1000 cash or a $2000 award.'\"\n",
    ")\n",
    "token_ids = generate_text_simple(\n",
    "    model          = model,\n",
    "    idx            = text_to_token_ids(text_2, tokenizer),\n",
    "    max_new_tokens = 23,\n",
    "    context_size   = BASE_CONFIG[\"context_length\"])\n",
    "\n",
    "print(token_ids_to_text(token_ids, tokenizer))"
   ]
  },
  {
   "cell_type": "markdown",
   "id": "61706f14-96f8-40fb-8227-b7afcff098a5",
   "metadata": {},
   "source": [
    "- The model still struggles with following instructions. This isn't a surprise - it has undergone only pretraining and lacks instruction-finetuning."
   ]
  },
  {
   "cell_type": "markdown",
   "id": "0c271190-baa7-405c-9b27-6dff9691dda8",
   "metadata": {},
   "source": [
    "## 6.5 Adding a classification head\n",
    "\n",
    "- In this section, we modify the pretrained LLM to prepare it for classification-finetuning by replacing the original output layer, which maps the hidden representation to a vocabulary of 50,257, with a __smaller output layer that maps to two classes__: 0 (\"not spam\") and 1 (\"spam\").\n",
    "\n",
    "![fig6-9](px/fig6-9.png)\n",
    "\n",
    "### OUTPUT LAYER NODES\n",
    "- We __could technically use a single output node__ since we are dealing with a binary classification task. However, this __would require modifying the loss function__. (see Reference section in appendix B.)\n",
    "- Therefore, we choose a more general approach where the number of output nodes matches the number of classes. For example,\n",
    "for a 3-class problem, such as classifying news articles as \"Technology\", \"Sports\", or \"Politics\", we would use three output nodes, and so forth.\n",
    "\n",
    "- First, let's print the model architecture via __print(model)__."
   ]
  },
  {
   "cell_type": "code",
   "execution_count": 170,
   "id": "5a616873-5292-4ebf-95d3-73d41045a5f7",
   "metadata": {},
   "outputs": [
    {
     "name": "stdout",
     "output_type": "stream",
     "text": [
      "GPTModel(\n",
      "  (tok_emb): Embedding(50257, 768)\n",
      "  (pos_emb): Embedding(1024, 768)\n",
      "  (drop_emb): Dropout(p=0.0, inplace=False)\n",
      "  (trf_blocks): Sequential(\n",
      "    (0): TransformerBlock(\n",
      "      (att): MultiHeadAttention(\n",
      "        (W_query): Linear(in_features=768, out_features=768, bias=True)\n",
      "        (W_key): Linear(in_features=768, out_features=768, bias=True)\n",
      "        (W_value): Linear(in_features=768, out_features=768, bias=True)\n",
      "        (out_proj): Linear(in_features=768, out_features=768, bias=True)\n",
      "        (dropout): Dropout(p=0.0, inplace=False)\n",
      "      )\n",
      "      (ff): FeedForward(\n",
      "        (layers): Sequential(\n",
      "          (0): Linear(in_features=768, out_features=3072, bias=True)\n",
      "          (1): GELU()\n",
      "          (2): Linear(in_features=3072, out_features=768, bias=True)\n",
      "        )\n",
      "      )\n",
      "      (norm1): LayerNorm()\n",
      "      (norm2): LayerNorm()\n",
      "      (drop_shortcut): Dropout(p=0.0, inplace=False)\n",
      "    )\n",
      "    (1): TransformerBlock(\n",
      "      (att): MultiHeadAttention(\n",
      "        (W_query): Linear(in_features=768, out_features=768, bias=True)\n",
      "        (W_key): Linear(in_features=768, out_features=768, bias=True)\n",
      "        (W_value): Linear(in_features=768, out_features=768, bias=True)\n",
      "        (out_proj): Linear(in_features=768, out_features=768, bias=True)\n",
      "        (dropout): Dropout(p=0.0, inplace=False)\n",
      "      )\n",
      "      (ff): FeedForward(\n",
      "        (layers): Sequential(\n",
      "          (0): Linear(in_features=768, out_features=3072, bias=True)\n",
      "          (1): GELU()\n",
      "          (2): Linear(in_features=3072, out_features=768, bias=True)\n",
      "        )\n",
      "      )\n",
      "      (norm1): LayerNorm()\n",
      "      (norm2): LayerNorm()\n",
      "      (drop_shortcut): Dropout(p=0.0, inplace=False)\n",
      "    )\n",
      "    (2): TransformerBlock(\n",
      "      (att): MultiHeadAttention(\n",
      "        (W_query): Linear(in_features=768, out_features=768, bias=True)\n",
      "        (W_key): Linear(in_features=768, out_features=768, bias=True)\n",
      "        (W_value): Linear(in_features=768, out_features=768, bias=True)\n",
      "        (out_proj): Linear(in_features=768, out_features=768, bias=True)\n",
      "        (dropout): Dropout(p=0.0, inplace=False)\n",
      "      )\n",
      "      (ff): FeedForward(\n",
      "        (layers): Sequential(\n",
      "          (0): Linear(in_features=768, out_features=3072, bias=True)\n",
      "          (1): GELU()\n",
      "          (2): Linear(in_features=3072, out_features=768, bias=True)\n",
      "        )\n",
      "      )\n",
      "      (norm1): LayerNorm()\n",
      "      (norm2): LayerNorm()\n",
      "      (drop_shortcut): Dropout(p=0.0, inplace=False)\n",
      "    )\n",
      "    (3): TransformerBlock(\n",
      "      (att): MultiHeadAttention(\n",
      "        (W_query): Linear(in_features=768, out_features=768, bias=True)\n",
      "        (W_key): Linear(in_features=768, out_features=768, bias=True)\n",
      "        (W_value): Linear(in_features=768, out_features=768, bias=True)\n",
      "        (out_proj): Linear(in_features=768, out_features=768, bias=True)\n",
      "        (dropout): Dropout(p=0.0, inplace=False)\n",
      "      )\n",
      "      (ff): FeedForward(\n",
      "        (layers): Sequential(\n",
      "          (0): Linear(in_features=768, out_features=3072, bias=True)\n",
      "          (1): GELU()\n",
      "          (2): Linear(in_features=3072, out_features=768, bias=True)\n",
      "        )\n",
      "      )\n",
      "      (norm1): LayerNorm()\n",
      "      (norm2): LayerNorm()\n",
      "      (drop_shortcut): Dropout(p=0.0, inplace=False)\n",
      "    )\n",
      "    (4): TransformerBlock(\n",
      "      (att): MultiHeadAttention(\n",
      "        (W_query): Linear(in_features=768, out_features=768, bias=True)\n",
      "        (W_key): Linear(in_features=768, out_features=768, bias=True)\n",
      "        (W_value): Linear(in_features=768, out_features=768, bias=True)\n",
      "        (out_proj): Linear(in_features=768, out_features=768, bias=True)\n",
      "        (dropout): Dropout(p=0.0, inplace=False)\n",
      "      )\n",
      "      (ff): FeedForward(\n",
      "        (layers): Sequential(\n",
      "          (0): Linear(in_features=768, out_features=3072, bias=True)\n",
      "          (1): GELU()\n",
      "          (2): Linear(in_features=3072, out_features=768, bias=True)\n",
      "        )\n",
      "      )\n",
      "      (norm1): LayerNorm()\n",
      "      (norm2): LayerNorm()\n",
      "      (drop_shortcut): Dropout(p=0.0, inplace=False)\n",
      "    )\n",
      "    (5): TransformerBlock(\n",
      "      (att): MultiHeadAttention(\n",
      "        (W_query): Linear(in_features=768, out_features=768, bias=True)\n",
      "        (W_key): Linear(in_features=768, out_features=768, bias=True)\n",
      "        (W_value): Linear(in_features=768, out_features=768, bias=True)\n",
      "        (out_proj): Linear(in_features=768, out_features=768, bias=True)\n",
      "        (dropout): Dropout(p=0.0, inplace=False)\n",
      "      )\n",
      "      (ff): FeedForward(\n",
      "        (layers): Sequential(\n",
      "          (0): Linear(in_features=768, out_features=3072, bias=True)\n",
      "          (1): GELU()\n",
      "          (2): Linear(in_features=3072, out_features=768, bias=True)\n",
      "        )\n",
      "      )\n",
      "      (norm1): LayerNorm()\n",
      "      (norm2): LayerNorm()\n",
      "      (drop_shortcut): Dropout(p=0.0, inplace=False)\n",
      "    )\n",
      "    (6): TransformerBlock(\n",
      "      (att): MultiHeadAttention(\n",
      "        (W_query): Linear(in_features=768, out_features=768, bias=True)\n",
      "        (W_key): Linear(in_features=768, out_features=768, bias=True)\n",
      "        (W_value): Linear(in_features=768, out_features=768, bias=True)\n",
      "        (out_proj): Linear(in_features=768, out_features=768, bias=True)\n",
      "        (dropout): Dropout(p=0.0, inplace=False)\n",
      "      )\n",
      "      (ff): FeedForward(\n",
      "        (layers): Sequential(\n",
      "          (0): Linear(in_features=768, out_features=3072, bias=True)\n",
      "          (1): GELU()\n",
      "          (2): Linear(in_features=3072, out_features=768, bias=True)\n",
      "        )\n",
      "      )\n",
      "      (norm1): LayerNorm()\n",
      "      (norm2): LayerNorm()\n",
      "      (drop_shortcut): Dropout(p=0.0, inplace=False)\n",
      "    )\n",
      "    (7): TransformerBlock(\n",
      "      (att): MultiHeadAttention(\n",
      "        (W_query): Linear(in_features=768, out_features=768, bias=True)\n",
      "        (W_key): Linear(in_features=768, out_features=768, bias=True)\n",
      "        (W_value): Linear(in_features=768, out_features=768, bias=True)\n",
      "        (out_proj): Linear(in_features=768, out_features=768, bias=True)\n",
      "        (dropout): Dropout(p=0.0, inplace=False)\n",
      "      )\n",
      "      (ff): FeedForward(\n",
      "        (layers): Sequential(\n",
      "          (0): Linear(in_features=768, out_features=3072, bias=True)\n",
      "          (1): GELU()\n",
      "          (2): Linear(in_features=3072, out_features=768, bias=True)\n",
      "        )\n",
      "      )\n",
      "      (norm1): LayerNorm()\n",
      "      (norm2): LayerNorm()\n",
      "      (drop_shortcut): Dropout(p=0.0, inplace=False)\n",
      "    )\n",
      "    (8): TransformerBlock(\n",
      "      (att): MultiHeadAttention(\n",
      "        (W_query): Linear(in_features=768, out_features=768, bias=True)\n",
      "        (W_key): Linear(in_features=768, out_features=768, bias=True)\n",
      "        (W_value): Linear(in_features=768, out_features=768, bias=True)\n",
      "        (out_proj): Linear(in_features=768, out_features=768, bias=True)\n",
      "        (dropout): Dropout(p=0.0, inplace=False)\n",
      "      )\n",
      "      (ff): FeedForward(\n",
      "        (layers): Sequential(\n",
      "          (0): Linear(in_features=768, out_features=3072, bias=True)\n",
      "          (1): GELU()\n",
      "          (2): Linear(in_features=3072, out_features=768, bias=True)\n",
      "        )\n",
      "      )\n",
      "      (norm1): LayerNorm()\n",
      "      (norm2): LayerNorm()\n",
      "      (drop_shortcut): Dropout(p=0.0, inplace=False)\n",
      "    )\n",
      "    (9): TransformerBlock(\n",
      "      (att): MultiHeadAttention(\n",
      "        (W_query): Linear(in_features=768, out_features=768, bias=True)\n",
      "        (W_key): Linear(in_features=768, out_features=768, bias=True)\n",
      "        (W_value): Linear(in_features=768, out_features=768, bias=True)\n",
      "        (out_proj): Linear(in_features=768, out_features=768, bias=True)\n",
      "        (dropout): Dropout(p=0.0, inplace=False)\n",
      "      )\n",
      "      (ff): FeedForward(\n",
      "        (layers): Sequential(\n",
      "          (0): Linear(in_features=768, out_features=3072, bias=True)\n",
      "          (1): GELU()\n",
      "          (2): Linear(in_features=3072, out_features=768, bias=True)\n",
      "        )\n",
      "      )\n",
      "      (norm1): LayerNorm()\n",
      "      (norm2): LayerNorm()\n",
      "      (drop_shortcut): Dropout(p=0.0, inplace=False)\n",
      "    )\n",
      "    (10): TransformerBlock(\n",
      "      (att): MultiHeadAttention(\n",
      "        (W_query): Linear(in_features=768, out_features=768, bias=True)\n",
      "        (W_key): Linear(in_features=768, out_features=768, bias=True)\n",
      "        (W_value): Linear(in_features=768, out_features=768, bias=True)\n",
      "        (out_proj): Linear(in_features=768, out_features=768, bias=True)\n",
      "        (dropout): Dropout(p=0.0, inplace=False)\n",
      "      )\n",
      "      (ff): FeedForward(\n",
      "        (layers): Sequential(\n",
      "          (0): Linear(in_features=768, out_features=3072, bias=True)\n",
      "          (1): GELU()\n",
      "          (2): Linear(in_features=3072, out_features=768, bias=True)\n",
      "        )\n",
      "      )\n",
      "      (norm1): LayerNorm()\n",
      "      (norm2): LayerNorm()\n",
      "      (drop_shortcut): Dropout(p=0.0, inplace=False)\n",
      "    )\n",
      "    (11): TransformerBlock(\n",
      "      (att): MultiHeadAttention(\n",
      "        (W_query): Linear(in_features=768, out_features=768, bias=True)\n",
      "        (W_key): Linear(in_features=768, out_features=768, bias=True)\n",
      "        (W_value): Linear(in_features=768, out_features=768, bias=True)\n",
      "        (out_proj): Linear(in_features=768, out_features=768, bias=True)\n",
      "        (dropout): Dropout(p=0.0, inplace=False)\n",
      "      )\n",
      "      (ff): FeedForward(\n",
      "        (layers): Sequential(\n",
      "          (0): Linear(in_features=768, out_features=3072, bias=True)\n",
      "          (1): GELU()\n",
      "          (2): Linear(in_features=3072, out_features=768, bias=True)\n",
      "        )\n",
      "      )\n",
      "      (norm1): LayerNorm()\n",
      "      (norm2): LayerNorm()\n",
      "      (drop_shortcut): Dropout(p=0.0, inplace=False)\n",
      "    )\n",
      "  )\n",
      "  (final_norm): LayerNorm()\n",
      "  (out_head): Linear(in_features=768, out_features=50257, bias=False)\n",
      ")\n"
     ]
    }
   ],
   "source": [
    "print(model)"
   ]
  },
  {
   "cell_type": "markdown",
   "id": "f04c4b71-4455-4d21-9969-cc3cdbbd6fbc",
   "metadata": {},
   "source": [
    "### FINETUNING SELECTED LAYERS VERSUS ALL LAYERS\n",
    "- Since we start with a pretrained model, __it's not necessary to finetune all model layers__. The lower layers generally capture basic language structures and semantics that are applicable across a wide range of tasks and\n",
    "datasets. Finetuning only the last layers (layers near the output), which are more specific task-specific features, can often be sufficient.\n",
    "- A __nice side effect__ is that it is computationally more efficient to finetune only a small number of layers. See more info in the __References section in appendix B__.\n",
    "\n",
    "- To get the model ready for classification-finetuning, we __first freeze the model__, (making all layers non-trainable):"
   ]
  },
  {
   "cell_type": "code",
   "execution_count": 171,
   "id": "c1197ac4-fa10-4755-96f2-ba96398db3f9",
   "metadata": {},
   "outputs": [],
   "source": [
    "for param in model.parameters():\n",
    "    param.requires_grad = False"
   ]
  },
  {
   "cell_type": "markdown",
   "id": "57482371-440a-4e33-a738-88363d1f274f",
   "metadata": {},
   "source": [
    "- replace the output layer (__model.out_head__), which originally maps the layer inputs to 50,257 dimensions (the size of the vocabulary).\n",
    "- Note: we use BASE_CONFIG[\"emb_dim\"] (768 in the \"gpt2-small (124M)\" model) to keep the code more general. This means we can also use the same code to work with the larger GPT-2 model variants."
   ]
  },
  {
   "cell_type": "code",
   "execution_count": 172,
   "id": "f4a4ebc9-f50c-4fcb-884b-3fcddedfee2a",
   "metadata": {},
   "outputs": [],
   "source": [
    "torch.manual_seed(123)\n",
    "num_classes = 2\n",
    "model.out_head = torch.nn.Linear(\n",
    "in_features=BASE_CONFIG[\"emb_dim\"],\n",
    "out_features=num_classes\n",
    ")"
   ]
  },
  {
   "cell_type": "markdown",
   "id": "15e327df-3c8c-4453-9304-9b745720e8e8",
   "metadata": {},
   "source": [
    "- This __model.out_head__ output layer has __requires_grad attribute set to True by default__ - so it's the only layer that will be updated during training.\n",
    "- Technically, training the output layer we just added is sufficient. However, as I found in experiments, __finetuning additional layers can noticeably improve the predictive performance__ of the finetuned model. (See References in appendix C.)\n",
    "- Also: __configure the last transformer block and the final LayerNorm module, which connects this block to the output layer, to be trainable__.\n",
    "\n",
    "![fig6-10](px/fig6-10.png)"
   ]
  },
  {
   "cell_type": "code",
   "execution_count": 173,
   "id": "81c33471-f41b-4ab6-b661-27b6e659bd8c",
   "metadata": {},
   "outputs": [],
   "source": [
    "for param in model.trf_blocks[-1].parameters():\n",
    "    param.requires_grad = True\n",
    "for param in model.final_norm.parameters():\n",
    "    param.requires_grad = True"
   ]
  },
  {
   "cell_type": "markdown",
   "id": "763aae16-d5a3-499c-9319-a8363cee3f6d",
   "metadata": {},
   "source": [
    "- Even though we added a new output layer and marked certain layers as trainable or non-trainable, we can still use this model in a similar way to previous chapters. The code encodes the inputs into a tensor of 4 input tokens:"
   ]
  },
  {
   "cell_type": "code",
   "execution_count": 174,
   "id": "999145c8-9b65-432d-80a0-23a86e5d0cda",
   "metadata": {},
   "outputs": [
    {
     "name": "stdout",
     "output_type": "stream",
     "text": [
      "Inputs: tensor([[5211,  345,  423,  640]])\n",
      "Inputs dimensions: torch.Size([1, 4])\n"
     ]
    }
   ],
   "source": [
    "inputs = tokenizer.encode(\"Do you have time\")\n",
    "inputs = torch.tensor(inputs).unsqueeze(0)\n",
    "print(\"Inputs:\", inputs)\n",
    "print(\"Inputs dimensions:\", inputs.shape) # shape: (batch_size, num_tokens)"
   ]
  },
  {
   "cell_type": "markdown",
   "id": "65a374ad-38d1-4c19-af29-4395296963e7",
   "metadata": {},
   "source": [
    "- Pass the encoded token IDs to the model as usual:"
   ]
  },
  {
   "cell_type": "code",
   "execution_count": 175,
   "id": "fb8dada5-98bf-4dbf-af96-9d51d361edbb",
   "metadata": {},
   "outputs": [
    {
     "name": "stdout",
     "output_type": "stream",
     "text": [
      "Outputs:\n",
      " tensor([[[-1.5854,  0.9904],\n",
      "         [-3.7235,  7.4548],\n",
      "         [-2.2661,  6.6049],\n",
      "         [-3.5983,  3.9902]]])\n",
      "Outputs dimensions: torch.Size([1, 4, 2])\n"
     ]
    }
   ],
   "source": [
    "with torch.no_grad():\n",
    "    outputs = model(inputs)\n",
    "print(\"Outputs:\\n\", outputs)\n",
    "print(\"Outputs dimensions:\", outputs.shape) # shape: (batch_size, num_tokens, num_classes)"
   ]
  },
  {
   "cell_type": "markdown",
   "id": "12ee9ea4-0954-4e75-953e-4b0f4460d90a",
   "metadata": {},
   "source": [
    "- Previously a similar input would have produced an output tensor of [1, 4, 50257], where 50,257 represents the vocabulary size.\n",
    "- The number of output rows corresponds to the number of input tokens (in this case, 4).\n",
    "- However, each output's embedding dimension (the number of columns) is 2 instead of 50,257 since we replaced the output layer.\n",
    "- Remember we want to finetune this model so that it returns a spam/not spam class label. We don't need to finetune all\n",
    "4 output rows but can focus on a single output token.\n",
    "- Extract the last output token:"
   ]
  },
  {
   "cell_type": "code",
   "execution_count": 176,
   "id": "cbc3c1b9-1025-4c22-b520-5a2656e6b5c9",
   "metadata": {},
   "outputs": [
    {
     "name": "stdout",
     "output_type": "stream",
     "text": [
      "Last output token: tensor([[-3.5983,  3.9902]])\n"
     ]
    }
   ],
   "source": [
    "print(\"Last output token:\", outputs[:, -1, :])"
   ]
  },
  {
   "cell_type": "markdown",
   "id": "cc039eff-c61b-4459-858a-8627f8f10ced",
   "metadata": {},
   "source": [
    "- Why we are interested in the last output token, and not the 1st, 2nd, or 3rd output tokens?\n",
    "- Recall how attention mechanism establishes a relationship between each input token and every other input token. We then introduced the __causal attention mask__, commonly used in GPT-like models. It restricts a token's focus to only its current position and those before it, ensuring that each token can only be influenced by itself and preceding tokens.\n",
    "\n",
    "![fig6-12](px/fig6-12.png)\n",
    "\n",
    "- Given this setup, the last token in a sequence accumulates the most information since __it is the only token with access to data from all the previous tokens__."
   ]
  },
  {
   "cell_type": "markdown",
   "id": "64dcca80-61ff-4170-b149-452f80e15668",
   "metadata": {},
   "source": [
    "## 6.6 Calculating the classification loss and accuracy\n",
    "- We previously computed the token ID of the next token generated by the LLM by converting the 50,257 outputs into probabilities via __softmax__, then returning the position of the highest probability via __argmax__. We'll take the same approach to calculate whether the model outputs a \"spam\" or \"not spam\" prediction using 2-dimensional outputs instead of 50,257-dimensional outputs.\n",
    "- Consider the last token output from above:"
   ]
  },
  {
   "cell_type": "code",
   "execution_count": 177,
   "id": "02513f11-84a0-478b-a602-f312b05cbabd",
   "metadata": {},
   "outputs": [
    {
     "name": "stdout",
     "output_type": "stream",
     "text": [
      "Last output token: tensor([[-3.5983,  3.9902]])\n"
     ]
    }
   ],
   "source": [
    "print(\"Last output token:\", outputs[:, -1, :])"
   ]
  },
  {
   "cell_type": "markdown",
   "id": "e2331cf0-670f-49a0-b8f8-544204c7e89d",
   "metadata": {},
   "source": [
    "- Corresponding class label:"
   ]
  },
  {
   "cell_type": "code",
   "execution_count": 178,
   "id": "1061954b-d65d-4564-8b65-08aaa1932cff",
   "metadata": {},
   "outputs": [
    {
     "name": "stdout",
     "output_type": "stream",
     "text": [
      "Class label: 1\n"
     ]
    }
   ],
   "source": [
    "probas = torch.softmax(outputs[:, -1, :], dim=-1)\n",
    "label = torch.argmax(probas)\n",
    "print(\"Class label:\", label.item())"
   ]
  },
  {
   "cell_type": "markdown",
   "id": "2f1887b5-ed28-4ffd-91f2-d9913b5e7086",
   "metadata": {},
   "source": [
    "- 1 indicates the model predicts that the input text is \"spam.\" Softmax is optional because the largest outputs directly correspond to the highest probability scores. Hence, we can simplify the code as follows, without softmax:"
   ]
  },
  {
   "cell_type": "code",
   "execution_count": 179,
   "id": "79f57625-947c-4f22-94fd-d504bb0028fb",
   "metadata": {},
   "outputs": [
    {
     "name": "stdout",
     "output_type": "stream",
     "text": [
      "Class label: 1\n"
     ]
    }
   ],
   "source": [
    "logits = outputs[:, -1, :]\n",
    "label = torch.argmax(logits)\n",
    "print(\"Class label:\", label.item())"
   ]
  },
  {
   "cell_type": "markdown",
   "id": "474a384e-a074-484b-a6ef-3a4b9027da0a",
   "metadata": {},
   "source": [
    "- To find __classification accuracy__ (the pct of correct predictions across a dataset), we apply the argmax-based prediction code to all examples in the dataset and calculate the proportion of correct predictions with a __calc_accuracy_loader__ utility:"
   ]
  },
  {
   "cell_type": "code",
   "execution_count": 180,
   "id": "c6f04feb-255b-46b2-a1d4-ef253cd1f6da",
   "metadata": {},
   "outputs": [],
   "source": [
    "def calc_accuracy_loader(data_loader, model, device, num_batches=None):\n",
    "    model.eval()\n",
    "    correct_predictions, num_examples = 0, 0\n",
    "\n",
    "    if num_batches is None:\n",
    "        num_batches = len(data_loader)\n",
    "    else:\n",
    "        num_batches = min(num_batches, len(data_loader))\n",
    "\n",
    "    for i, (input_batch, target_batch) in enumerate(data_loader):\n",
    "        if i < num_batches:\n",
    "            input_batch, target_batch = input_batch.to(device), target_batch.to(device)\n",
    "\n",
    "            with torch.no_grad():\n",
    "                logits = model(input_batch)[:, -1, :] # logits of the last output token\n",
    "            predicted_labels = torch.argmax(logits, dim=-1)\n",
    "\n",
    "            num_examples        += predicted_labels.shape[0]\n",
    "            correct_predictions += (predicted_labels == target_batch).sum().item()\n",
    "        else:\n",
    "            break\n",
    "    return correct_predictions / num_examples"
   ]
  },
  {
   "cell_type": "markdown",
   "id": "cd64e92a-26b6-497e-a3a2-99da5c9e9f61",
   "metadata": {},
   "source": [
    "- use the utility to find classification accuracies across various datasets estimated from 10 batches for efficiency:"
   ]
  },
  {
   "cell_type": "code",
   "execution_count": 181,
   "id": "a5d3cf8e-5208-433c-9ed5-9ea453d0a6f4",
   "metadata": {},
   "outputs": [
    {
     "name": "stdout",
     "output_type": "stream",
     "text": [
      "Training accuracy: 46.25%\n",
      "Validation accuracy: 45.00%\n",
      "Test accuracy: 48.75%\n"
     ]
    }
   ],
   "source": [
    "device = torch.device(\"cuda\" if torch.cuda.is_available() else \"cpu\")\n",
    "model.to(device)\n",
    "\n",
    "torch.manual_seed(123)\n",
    "\n",
    "train_accuracy = calc_accuracy_loader(train_loader, model, device, num_batches=10)\n",
    "val_accuracy   = calc_accuracy_loader(  val_loader, model, device, num_batches=10)\n",
    "test_accuracy  = calc_accuracy_loader( test_loader, model, device, num_batches=10)\n",
    "\n",
    "print(f\"Training accuracy: {train_accuracy*100:.2f}%\")\n",
    "print(f\"Validation accuracy: {val_accuracy*100:.2f}%\")\n",
    "print(f\"Test accuracy: {test_accuracy*100:.2f}%\")"
   ]
  },
  {
   "cell_type": "markdown",
   "id": "d62a37a4-932a-4e98-b254-9df1d73f0d76",
   "metadata": {},
   "source": [
    "- The prediction accuracies are near-random (50% in this case).\n",
    "- Before finetuning we need to define the loss function that we will optimize during training. Our objective is to maximize the spam classification accuracy, which means that the preceding code should output correct class labels: 0 for non-spam and 1 for spam texts.\n",
    "- __Classification accuracy is not a differentiable function__, so we use __cross entropy loss__ as a proxy to maximize accuracy. The __calc_loss_batch__ function remains the same as in chapter 5, with one adjustment: we focus on optimizing only the last token, model(input_batch)[:, -1, :], rather than all tokens model(input_batch):"
   ]
  },
  {
   "cell_type": "code",
   "execution_count": 183,
   "id": "6068a35a-36f1-43ee-9eb5-30b1d59ad8df",
   "metadata": {},
   "outputs": [],
   "source": [
    "def calc_loss_batch(input_batch, target_batch, model, device):\n",
    "    input_batch, target_batch = input_batch.to(device), target_batch.to(device)\n",
    "    logits                    = model(input_batch)[:, -1, :]\n",
    "    loss                      = torch.nn.functional.cross_entropy(logits, target_batch)\n",
    "    return loss"
   ]
  },
  {
   "cell_type": "markdown",
   "id": "c437b409-f0ae-49ea-8f70-45189ccd04d7",
   "metadata": {},
   "source": [
    "- __calc_loss_batch__ finds the loss for a single batch obtained from the data loaders.\n",
    "- __calc_loss_loader__ finds the loss for all batches in a data loader."
   ]
  },
  {
   "cell_type": "code",
   "execution_count": 186,
   "id": "930210c7-7fa0-4f70-894a-ed85a1d1355b",
   "metadata": {},
   "outputs": [
    {
     "name": "stdout",
     "output_type": "stream",
     "text": [
      "Training loss: 2.194\n",
      "Validation loss: 2.583\n",
      "Test loss: 2.322\n"
     ]
    }
   ],
   "source": [
    "def calc_loss_loader(data_loader, model, device, num_batches=None):\n",
    "    total_loss = 0.\n",
    "    if len(data_loader) == 0:\n",
    "        return float(\"nan\")\n",
    "    elif num_batches is None:\n",
    "        num_batches = len(data_loader)\n",
    "    else:\n",
    "        num_batches = min(num_batches, len(data_loader))\n",
    "    \n",
    "    for i, (input_batch, target_batch) in enumerate(data_loader):\n",
    "        if i < num_batches:\n",
    "            loss        = calc_loss_batch(input_batch, target_batch, model, device)\n",
    "            total_loss += loss.item()\n",
    "        else:\n",
    "            break\n",
    "    return total_loss / num_batches\n",
    "\n",
    "# compute the initial loss for each data set:\n",
    "with torch.no_grad():\n",
    "    train_loss = calc_loss_loader(train_loader, model, device, num_batches=5)\n",
    "    val_loss   = calc_loss_loader(  val_loader, model, device, num_batches=5)\n",
    "    test_loss  = calc_loss_loader( test_loader, model, device, num_batches=5)\n",
    "\n",
    "print(f\"Training loss: {train_loss:.3f}\")\n",
    "print(f\"Validation loss: {val_loss:.3f}\")\n",
    "print(f\"Test loss: {test_loss:.3f}\")"
   ]
  },
  {
   "cell_type": "markdown",
   "id": "97588929-2dfe-498c-9952-5bec3fd6160c",
   "metadata": {},
   "source": [
    "## 6.7 Finetuning the model on supervised data\n",
    "- The training loop is the same as in chapter 5. The difference being that we find the __classification\n",
    "accuracy__ instead of generating a sample text for evaluating the model.\n",
    "- Track the number of training examples instead of the number of tokens. Find the accuracy after each epoch."
   ]
  },
  {
   "cell_type": "code",
   "execution_count": 188,
   "id": "188c73e8-3cf1-4bd3-8f75-48e0f8189c7b",
   "metadata": {},
   "outputs": [],
   "source": [
    "def train_classifier_simple(\n",
    "    model, train_loader, val_loader, optimizer, device,\n",
    "    num_epochs, eval_freq, eval_iter, tokenizer):\n",
    "    \n",
    "    # Initialize lists to track losses and examples seen\n",
    "    train_losses, val_losses, train_accs, val_accs = [], [], [], []\n",
    "    examples_seen, global_step                     = 0, -1\n",
    "\n",
    "    # Main training loop\n",
    "    for epoch in range(num_epochs):\n",
    "        model.train()\n",
    "\n",
    "        for input_batch, target_batch in train_loader:\n",
    "            optimizer.zero_grad()\n",
    "            loss = calc_loss_batch(input_batch, target_batch, model, device)\n",
    "            loss.backward()\n",
    "            optimizer.step()\n",
    "            examples_seen += input_batch.shape[0]\n",
    "            global_step += 1\n",
    "    \n",
    "            if global_step % eval_freq == 0:\n",
    "                train_loss, val_loss = evaluate_model(model, train_loader, val_loader, device, eval_iter)\n",
    "                train_losses.append(train_loss)\n",
    "                val_losses.append(val_loss)\n",
    "                print(f\"Ep {epoch+1} (Step {global_step:06d}): \"\n",
    "                    f\"Train loss {train_loss:.3f}, Val loss {val_loss:.3f}\")\n",
    "\n",
    "        train_accuracy = calc_accuracy_loader(train_loader, model, device, num_batches=eval_iter)\n",
    "        val_accuracy   = calc_accuracy_loader(  val_loader, model, device, num_batches=eval_iter)\n",
    "        print(f\"Training accuracy: {train_accuracy*100:.2f}% | \", end=\"\")\n",
    "        print(f\"Validation accuracy: {val_accuracy*100:.2f}%\")\n",
    "        train_accs.append(train_accuracy)\n",
    "        val_accs.append(val_accuracy)\n",
    "\n",
    "    return train_losses, val_losses, train_accs, val_accs, examples_seen\n"
   ]
  },
  {
   "cell_type": "markdown",
   "id": "7ef93303-045c-4fcd-a55f-1e13768c9c9e",
   "metadata": {},
   "source": [
    "- __evaluate_model__ is identical to that used in chap 5."
   ]
  },
  {
   "cell_type": "code",
   "execution_count": 189,
   "id": "b6d4ab3c-6466-4937-94f4-0cacb6f649a2",
   "metadata": {},
   "outputs": [],
   "source": [
    "def evaluate_model(model, train_loader, val_loader, device, eval_iter):\n",
    "    model.eval()\n",
    "    with torch.no_grad():\n",
    "        train_loss = calc_loss_loader(train_loader, model, device, num_batches=eval_iter)\n",
    "        val_loss   = calc_loss_loader(  val_loader, model, device, num_batches=eval_iter)\n",
    "    model.train()\n",
    "    return train_loss, val_loss"
   ]
  },
  {
   "cell_type": "markdown",
   "id": "bfe3bd63-3b38-4db9-bfdb-4464bd8d4d1b",
   "metadata": {},
   "source": [
    "- Initialize the optimizer, set the number of training epochs, and start training with __train_classifier_simple__.\n",
    "- The training takes about 6 minutes on an M3 MacBook Air laptop computer and less than half a minute on a V100 or A100 GPU:"
   ]
  },
  {
   "cell_type": "code",
   "execution_count": 190,
   "id": "bb3c0393-4d85-4aeb-a25f-2564441f40dc",
   "metadata": {},
   "outputs": [
    {
     "name": "stdout",
     "output_type": "stream",
     "text": [
      "Ep 1 (Step 000000): Train loss 2.153, Val loss 2.392\n",
      "Ep 1 (Step 000050): Train loss 0.617, Val loss 0.637\n",
      "Ep 1 (Step 000100): Train loss 0.523, Val loss 0.557\n",
      "Training accuracy: 70.00% | Validation accuracy: 72.50%\n",
      "Ep 2 (Step 000150): Train loss 0.561, Val loss 0.489\n",
      "Ep 2 (Step 000200): Train loss 0.419, Val loss 0.397\n",
      "Ep 2 (Step 000250): Train loss 0.409, Val loss 0.353\n",
      "Training accuracy: 82.50% | Validation accuracy: 85.00%\n",
      "Ep 3 (Step 000300): Train loss 0.333, Val loss 0.320\n",
      "Ep 3 (Step 000350): Train loss 0.340, Val loss 0.306\n",
      "Training accuracy: 90.00% | Validation accuracy: 90.00%\n",
      "Ep 4 (Step 000400): Train loss 0.136, Val loss 0.200\n",
      "Ep 4 (Step 000450): Train loss 0.153, Val loss 0.132\n",
      "Ep 4 (Step 000500): Train loss 0.222, Val loss 0.137\n",
      "Training accuracy: 100.00% | Validation accuracy: 97.50%\n",
      "Ep 5 (Step 000550): Train loss 0.207, Val loss 0.143\n",
      "Ep 5 (Step 000600): Train loss 0.083, Val loss 0.074\n",
      "Training accuracy: 100.00% | Validation accuracy: 97.50%\n",
      "Training completed in 11.49 minutes.\n"
     ]
    }
   ],
   "source": [
    "import time\n",
    "start_time = time.time()\n",
    "torch.manual_seed(123)\n",
    "\n",
    "optimizer = torch.optim.AdamW(model.parameters(), lr=5e-5, weight_decay=0.1)\n",
    "num_epochs = 5\n",
    "\n",
    "train_losses, val_losses, train_accs, val_accs, examples_seen = train_classifier_simple(\n",
    "    model, train_loader, val_loader, optimizer, device, num_epochs=num_epochs, eval_freq=50, eval_iter=5, tokenizer=tokenizer)\n",
    "\n",
    "end_time = time.time()\n",
    "execution_time_minutes = (end_time - start_time) / 60\n",
    "print(f\"Training completed in {execution_time_minutes:.2f} minutes.\")"
   ]
  },
  {
   "cell_type": "markdown",
   "id": "42d95a53-feec-4e16-a9a5-303f1c9e454f",
   "metadata": {},
   "source": [
    "- plot the loss function for the training and validation set:"
   ]
  },
  {
   "cell_type": "code",
   "execution_count": 192,
   "id": "42f14b03-0243-4738-ae56-e89c6c0bccae",
   "metadata": {},
   "outputs": [
    {
     "data": {
      "image/png": "[encoded data removed]",
      "text/plain": [
       "<Figure size 500x300 with 2 Axes>"
      ]
     },
     "metadata": {},
     "output_type": "display_data"
    }
   ],
   "source": [
    "import matplotlib.pyplot as plt\n",
    "\n",
    "def plot_values(epochs_seen, examples_seen, train_values, val_values, label=\"loss\"):\n",
    "    fig, ax1 = plt.subplots(figsize=(5, 3))\n",
    "    ax1.plot(epochs_seen, train_values, label=f\"Training {label}\")\n",
    "    ax1.plot(epochs_seen, val_values, linestyle=\"-.\", label=f\"Validation {label}\")\n",
    "    ax1.set_xlabel(\"Epochs\")\n",
    "    ax1.set_ylabel(label.capitalize())\n",
    "    ax1.legend()\n",
    "\n",
    "    ax2 = ax1.twiny()\n",
    "    ax2.plot(examples_seen, train_values, alpha=0)\n",
    "    ax2.set_xlabel(\"Examples seen\")\n",
    "    fig.tight_layout()\n",
    "    plt.savefig(f\"{label}-plot.pdf\")\n",
    "    plt.show()\n",
    "\n",
    "epochs_tensor        = torch.linspace(0, num_epochs,    len(train_losses))\n",
    "examples_seen_tensor = torch.linspace(0, examples_seen, len(train_losses))\n",
    "\n",
    "plot_values(epochs_tensor, examples_seen_tensor, train_losses, val_losses)"
   ]
  },
  {
   "cell_type": "markdown",
   "id": "3a75a15f-2b34-4653-acda-c2efe83ae26e",
   "metadata": {},
   "source": [
    "- conclusion: the model is learning well from the training data, and there is little indication of overfitting (no noticeable gap\n",
    "between the training and validation set losses).\n",
    "- Using the same plot_values function, let's now also plot the classification accuracies."
   ]
  },
  {
   "cell_type": "code",
   "execution_count": 193,
   "id": "7a2b9a0e-7db1-41cd-b27c-35533aa26993",
   "metadata": {},
   "outputs": [
    {
     "data": {
      "image/png": "[encoded data removed]",
      "text/plain": [
       "<Figure size 500x300 with 2 Axes>"
      ]
     },
     "metadata": {},
     "output_type": "display_data"
    }
   ],
   "source": [
    "epochs_tensor = torch.linspace(0, num_epochs, len(train_accs))\n",
    "examples_seen_tensor = torch.linspace(0, examples_seen, len(train_accs))\n",
    "plot_values(epochs_tensor, examples_seen_tensor, train_accs, val_accs, label=\"accuracy\")"
   ]
  },
  {
   "cell_type": "markdown",
   "id": "0fc5fd9e-731d-41c3-97b6-befc54c20d5f",
   "metadata": {},
   "source": [
    "- conclusion: the model achieves a relatively high training and validation accuracy after epochs 4 and 5.\n",
    "- However, we previously set eval_iter=5 when using __train_classifier_simple__, so our estimations of training and validation\n",
    "performance were based on only 5 batches.\n",
    "- Next: calculate performance metrics for the training, validation, and test sets across the entire dataset."
   ]
  },
  {
   "cell_type": "code",
   "execution_count": 194,
   "id": "26f72d49-b5f5-4cad-904f-b5f5dc7217df",
   "metadata": {},
   "outputs": [
    {
     "name": "stdout",
     "output_type": "stream",
     "text": [
      "Training accuracy: 97.21%\n",
      "Validation accuracy: 97.32%\n",
      "Test accuracy: 95.67%\n"
     ]
    }
   ],
   "source": [
    "train_accuracy = calc_accuracy_loader(train_loader, model, device)\n",
    "val_accuracy = calc_accuracy_loader(val_loader, model, device)\n",
    "test_accuracy = calc_accuracy_loader(test_loader, model, device)\n",
    "\n",
    "print(f\"Training accuracy: {train_accuracy*100:.2f}%\")\n",
    "print(f\"Validation accuracy: {val_accuracy*100:.2f}%\")\n",
    "print(f\"Test accuracy: {test_accuracy*100:.2f}%\")"
   ]
  },
  {
   "cell_type": "markdown",
   "id": "6e2c007d-0b03-4b11-9b80-4da553838cad",
   "metadata": {},
   "source": [
    "- conclusion: training and test set performances are almost identical. A slight discrepancy between the training and test set accuracies suggests minimal overfitting. Typically, the validation set accuracy is somewhat higher than the test set\n",
    "accuracy because the model development often involves tuning hyperparameters to perform well on the validation set, which might not generalize as effectively to the test set.\n",
    "- This situation is common, but the gap could possibly be minimized by adjusting the model's settings, such as increasing the dropout rate (drop_rate) or the weight_decay parameter in the optimizer configuration."
   ]
  },
  {
   "cell_type": "markdown",
   "id": "9c062e16-ebb0-4241-a4e0-a0c28f1957b1",
   "metadata": {},
   "source": [
    "## 6.8 Using the LLM as a spam classifier\n",
    "- Use the finetuned GPT-based spam classification model. __classify_review__ follows data preprocessing steps similar to those we used in the SpamDataset. After converting text into token IDs, the function uses the model to predict an integer class label & returns the corresponding class name."
   ]
  },
  {
   "cell_type": "code",
   "execution_count": 195,
   "id": "991b827f-d796-4dfa-bd3c-29ea3ebc5cfd",
   "metadata": {},
   "outputs": [],
   "source": [
    "def classify_review(text, model, tokenizer, device, max_length=None, pad_token_id=50256):\n",
    "    model.eval()\n",
    "    input_ids                = tokenizer.encode(text)\n",
    "    supported_context_length = model.pos_emb.weight.shape[1]\n",
    "    input_ids                = input_ids[:min(max_length, supported_context_length)] #B\n",
    "    input_ids               += [pad_token_id] * (max_length - len(input_ids))\n",
    "    input_tensor             = torch.tensor(input_ids, device=device).unsqueeze(0) #D\n",
    "    with torch.no_grad():\n",
    "        logits = model(input_tensor)[:, -1, :]\n",
    "    \n",
    "    predicted_label = torch.argmax(logits, dim=-1).item()\n",
    "    \n",
    "    return \"spam\" if predicted_label == 1 else \"not spam\""
   ]
  },
  {
   "cell_type": "code",
   "execution_count": 196,
   "id": "67c09418-e590-4414-9210-6d273fb61310",
   "metadata": {},
   "outputs": [
    {
     "name": "stdout",
     "output_type": "stream",
     "text": [
      "spam\n"
     ]
    }
   ],
   "source": [
    "text_1 = (\n",
    "\"You are a winner you have been specially\"\n",
    "\" selected to receive $1000 cash or a $2000 award.\"\n",
    ")\n",
    "print(classify_review(\n",
    "    text_1, model, tokenizer, device, max_length=train_dataset.max_length))"
   ]
  },
  {
   "cell_type": "code",
   "execution_count": 197,
   "id": "aa571bd1-cb79-47e7-a7e9-6351411427cd",
   "metadata": {},
   "outputs": [
    {
     "name": "stdout",
     "output_type": "stream",
     "text": [
      "not spam\n"
     ]
    }
   ],
   "source": [
    "text_2 = (\n",
    "\"Hey, just wanted to check if we're still on\"\n",
    "\" for dinner tonight? Let me know!\"\n",
    ")\n",
    "print(classify_review(\n",
    "    text_2, model, tokenizer, device, max_length=train_dataset.max_length))"
   ]
  },
  {
   "cell_type": "code",
   "execution_count": 198,
   "id": "3322a5be-ce30-473b-9845-516880956f38",
   "metadata": {},
   "outputs": [],
   "source": [
    "# save for later\n",
    "torch.save(model.state_dict(), \"review_classifier.pth\")"
   ]
  },
  {
   "cell_type": "code",
   "execution_count": 199,
   "id": "c5530230-eb5d-497f-b322-6814ae4fcfd5",
   "metadata": {},
   "outputs": [
    {
     "data": {
      "text/plain": [
       "<All keys matched successfully>"
      ]
     },
     "execution_count": 199,
     "metadata": {},
     "output_type": "execute_result"
    }
   ],
   "source": [
    "# then reload\n",
    "model_state_dict = torch.load(\"review_classifier.pth\")\n",
    "model.load_state_dict(model_state_dict)"
   ]
  },
  {
   "cell_type": "markdown",
   "id": "182c8d56-85c5-41a9-bfb8-78203899edee",
   "metadata": {},
   "source": [
    "# 7 Finetuning to Follow Instructions\n",
    "- TODO\n",
    "# Appendix A. Introduction to PyTorch\n",
    "- TODO\n",
    "# Appendix B. References and Further Reading\n",
    "- TODO\n",
    "# Appendix C. Exercise Solutions\n",
    "- TODO\n",
    "# Appendix D. Adding Bells and Whistles to the Training Loop\n",
    "- TODO\n",
    "# Appendix E. Parameter-ecient Finetuning with LoRA\n",
    "- TODO"
   ]
  }
 ],
 "metadata": {
  "kernelspec": {
   "display_name": "Python 3 (ipykernel)",
   "language": "python",
   "name": "python3"
  },
  "language_info": {
   "codemirror_mode": {
    "name": "ipython",
    "version": 3
   },
   "file_extension": ".py",
   "mimetype": "text/x-python",
   "name": "python",
   "nbconvert_exporter": "python",
   "pygments_lexer": "ipython3",
   "version": "3.12.3"
  }
 },
 "nbformat": 4,
 "nbformat_minor": 5
}
